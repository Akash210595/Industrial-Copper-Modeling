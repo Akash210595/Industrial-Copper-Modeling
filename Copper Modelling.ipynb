{
 "cells": [
  {
   "cell_type": "markdown",
   "id": "ac09b54f",
   "metadata": {},
   "source": [
    "# IMPORTING Needed Packages :"
   ]
  },
  {
   "cell_type": "code",
   "execution_count": 151,
   "id": "adeda223",
   "metadata": {},
   "outputs": [
    {
     "name": "stdout",
     "output_type": "stream",
     "text": [
      "Requirement already satisfied: xgboost in c:\\users\\windows 11\\anaconda3\\lib\\site-packages (2.0.0)\n",
      "Requirement already satisfied: numpy in c:\\users\\windows 11\\anaconda3\\lib\\site-packages (from xgboost) (1.23.5)\n",
      "Requirement already satisfied: scipy in c:\\users\\windows 11\\anaconda3\\lib\\site-packages (from xgboost) (1.10.0)\n"
     ]
    }
   ],
   "source": [
    "import seaborn as sns\n",
    "import pandas as pd\n",
    "import matplotlib.pyplot as plt\n",
    "from sklearn.model_selection import train_test_split\n",
    "from sklearn.model_selection import cross_val_score\n",
    "from sklearn.preprocessing import StandardScaler\n",
    "from sklearn.linear_model import LinearRegression\n",
    "from sklearn.neighbors import KNeighborsRegressor\n",
    "from sklearn.tree import DecisionTreeRegressor\n",
    "from sklearn.ensemble import RandomForestRegressor\n",
    "from sklearn.neighbors import KNeighborsClassifier\n",
    "from sklearn.tree import DecisionTreeClassifier\n",
    "from sklearn.ensemble import RandomForestClassifier\n",
    "import numpy as np\n",
    "from sklearn.metrics import r2_score, confusion_matrix, accuracy_score,recall_score,precision_score,mean_squared_error,roc_auc_score\n",
    "!pip install xgboost\n",
    "import xgboost as xgb\n"
   ]
  },
  {
   "cell_type": "markdown",
   "id": "e425d3e4",
   "metadata": {},
   "source": [
    "# EXTRACTING DATA IN CSV FORMAT :"
   ]
  },
  {
   "cell_type": "code",
   "execution_count": 2,
   "id": "ee36d612",
   "metadata": {},
   "outputs": [],
   "source": [
    "dg=pd.read_excel(\"Copper_Set.xlsx\")"
   ]
  },
  {
   "cell_type": "markdown",
   "id": "eebffd67",
   "metadata": {},
   "source": [
    "# DATA CLEANSING & FILLING :"
   ]
  },
  {
   "cell_type": "code",
   "execution_count": 3,
   "id": "b6817078",
   "metadata": {
    "scrolled": true
   },
   "outputs": [
    {
     "data": {
      "text/html": [
       "<div>\n",
       "<style scoped>\n",
       "    .dataframe tbody tr th:only-of-type {\n",
       "        vertical-align: middle;\n",
       "    }\n",
       "\n",
       "    .dataframe tbody tr th {\n",
       "        vertical-align: top;\n",
       "    }\n",
       "\n",
       "    .dataframe thead th {\n",
       "        text-align: right;\n",
       "    }\n",
       "</style>\n",
       "<table border=\"1\" class=\"dataframe\">\n",
       "  <thead>\n",
       "    <tr style=\"text-align: right;\">\n",
       "      <th></th>\n",
       "      <th>id</th>\n",
       "      <th>item_date</th>\n",
       "      <th>quantity tons</th>\n",
       "      <th>customer</th>\n",
       "      <th>country</th>\n",
       "      <th>status</th>\n",
       "      <th>item type</th>\n",
       "      <th>application</th>\n",
       "      <th>thickness</th>\n",
       "      <th>width</th>\n",
       "      <th>material_ref</th>\n",
       "      <th>product_ref</th>\n",
       "      <th>delivery date</th>\n",
       "      <th>selling_price</th>\n",
       "    </tr>\n",
       "  </thead>\n",
       "  <tbody>\n",
       "    <tr>\n",
       "      <th>0</th>\n",
       "      <td>EC06F063-9DF0-440C-8764-0B0C05A4F6AE</td>\n",
       "      <td>20210401.0</td>\n",
       "      <td>54.151139</td>\n",
       "      <td>30156308.0</td>\n",
       "      <td>28.0</td>\n",
       "      <td>Won</td>\n",
       "      <td>W</td>\n",
       "      <td>10.0</td>\n",
       "      <td>2.00</td>\n",
       "      <td>1500.0</td>\n",
       "      <td>DEQ1 S460MC</td>\n",
       "      <td>1670798778</td>\n",
       "      <td>20210701.0</td>\n",
       "      <td>854.00</td>\n",
       "    </tr>\n",
       "    <tr>\n",
       "      <th>1</th>\n",
       "      <td>4E5F4B3D-DDDF-499D-AFDE-A3227EC49425</td>\n",
       "      <td>20210401.0</td>\n",
       "      <td>768.024839</td>\n",
       "      <td>30202938.0</td>\n",
       "      <td>25.0</td>\n",
       "      <td>Won</td>\n",
       "      <td>W</td>\n",
       "      <td>41.0</td>\n",
       "      <td>0.80</td>\n",
       "      <td>1210.0</td>\n",
       "      <td>0000000000000000000000000000000000104991</td>\n",
       "      <td>1668701718</td>\n",
       "      <td>20210401.0</td>\n",
       "      <td>1047.00</td>\n",
       "    </tr>\n",
       "    <tr>\n",
       "      <th>2</th>\n",
       "      <td>E140FF1B-2407-4C02-A0DD-780A093B1158</td>\n",
       "      <td>20210401.0</td>\n",
       "      <td>386.127949</td>\n",
       "      <td>30153963.0</td>\n",
       "      <td>30.0</td>\n",
       "      <td>Won</td>\n",
       "      <td>WI</td>\n",
       "      <td>28.0</td>\n",
       "      <td>0.38</td>\n",
       "      <td>952.0</td>\n",
       "      <td>S0380700</td>\n",
       "      <td>628377</td>\n",
       "      <td>20210101.0</td>\n",
       "      <td>644.33</td>\n",
       "    </tr>\n",
       "    <tr>\n",
       "      <th>3</th>\n",
       "      <td>F8D507A0-9C62-4EFE-831E-33E1DA53BB50</td>\n",
       "      <td>20210401.0</td>\n",
       "      <td>202.411065</td>\n",
       "      <td>30349574.0</td>\n",
       "      <td>32.0</td>\n",
       "      <td>Won</td>\n",
       "      <td>S</td>\n",
       "      <td>59.0</td>\n",
       "      <td>2.30</td>\n",
       "      <td>1317.0</td>\n",
       "      <td>DX51D+ZM310MAO 2.3X1317</td>\n",
       "      <td>1668701718</td>\n",
       "      <td>20210101.0</td>\n",
       "      <td>768.00</td>\n",
       "    </tr>\n",
       "    <tr>\n",
       "      <th>4</th>\n",
       "      <td>4E1C4E78-152B-430A-8094-ADD889C9D0AD</td>\n",
       "      <td>20210401.0</td>\n",
       "      <td>785.526262</td>\n",
       "      <td>30211560.0</td>\n",
       "      <td>28.0</td>\n",
       "      <td>Won</td>\n",
       "      <td>W</td>\n",
       "      <td>10.0</td>\n",
       "      <td>4.00</td>\n",
       "      <td>2000.0</td>\n",
       "      <td>2_S275JR+AR-CL1</td>\n",
       "      <td>640665</td>\n",
       "      <td>20210301.0</td>\n",
       "      <td>577.00</td>\n",
       "    </tr>\n",
       "    <tr>\n",
       "      <th>...</th>\n",
       "      <td>...</td>\n",
       "      <td>...</td>\n",
       "      <td>...</td>\n",
       "      <td>...</td>\n",
       "      <td>...</td>\n",
       "      <td>...</td>\n",
       "      <td>...</td>\n",
       "      <td>...</td>\n",
       "      <td>...</td>\n",
       "      <td>...</td>\n",
       "      <td>...</td>\n",
       "      <td>...</td>\n",
       "      <td>...</td>\n",
       "      <td>...</td>\n",
       "    </tr>\n",
       "    <tr>\n",
       "      <th>181668</th>\n",
       "      <td>DE633116-D1DF-4846-982E-55EFC3658A76</td>\n",
       "      <td>20200702.0</td>\n",
       "      <td>102.482422</td>\n",
       "      <td>30200854.0</td>\n",
       "      <td>25.0</td>\n",
       "      <td>Won</td>\n",
       "      <td>W</td>\n",
       "      <td>41.0</td>\n",
       "      <td>0.96</td>\n",
       "      <td>1220.0</td>\n",
       "      <td>0000000000000000000000000000000001000777</td>\n",
       "      <td>164141591</td>\n",
       "      <td>20200701.0</td>\n",
       "      <td>591.00</td>\n",
       "    </tr>\n",
       "    <tr>\n",
       "      <th>181669</th>\n",
       "      <td>A48374B1-E6DB-45F2-889A-1F9C27C099EB</td>\n",
       "      <td>20200702.0</td>\n",
       "      <td>208.086469</td>\n",
       "      <td>30200854.0</td>\n",
       "      <td>25.0</td>\n",
       "      <td>Won</td>\n",
       "      <td>W</td>\n",
       "      <td>41.0</td>\n",
       "      <td>0.95</td>\n",
       "      <td>1500.0</td>\n",
       "      <td>0000000000000000000000000000000001000227</td>\n",
       "      <td>164141591</td>\n",
       "      <td>20200701.0</td>\n",
       "      <td>589.00</td>\n",
       "    </tr>\n",
       "    <tr>\n",
       "      <th>181670</th>\n",
       "      <td>91643238-5C7B-4237-9A5F-63AE3D35F320</td>\n",
       "      <td>20200702.0</td>\n",
       "      <td>4.235594</td>\n",
       "      <td>30200854.0</td>\n",
       "      <td>25.0</td>\n",
       "      <td>Won</td>\n",
       "      <td>W</td>\n",
       "      <td>41.0</td>\n",
       "      <td>0.71</td>\n",
       "      <td>1250.0</td>\n",
       "      <td>0000000000000000000000000000000001004216</td>\n",
       "      <td>164141591</td>\n",
       "      <td>20200701.0</td>\n",
       "      <td>619.00</td>\n",
       "    </tr>\n",
       "    <tr>\n",
       "      <th>181671</th>\n",
       "      <td>7AFFD323-01D9-4E15-B80D-7D1B03498FC8</td>\n",
       "      <td>20200702.0</td>\n",
       "      <td>-2000</td>\n",
       "      <td>30200854.0</td>\n",
       "      <td>25.0</td>\n",
       "      <td>Won</td>\n",
       "      <td>W</td>\n",
       "      <td>41.0</td>\n",
       "      <td>0.85</td>\n",
       "      <td>1250.0</td>\n",
       "      <td>0000000000000000000000000000000001001149</td>\n",
       "      <td>164141591</td>\n",
       "      <td>20200701.0</td>\n",
       "      <td>601.00</td>\n",
       "    </tr>\n",
       "    <tr>\n",
       "      <th>181672</th>\n",
       "      <td>AD0CA853-AE3C-4B2F-9FBB-8B0B965F84BC</td>\n",
       "      <td>20200702.0</td>\n",
       "      <td>406.686538</td>\n",
       "      <td>30200854.0</td>\n",
       "      <td>25.0</td>\n",
       "      <td>Won</td>\n",
       "      <td>W</td>\n",
       "      <td>41.0</td>\n",
       "      <td>0.71</td>\n",
       "      <td>1240.0</td>\n",
       "      <td>0000000000000000000000000000000001005439</td>\n",
       "      <td>164141591</td>\n",
       "      <td>20200701.0</td>\n",
       "      <td>607.00</td>\n",
       "    </tr>\n",
       "  </tbody>\n",
       "</table>\n",
       "<p>181673 rows × 14 columns</p>\n",
       "</div>"
      ],
      "text/plain": [
       "                                          id   item_date quantity tons  \\\n",
       "0       EC06F063-9DF0-440C-8764-0B0C05A4F6AE  20210401.0     54.151139   \n",
       "1       4E5F4B3D-DDDF-499D-AFDE-A3227EC49425  20210401.0    768.024839   \n",
       "2       E140FF1B-2407-4C02-A0DD-780A093B1158  20210401.0    386.127949   \n",
       "3       F8D507A0-9C62-4EFE-831E-33E1DA53BB50  20210401.0    202.411065   \n",
       "4       4E1C4E78-152B-430A-8094-ADD889C9D0AD  20210401.0    785.526262   \n",
       "...                                      ...         ...           ...   \n",
       "181668  DE633116-D1DF-4846-982E-55EFC3658A76  20200702.0    102.482422   \n",
       "181669  A48374B1-E6DB-45F2-889A-1F9C27C099EB  20200702.0    208.086469   \n",
       "181670  91643238-5C7B-4237-9A5F-63AE3D35F320  20200702.0      4.235594   \n",
       "181671  7AFFD323-01D9-4E15-B80D-7D1B03498FC8  20200702.0         -2000   \n",
       "181672  AD0CA853-AE3C-4B2F-9FBB-8B0B965F84BC  20200702.0    406.686538   \n",
       "\n",
       "          customer  country status item type  application  thickness   width  \\\n",
       "0       30156308.0     28.0    Won         W         10.0       2.00  1500.0   \n",
       "1       30202938.0     25.0    Won         W         41.0       0.80  1210.0   \n",
       "2       30153963.0     30.0    Won        WI         28.0       0.38   952.0   \n",
       "3       30349574.0     32.0    Won         S         59.0       2.30  1317.0   \n",
       "4       30211560.0     28.0    Won         W         10.0       4.00  2000.0   \n",
       "...            ...      ...    ...       ...          ...        ...     ...   \n",
       "181668  30200854.0     25.0    Won         W         41.0       0.96  1220.0   \n",
       "181669  30200854.0     25.0    Won         W         41.0       0.95  1500.0   \n",
       "181670  30200854.0     25.0    Won         W         41.0       0.71  1250.0   \n",
       "181671  30200854.0     25.0    Won         W         41.0       0.85  1250.0   \n",
       "181672  30200854.0     25.0    Won         W         41.0       0.71  1240.0   \n",
       "\n",
       "                                    material_ref  product_ref  delivery date  \\\n",
       "0                                    DEQ1 S460MC   1670798778     20210701.0   \n",
       "1       0000000000000000000000000000000000104991   1668701718     20210401.0   \n",
       "2                                       S0380700       628377     20210101.0   \n",
       "3                        DX51D+ZM310MAO 2.3X1317   1668701718     20210101.0   \n",
       "4                                2_S275JR+AR-CL1       640665     20210301.0   \n",
       "...                                          ...          ...            ...   \n",
       "181668  0000000000000000000000000000000001000777    164141591     20200701.0   \n",
       "181669  0000000000000000000000000000000001000227    164141591     20200701.0   \n",
       "181670  0000000000000000000000000000000001004216    164141591     20200701.0   \n",
       "181671  0000000000000000000000000000000001001149    164141591     20200701.0   \n",
       "181672  0000000000000000000000000000000001005439    164141591     20200701.0   \n",
       "\n",
       "        selling_price  \n",
       "0              854.00  \n",
       "1             1047.00  \n",
       "2              644.33  \n",
       "3              768.00  \n",
       "4              577.00  \n",
       "...               ...  \n",
       "181668         591.00  \n",
       "181669         589.00  \n",
       "181670         619.00  \n",
       "181671         601.00  \n",
       "181672         607.00  \n",
       "\n",
       "[181673 rows x 14 columns]"
      ]
     },
     "execution_count": 3,
     "metadata": {},
     "output_type": "execute_result"
    }
   ],
   "source": [
    "dg"
   ]
  },
  {
   "cell_type": "code",
   "execution_count": 4,
   "id": "61a004c1",
   "metadata": {},
   "outputs": [],
   "source": [
    "dg['material_ref']=dg['material_ref'].replace(r'00000', np.nan,regex=True)"
   ]
  },
  {
   "cell_type": "code",
   "execution_count": 5,
   "id": "7bf1d395",
   "metadata": {
    "scrolled": true
   },
   "outputs": [
    {
     "data": {
      "text/html": [
       "<div>\n",
       "<style scoped>\n",
       "    .dataframe tbody tr th:only-of-type {\n",
       "        vertical-align: middle;\n",
       "    }\n",
       "\n",
       "    .dataframe tbody tr th {\n",
       "        vertical-align: top;\n",
       "    }\n",
       "\n",
       "    .dataframe thead th {\n",
       "        text-align: right;\n",
       "    }\n",
       "</style>\n",
       "<table border=\"1\" class=\"dataframe\">\n",
       "  <thead>\n",
       "    <tr style=\"text-align: right;\">\n",
       "      <th></th>\n",
       "      <th>id</th>\n",
       "      <th>item_date</th>\n",
       "      <th>quantity tons</th>\n",
       "      <th>customer</th>\n",
       "      <th>country</th>\n",
       "      <th>status</th>\n",
       "      <th>item type</th>\n",
       "      <th>application</th>\n",
       "      <th>thickness</th>\n",
       "      <th>width</th>\n",
       "      <th>material_ref</th>\n",
       "      <th>product_ref</th>\n",
       "      <th>delivery date</th>\n",
       "      <th>selling_price</th>\n",
       "    </tr>\n",
       "  </thead>\n",
       "  <tbody>\n",
       "    <tr>\n",
       "      <th>0</th>\n",
       "      <td>EC06F063-9DF0-440C-8764-0B0C05A4F6AE</td>\n",
       "      <td>20210401.0</td>\n",
       "      <td>54.151139</td>\n",
       "      <td>30156308.0</td>\n",
       "      <td>28.0</td>\n",
       "      <td>Won</td>\n",
       "      <td>W</td>\n",
       "      <td>10.0</td>\n",
       "      <td>2.00</td>\n",
       "      <td>1500.0</td>\n",
       "      <td>DEQ1 S460MC</td>\n",
       "      <td>1670798778</td>\n",
       "      <td>20210701.0</td>\n",
       "      <td>854.00</td>\n",
       "    </tr>\n",
       "    <tr>\n",
       "      <th>1</th>\n",
       "      <td>4E5F4B3D-DDDF-499D-AFDE-A3227EC49425</td>\n",
       "      <td>20210401.0</td>\n",
       "      <td>768.024839</td>\n",
       "      <td>30202938.0</td>\n",
       "      <td>25.0</td>\n",
       "      <td>Won</td>\n",
       "      <td>W</td>\n",
       "      <td>41.0</td>\n",
       "      <td>0.80</td>\n",
       "      <td>1210.0</td>\n",
       "      <td>NaN</td>\n",
       "      <td>1668701718</td>\n",
       "      <td>20210401.0</td>\n",
       "      <td>1047.00</td>\n",
       "    </tr>\n",
       "    <tr>\n",
       "      <th>2</th>\n",
       "      <td>E140FF1B-2407-4C02-A0DD-780A093B1158</td>\n",
       "      <td>20210401.0</td>\n",
       "      <td>386.127949</td>\n",
       "      <td>30153963.0</td>\n",
       "      <td>30.0</td>\n",
       "      <td>Won</td>\n",
       "      <td>WI</td>\n",
       "      <td>28.0</td>\n",
       "      <td>0.38</td>\n",
       "      <td>952.0</td>\n",
       "      <td>S0380700</td>\n",
       "      <td>628377</td>\n",
       "      <td>20210101.0</td>\n",
       "      <td>644.33</td>\n",
       "    </tr>\n",
       "    <tr>\n",
       "      <th>3</th>\n",
       "      <td>F8D507A0-9C62-4EFE-831E-33E1DA53BB50</td>\n",
       "      <td>20210401.0</td>\n",
       "      <td>202.411065</td>\n",
       "      <td>30349574.0</td>\n",
       "      <td>32.0</td>\n",
       "      <td>Won</td>\n",
       "      <td>S</td>\n",
       "      <td>59.0</td>\n",
       "      <td>2.30</td>\n",
       "      <td>1317.0</td>\n",
       "      <td>DX51D+ZM310MAO 2.3X1317</td>\n",
       "      <td>1668701718</td>\n",
       "      <td>20210101.0</td>\n",
       "      <td>768.00</td>\n",
       "    </tr>\n",
       "    <tr>\n",
       "      <th>4</th>\n",
       "      <td>4E1C4E78-152B-430A-8094-ADD889C9D0AD</td>\n",
       "      <td>20210401.0</td>\n",
       "      <td>785.526262</td>\n",
       "      <td>30211560.0</td>\n",
       "      <td>28.0</td>\n",
       "      <td>Won</td>\n",
       "      <td>W</td>\n",
       "      <td>10.0</td>\n",
       "      <td>4.00</td>\n",
       "      <td>2000.0</td>\n",
       "      <td>2_S275JR+AR-CL1</td>\n",
       "      <td>640665</td>\n",
       "      <td>20210301.0</td>\n",
       "      <td>577.00</td>\n",
       "    </tr>\n",
       "    <tr>\n",
       "      <th>...</th>\n",
       "      <td>...</td>\n",
       "      <td>...</td>\n",
       "      <td>...</td>\n",
       "      <td>...</td>\n",
       "      <td>...</td>\n",
       "      <td>...</td>\n",
       "      <td>...</td>\n",
       "      <td>...</td>\n",
       "      <td>...</td>\n",
       "      <td>...</td>\n",
       "      <td>...</td>\n",
       "      <td>...</td>\n",
       "      <td>...</td>\n",
       "      <td>...</td>\n",
       "    </tr>\n",
       "    <tr>\n",
       "      <th>181668</th>\n",
       "      <td>DE633116-D1DF-4846-982E-55EFC3658A76</td>\n",
       "      <td>20200702.0</td>\n",
       "      <td>102.482422</td>\n",
       "      <td>30200854.0</td>\n",
       "      <td>25.0</td>\n",
       "      <td>Won</td>\n",
       "      <td>W</td>\n",
       "      <td>41.0</td>\n",
       "      <td>0.96</td>\n",
       "      <td>1220.0</td>\n",
       "      <td>NaN</td>\n",
       "      <td>164141591</td>\n",
       "      <td>20200701.0</td>\n",
       "      <td>591.00</td>\n",
       "    </tr>\n",
       "    <tr>\n",
       "      <th>181669</th>\n",
       "      <td>A48374B1-E6DB-45F2-889A-1F9C27C099EB</td>\n",
       "      <td>20200702.0</td>\n",
       "      <td>208.086469</td>\n",
       "      <td>30200854.0</td>\n",
       "      <td>25.0</td>\n",
       "      <td>Won</td>\n",
       "      <td>W</td>\n",
       "      <td>41.0</td>\n",
       "      <td>0.95</td>\n",
       "      <td>1500.0</td>\n",
       "      <td>NaN</td>\n",
       "      <td>164141591</td>\n",
       "      <td>20200701.0</td>\n",
       "      <td>589.00</td>\n",
       "    </tr>\n",
       "    <tr>\n",
       "      <th>181670</th>\n",
       "      <td>91643238-5C7B-4237-9A5F-63AE3D35F320</td>\n",
       "      <td>20200702.0</td>\n",
       "      <td>4.235594</td>\n",
       "      <td>30200854.0</td>\n",
       "      <td>25.0</td>\n",
       "      <td>Won</td>\n",
       "      <td>W</td>\n",
       "      <td>41.0</td>\n",
       "      <td>0.71</td>\n",
       "      <td>1250.0</td>\n",
       "      <td>NaN</td>\n",
       "      <td>164141591</td>\n",
       "      <td>20200701.0</td>\n",
       "      <td>619.00</td>\n",
       "    </tr>\n",
       "    <tr>\n",
       "      <th>181671</th>\n",
       "      <td>7AFFD323-01D9-4E15-B80D-7D1B03498FC8</td>\n",
       "      <td>20200702.0</td>\n",
       "      <td>-2000</td>\n",
       "      <td>30200854.0</td>\n",
       "      <td>25.0</td>\n",
       "      <td>Won</td>\n",
       "      <td>W</td>\n",
       "      <td>41.0</td>\n",
       "      <td>0.85</td>\n",
       "      <td>1250.0</td>\n",
       "      <td>NaN</td>\n",
       "      <td>164141591</td>\n",
       "      <td>20200701.0</td>\n",
       "      <td>601.00</td>\n",
       "    </tr>\n",
       "    <tr>\n",
       "      <th>181672</th>\n",
       "      <td>AD0CA853-AE3C-4B2F-9FBB-8B0B965F84BC</td>\n",
       "      <td>20200702.0</td>\n",
       "      <td>406.686538</td>\n",
       "      <td>30200854.0</td>\n",
       "      <td>25.0</td>\n",
       "      <td>Won</td>\n",
       "      <td>W</td>\n",
       "      <td>41.0</td>\n",
       "      <td>0.71</td>\n",
       "      <td>1240.0</td>\n",
       "      <td>NaN</td>\n",
       "      <td>164141591</td>\n",
       "      <td>20200701.0</td>\n",
       "      <td>607.00</td>\n",
       "    </tr>\n",
       "  </tbody>\n",
       "</table>\n",
       "<p>181673 rows × 14 columns</p>\n",
       "</div>"
      ],
      "text/plain": [
       "                                          id   item_date quantity tons  \\\n",
       "0       EC06F063-9DF0-440C-8764-0B0C05A4F6AE  20210401.0     54.151139   \n",
       "1       4E5F4B3D-DDDF-499D-AFDE-A3227EC49425  20210401.0    768.024839   \n",
       "2       E140FF1B-2407-4C02-A0DD-780A093B1158  20210401.0    386.127949   \n",
       "3       F8D507A0-9C62-4EFE-831E-33E1DA53BB50  20210401.0    202.411065   \n",
       "4       4E1C4E78-152B-430A-8094-ADD889C9D0AD  20210401.0    785.526262   \n",
       "...                                      ...         ...           ...   \n",
       "181668  DE633116-D1DF-4846-982E-55EFC3658A76  20200702.0    102.482422   \n",
       "181669  A48374B1-E6DB-45F2-889A-1F9C27C099EB  20200702.0    208.086469   \n",
       "181670  91643238-5C7B-4237-9A5F-63AE3D35F320  20200702.0      4.235594   \n",
       "181671  7AFFD323-01D9-4E15-B80D-7D1B03498FC8  20200702.0         -2000   \n",
       "181672  AD0CA853-AE3C-4B2F-9FBB-8B0B965F84BC  20200702.0    406.686538   \n",
       "\n",
       "          customer  country status item type  application  thickness   width  \\\n",
       "0       30156308.0     28.0    Won         W         10.0       2.00  1500.0   \n",
       "1       30202938.0     25.0    Won         W         41.0       0.80  1210.0   \n",
       "2       30153963.0     30.0    Won        WI         28.0       0.38   952.0   \n",
       "3       30349574.0     32.0    Won         S         59.0       2.30  1317.0   \n",
       "4       30211560.0     28.0    Won         W         10.0       4.00  2000.0   \n",
       "...            ...      ...    ...       ...          ...        ...     ...   \n",
       "181668  30200854.0     25.0    Won         W         41.0       0.96  1220.0   \n",
       "181669  30200854.0     25.0    Won         W         41.0       0.95  1500.0   \n",
       "181670  30200854.0     25.0    Won         W         41.0       0.71  1250.0   \n",
       "181671  30200854.0     25.0    Won         W         41.0       0.85  1250.0   \n",
       "181672  30200854.0     25.0    Won         W         41.0       0.71  1240.0   \n",
       "\n",
       "                   material_ref  product_ref  delivery date  selling_price  \n",
       "0                   DEQ1 S460MC   1670798778     20210701.0         854.00  \n",
       "1                           NaN   1668701718     20210401.0        1047.00  \n",
       "2                      S0380700       628377     20210101.0         644.33  \n",
       "3       DX51D+ZM310MAO 2.3X1317   1668701718     20210101.0         768.00  \n",
       "4               2_S275JR+AR-CL1       640665     20210301.0         577.00  \n",
       "...                         ...          ...            ...            ...  \n",
       "181668                      NaN    164141591     20200701.0         591.00  \n",
       "181669                      NaN    164141591     20200701.0         589.00  \n",
       "181670                      NaN    164141591     20200701.0         619.00  \n",
       "181671                      NaN    164141591     20200701.0         601.00  \n",
       "181672                      NaN    164141591     20200701.0         607.00  \n",
       "\n",
       "[181673 rows x 14 columns]"
      ]
     },
     "execution_count": 5,
     "metadata": {},
     "output_type": "execute_result"
    }
   ],
   "source": [
    "dg"
   ]
  },
  {
   "cell_type": "code",
   "execution_count": 6,
   "id": "d1dddbae",
   "metadata": {},
   "outputs": [],
   "source": [
    "df=dg[(dg['status']=='Won')|(dg['status']=='Lost')].reset_index(drop=True)"
   ]
  },
  {
   "cell_type": "code",
   "execution_count": 7,
   "id": "264681b7",
   "metadata": {},
   "outputs": [
    {
     "data": {
      "text/html": [
       "<div>\n",
       "<style scoped>\n",
       "    .dataframe tbody tr th:only-of-type {\n",
       "        vertical-align: middle;\n",
       "    }\n",
       "\n",
       "    .dataframe tbody tr th {\n",
       "        vertical-align: top;\n",
       "    }\n",
       "\n",
       "    .dataframe thead th {\n",
       "        text-align: right;\n",
       "    }\n",
       "</style>\n",
       "<table border=\"1\" class=\"dataframe\">\n",
       "  <thead>\n",
       "    <tr style=\"text-align: right;\">\n",
       "      <th></th>\n",
       "      <th>id</th>\n",
       "      <th>item_date</th>\n",
       "      <th>quantity tons</th>\n",
       "      <th>customer</th>\n",
       "      <th>country</th>\n",
       "      <th>status</th>\n",
       "      <th>item type</th>\n",
       "      <th>application</th>\n",
       "      <th>thickness</th>\n",
       "      <th>width</th>\n",
       "      <th>material_ref</th>\n",
       "      <th>product_ref</th>\n",
       "      <th>delivery date</th>\n",
       "      <th>selling_price</th>\n",
       "    </tr>\n",
       "  </thead>\n",
       "  <tbody>\n",
       "    <tr>\n",
       "      <th>0</th>\n",
       "      <td>EC06F063-9DF0-440C-8764-0B0C05A4F6AE</td>\n",
       "      <td>20210401.0</td>\n",
       "      <td>54.151139</td>\n",
       "      <td>30156308.0</td>\n",
       "      <td>28.0</td>\n",
       "      <td>Won</td>\n",
       "      <td>W</td>\n",
       "      <td>10.0</td>\n",
       "      <td>2.00</td>\n",
       "      <td>1500.0</td>\n",
       "      <td>DEQ1 S460MC</td>\n",
       "      <td>1670798778</td>\n",
       "      <td>20210701.0</td>\n",
       "      <td>854.00</td>\n",
       "    </tr>\n",
       "    <tr>\n",
       "      <th>1</th>\n",
       "      <td>4E5F4B3D-DDDF-499D-AFDE-A3227EC49425</td>\n",
       "      <td>20210401.0</td>\n",
       "      <td>768.024839</td>\n",
       "      <td>30202938.0</td>\n",
       "      <td>25.0</td>\n",
       "      <td>Won</td>\n",
       "      <td>W</td>\n",
       "      <td>41.0</td>\n",
       "      <td>0.80</td>\n",
       "      <td>1210.0</td>\n",
       "      <td>NaN</td>\n",
       "      <td>1668701718</td>\n",
       "      <td>20210401.0</td>\n",
       "      <td>1047.00</td>\n",
       "    </tr>\n",
       "    <tr>\n",
       "      <th>2</th>\n",
       "      <td>E140FF1B-2407-4C02-A0DD-780A093B1158</td>\n",
       "      <td>20210401.0</td>\n",
       "      <td>386.127949</td>\n",
       "      <td>30153963.0</td>\n",
       "      <td>30.0</td>\n",
       "      <td>Won</td>\n",
       "      <td>WI</td>\n",
       "      <td>28.0</td>\n",
       "      <td>0.38</td>\n",
       "      <td>952.0</td>\n",
       "      <td>S0380700</td>\n",
       "      <td>628377</td>\n",
       "      <td>20210101.0</td>\n",
       "      <td>644.33</td>\n",
       "    </tr>\n",
       "    <tr>\n",
       "      <th>3</th>\n",
       "      <td>F8D507A0-9C62-4EFE-831E-33E1DA53BB50</td>\n",
       "      <td>20210401.0</td>\n",
       "      <td>202.411065</td>\n",
       "      <td>30349574.0</td>\n",
       "      <td>32.0</td>\n",
       "      <td>Won</td>\n",
       "      <td>S</td>\n",
       "      <td>59.0</td>\n",
       "      <td>2.30</td>\n",
       "      <td>1317.0</td>\n",
       "      <td>DX51D+ZM310MAO 2.3X1317</td>\n",
       "      <td>1668701718</td>\n",
       "      <td>20210101.0</td>\n",
       "      <td>768.00</td>\n",
       "    </tr>\n",
       "    <tr>\n",
       "      <th>4</th>\n",
       "      <td>4E1C4E78-152B-430A-8094-ADD889C9D0AD</td>\n",
       "      <td>20210401.0</td>\n",
       "      <td>785.526262</td>\n",
       "      <td>30211560.0</td>\n",
       "      <td>28.0</td>\n",
       "      <td>Won</td>\n",
       "      <td>W</td>\n",
       "      <td>10.0</td>\n",
       "      <td>4.00</td>\n",
       "      <td>2000.0</td>\n",
       "      <td>2_S275JR+AR-CL1</td>\n",
       "      <td>640665</td>\n",
       "      <td>20210301.0</td>\n",
       "      <td>577.00</td>\n",
       "    </tr>\n",
       "    <tr>\n",
       "      <th>...</th>\n",
       "      <td>...</td>\n",
       "      <td>...</td>\n",
       "      <td>...</td>\n",
       "      <td>...</td>\n",
       "      <td>...</td>\n",
       "      <td>...</td>\n",
       "      <td>...</td>\n",
       "      <td>...</td>\n",
       "      <td>...</td>\n",
       "      <td>...</td>\n",
       "      <td>...</td>\n",
       "      <td>...</td>\n",
       "      <td>...</td>\n",
       "      <td>...</td>\n",
       "    </tr>\n",
       "    <tr>\n",
       "      <th>150443</th>\n",
       "      <td>DE633116-D1DF-4846-982E-55EFC3658A76</td>\n",
       "      <td>20200702.0</td>\n",
       "      <td>102.482422</td>\n",
       "      <td>30200854.0</td>\n",
       "      <td>25.0</td>\n",
       "      <td>Won</td>\n",
       "      <td>W</td>\n",
       "      <td>41.0</td>\n",
       "      <td>0.96</td>\n",
       "      <td>1220.0</td>\n",
       "      <td>NaN</td>\n",
       "      <td>164141591</td>\n",
       "      <td>20200701.0</td>\n",
       "      <td>591.00</td>\n",
       "    </tr>\n",
       "    <tr>\n",
       "      <th>150444</th>\n",
       "      <td>A48374B1-E6DB-45F2-889A-1F9C27C099EB</td>\n",
       "      <td>20200702.0</td>\n",
       "      <td>208.086469</td>\n",
       "      <td>30200854.0</td>\n",
       "      <td>25.0</td>\n",
       "      <td>Won</td>\n",
       "      <td>W</td>\n",
       "      <td>41.0</td>\n",
       "      <td>0.95</td>\n",
       "      <td>1500.0</td>\n",
       "      <td>NaN</td>\n",
       "      <td>164141591</td>\n",
       "      <td>20200701.0</td>\n",
       "      <td>589.00</td>\n",
       "    </tr>\n",
       "    <tr>\n",
       "      <th>150445</th>\n",
       "      <td>91643238-5C7B-4237-9A5F-63AE3D35F320</td>\n",
       "      <td>20200702.0</td>\n",
       "      <td>4.235594</td>\n",
       "      <td>30200854.0</td>\n",
       "      <td>25.0</td>\n",
       "      <td>Won</td>\n",
       "      <td>W</td>\n",
       "      <td>41.0</td>\n",
       "      <td>0.71</td>\n",
       "      <td>1250.0</td>\n",
       "      <td>NaN</td>\n",
       "      <td>164141591</td>\n",
       "      <td>20200701.0</td>\n",
       "      <td>619.00</td>\n",
       "    </tr>\n",
       "    <tr>\n",
       "      <th>150446</th>\n",
       "      <td>7AFFD323-01D9-4E15-B80D-7D1B03498FC8</td>\n",
       "      <td>20200702.0</td>\n",
       "      <td>-2000</td>\n",
       "      <td>30200854.0</td>\n",
       "      <td>25.0</td>\n",
       "      <td>Won</td>\n",
       "      <td>W</td>\n",
       "      <td>41.0</td>\n",
       "      <td>0.85</td>\n",
       "      <td>1250.0</td>\n",
       "      <td>NaN</td>\n",
       "      <td>164141591</td>\n",
       "      <td>20200701.0</td>\n",
       "      <td>601.00</td>\n",
       "    </tr>\n",
       "    <tr>\n",
       "      <th>150447</th>\n",
       "      <td>AD0CA853-AE3C-4B2F-9FBB-8B0B965F84BC</td>\n",
       "      <td>20200702.0</td>\n",
       "      <td>406.686538</td>\n",
       "      <td>30200854.0</td>\n",
       "      <td>25.0</td>\n",
       "      <td>Won</td>\n",
       "      <td>W</td>\n",
       "      <td>41.0</td>\n",
       "      <td>0.71</td>\n",
       "      <td>1240.0</td>\n",
       "      <td>NaN</td>\n",
       "      <td>164141591</td>\n",
       "      <td>20200701.0</td>\n",
       "      <td>607.00</td>\n",
       "    </tr>\n",
       "  </tbody>\n",
       "</table>\n",
       "<p>150448 rows × 14 columns</p>\n",
       "</div>"
      ],
      "text/plain": [
       "                                          id   item_date quantity tons  \\\n",
       "0       EC06F063-9DF0-440C-8764-0B0C05A4F6AE  20210401.0     54.151139   \n",
       "1       4E5F4B3D-DDDF-499D-AFDE-A3227EC49425  20210401.0    768.024839   \n",
       "2       E140FF1B-2407-4C02-A0DD-780A093B1158  20210401.0    386.127949   \n",
       "3       F8D507A0-9C62-4EFE-831E-33E1DA53BB50  20210401.0    202.411065   \n",
       "4       4E1C4E78-152B-430A-8094-ADD889C9D0AD  20210401.0    785.526262   \n",
       "...                                      ...         ...           ...   \n",
       "150443  DE633116-D1DF-4846-982E-55EFC3658A76  20200702.0    102.482422   \n",
       "150444  A48374B1-E6DB-45F2-889A-1F9C27C099EB  20200702.0    208.086469   \n",
       "150445  91643238-5C7B-4237-9A5F-63AE3D35F320  20200702.0      4.235594   \n",
       "150446  7AFFD323-01D9-4E15-B80D-7D1B03498FC8  20200702.0         -2000   \n",
       "150447  AD0CA853-AE3C-4B2F-9FBB-8B0B965F84BC  20200702.0    406.686538   \n",
       "\n",
       "          customer  country status item type  application  thickness   width  \\\n",
       "0       30156308.0     28.0    Won         W         10.0       2.00  1500.0   \n",
       "1       30202938.0     25.0    Won         W         41.0       0.80  1210.0   \n",
       "2       30153963.0     30.0    Won        WI         28.0       0.38   952.0   \n",
       "3       30349574.0     32.0    Won         S         59.0       2.30  1317.0   \n",
       "4       30211560.0     28.0    Won         W         10.0       4.00  2000.0   \n",
       "...            ...      ...    ...       ...          ...        ...     ...   \n",
       "150443  30200854.0     25.0    Won         W         41.0       0.96  1220.0   \n",
       "150444  30200854.0     25.0    Won         W         41.0       0.95  1500.0   \n",
       "150445  30200854.0     25.0    Won         W         41.0       0.71  1250.0   \n",
       "150446  30200854.0     25.0    Won         W         41.0       0.85  1250.0   \n",
       "150447  30200854.0     25.0    Won         W         41.0       0.71  1240.0   \n",
       "\n",
       "                   material_ref  product_ref  delivery date  selling_price  \n",
       "0                   DEQ1 S460MC   1670798778     20210701.0         854.00  \n",
       "1                           NaN   1668701718     20210401.0        1047.00  \n",
       "2                      S0380700       628377     20210101.0         644.33  \n",
       "3       DX51D+ZM310MAO 2.3X1317   1668701718     20210101.0         768.00  \n",
       "4               2_S275JR+AR-CL1       640665     20210301.0         577.00  \n",
       "...                         ...          ...            ...            ...  \n",
       "150443                      NaN    164141591     20200701.0         591.00  \n",
       "150444                      NaN    164141591     20200701.0         589.00  \n",
       "150445                      NaN    164141591     20200701.0         619.00  \n",
       "150446                      NaN    164141591     20200701.0         601.00  \n",
       "150447                      NaN    164141591     20200701.0         607.00  \n",
       "\n",
       "[150448 rows x 14 columns]"
      ]
     },
     "execution_count": 7,
     "metadata": {},
     "output_type": "execute_result"
    }
   ],
   "source": [
    "df"
   ]
  },
  {
   "cell_type": "code",
   "execution_count": 8,
   "id": "f2181230",
   "metadata": {},
   "outputs": [
    {
     "data": {
      "text/plain": [
       "id                   1\n",
       "item_date            1\n",
       "quantity tons        0\n",
       "customer             1\n",
       "country              4\n",
       "status               0\n",
       "item type            0\n",
       "application          3\n",
       "thickness            0\n",
       "width                0\n",
       "material_ref     83487\n",
       "product_ref          0\n",
       "delivery date        1\n",
       "selling_price        1\n",
       "dtype: int64"
      ]
     },
     "execution_count": 8,
     "metadata": {},
     "output_type": "execute_result"
    }
   ],
   "source": [
    "df.isnull().sum()"
   ]
  },
  {
   "cell_type": "code",
   "execution_count": 9,
   "id": "5f44e5d5",
   "metadata": {},
   "outputs": [],
   "source": [
    "df['id'].fillna(df['id'].mode()[0],inplace=True)\n",
    "df['item_date'].fillna(df['item_date'].mean(),inplace=True)\n",
    "df['customer'].fillna(df['customer'].mean(),inplace=True)\n",
    "df['country'].fillna(df['country'].mean(),inplace=True)\n",
    "df['application'].fillna(df['application'].mean(),inplace=True)\n",
    "df['thickness'].fillna(df['thickness'].mean(),inplace=True)\n",
    "df['material_ref'].fillna(df['material_ref'].mode()[0],inplace=True)\n",
    "df['delivery date'].fillna(df['delivery date'].mean(),inplace=True)\n",
    "df['selling_price'].fillna(df['selling_price'].mean(),inplace=True)"
   ]
  },
  {
   "cell_type": "code",
   "execution_count": 10,
   "id": "22e4323a",
   "metadata": {
    "scrolled": true
   },
   "outputs": [
    {
     "data": {
      "text/plain": [
       "id               0\n",
       "item_date        0\n",
       "quantity tons    0\n",
       "customer         0\n",
       "country          0\n",
       "status           0\n",
       "item type        0\n",
       "application      0\n",
       "thickness        0\n",
       "width            0\n",
       "material_ref     0\n",
       "product_ref      0\n",
       "delivery date    0\n",
       "selling_price    0\n",
       "dtype: int64"
      ]
     },
     "execution_count": 10,
     "metadata": {},
     "output_type": "execute_result"
    }
   ],
   "source": [
    "df.isnull().sum()"
   ]
  },
  {
   "cell_type": "code",
   "execution_count": 11,
   "id": "f1fa01a3",
   "metadata": {},
   "outputs": [
    {
     "name": "stdout",
     "output_type": "stream",
     "text": [
      "<class 'pandas.core.frame.DataFrame'>\n",
      "RangeIndex: 150448 entries, 0 to 150447\n",
      "Data columns (total 14 columns):\n",
      " #   Column         Non-Null Count   Dtype  \n",
      "---  ------         --------------   -----  \n",
      " 0   id             150448 non-null  object \n",
      " 1   item_date      150448 non-null  float64\n",
      " 2   quantity tons  150448 non-null  object \n",
      " 3   customer       150448 non-null  float64\n",
      " 4   country        150448 non-null  float64\n",
      " 5   status         150448 non-null  object \n",
      " 6   item type      150448 non-null  object \n",
      " 7   application    150448 non-null  float64\n",
      " 8   thickness      150448 non-null  float64\n",
      " 9   width          150448 non-null  float64\n",
      " 10  material_ref   150448 non-null  object \n",
      " 11  product_ref    150448 non-null  int64  \n",
      " 12  delivery date  150448 non-null  float64\n",
      " 13  selling_price  150448 non-null  float64\n",
      "dtypes: float64(8), int64(1), object(5)\n",
      "memory usage: 16.1+ MB\n"
     ]
    }
   ],
   "source": [
    "df.info()"
   ]
  },
  {
   "cell_type": "code",
   "execution_count": 12,
   "id": "4a8badd0",
   "metadata": {
    "scrolled": true
   },
   "outputs": [],
   "source": [
    "df['item_date']=pd.to_datetime(df['item_date'])\n",
    "df['delivery date']=pd.to_datetime(df['delivery date'])\n",
    "df['customer']=df['customer'].astype(int)\n",
    "df['country']=df['country'].astype(int)\n",
    "df['application']=df['application'].astype(int)\n",
    "df['thickness']=df['thickness'].astype(int)\n",
    "df['width']=df['width'].astype(int)\n",
    "df['selling_price']=df['selling_price'].astype(int)"
   ]
  },
  {
   "cell_type": "code",
   "execution_count": 13,
   "id": "fa03b662",
   "metadata": {},
   "outputs": [
    {
     "name": "stdout",
     "output_type": "stream",
     "text": [
      "<class 'pandas.core.frame.DataFrame'>\n",
      "RangeIndex: 150448 entries, 0 to 150447\n",
      "Data columns (total 14 columns):\n",
      " #   Column         Non-Null Count   Dtype         \n",
      "---  ------         --------------   -----         \n",
      " 0   id             150448 non-null  object        \n",
      " 1   item_date      150448 non-null  datetime64[ns]\n",
      " 2   quantity tons  150448 non-null  object        \n",
      " 3   customer       150448 non-null  int32         \n",
      " 4   country        150448 non-null  int32         \n",
      " 5   status         150448 non-null  object        \n",
      " 6   item type      150448 non-null  object        \n",
      " 7   application    150448 non-null  int32         \n",
      " 8   thickness      150448 non-null  int32         \n",
      " 9   width          150448 non-null  int32         \n",
      " 10  material_ref   150448 non-null  object        \n",
      " 11  product_ref    150448 non-null  int64         \n",
      " 12  delivery date  150448 non-null  datetime64[ns]\n",
      " 13  selling_price  150448 non-null  int32         \n",
      "dtypes: datetime64[ns](2), int32(6), int64(1), object(5)\n",
      "memory usage: 12.6+ MB\n"
     ]
    }
   ],
   "source": [
    "df.info()"
   ]
  },
  {
   "cell_type": "code",
   "execution_count": 14,
   "id": "8bdfc997",
   "metadata": {},
   "outputs": [
    {
     "data": {
      "text/plain": [
       "(82932.0, 30404216.0, 30072488.0)"
      ]
     },
     "execution_count": 14,
     "metadata": {},
     "output_type": "execute_result"
    }
   ],
   "source": [
    "q1=df['customer'].quantile(0.25)\n",
    "q2=df['customer'].quantile(0.5)\n",
    "q3=df['customer'].quantile(0.75)\n",
    "IQR = q3-q1\n",
    "ul=q3+1.5*IQR\n",
    "ll=q1-1.5*IQR\n",
    "IQR,ul,ll"
   ]
  },
  {
   "cell_type": "code",
   "execution_count": 15,
   "id": "ca846cbc",
   "metadata": {
    "scrolled": true
   },
   "outputs": [
    {
     "data": {
      "text/plain": [
       "count    1.504480e+05\n",
       "mean     3.027510e+07\n",
       "std      9.455052e+06\n",
       "min      1.245800e+04\n",
       "25%      3.019689e+07\n",
       "50%      3.020531e+07\n",
       "75%      3.027982e+07\n",
       "max      2.147484e+09\n",
       "Name: customer, dtype: float64"
      ]
     },
     "execution_count": 15,
     "metadata": {},
     "output_type": "execute_result"
    }
   ],
   "source": [
    "df['customer'].describe()"
   ]
  },
  {
   "cell_type": "code",
   "execution_count": 16,
   "id": "f4c84eb4",
   "metadata": {},
   "outputs": [
    {
     "data": {
      "text/plain": [
       "(52.0, 156.0, -52.0)"
      ]
     },
     "execution_count": 16,
     "metadata": {},
     "output_type": "execute_result"
    }
   ],
   "source": [
    "q1=df['country'].quantile(0.25)\n",
    "q2=df['country'].quantile(0.5)\n",
    "q3=df['country'].quantile(0.75)\n",
    "IQR = q3-q1\n",
    "ul=q3+1.5*IQR\n",
    "ll=q1-1.5*IQR\n",
    "IQR,ul,ll"
   ]
  },
  {
   "cell_type": "code",
   "execution_count": 17,
   "id": "385cdb7e",
   "metadata": {},
   "outputs": [
    {
     "data": {
      "text/plain": [
       "count    150448.000000\n",
       "mean         45.391079\n",
       "std          24.487868\n",
       "min          25.000000\n",
       "25%          26.000000\n",
       "50%          30.000000\n",
       "75%          78.000000\n",
       "max         113.000000\n",
       "Name: country, dtype: float64"
      ]
     },
     "execution_count": 17,
     "metadata": {},
     "output_type": "execute_result"
    }
   ],
   "source": [
    "df['country'].describe()"
   ]
  },
  {
   "cell_type": "code",
   "execution_count": 18,
   "id": "29e2ed0b",
   "metadata": {},
   "outputs": [
    {
     "data": {
      "text/plain": [
       "(31.0, 87.5, -36.5)"
      ]
     },
     "execution_count": 18,
     "metadata": {},
     "output_type": "execute_result"
    }
   ],
   "source": [
    "q1=df['application'].quantile(0.25)\n",
    "q2=df['application'].quantile(0.5)\n",
    "q3=df['application'].quantile(0.75)\n",
    "IQR = q3-q1\n",
    "ul=q3+1.5*IQR\n",
    "ll=q1-1.5*IQR\n",
    "IQR,ul,ll"
   ]
  },
  {
   "cell_type": "code",
   "execution_count": 19,
   "id": "1aa7d8b5",
   "metadata": {
    "scrolled": true
   },
   "outputs": [
    {
     "data": {
      "text/plain": [
       "count    150448.000000\n",
       "mean         25.195104\n",
       "std          17.640112\n",
       "min           2.000000\n",
       "25%          10.000000\n",
       "50%          15.000000\n",
       "75%          41.000000\n",
       "max          99.000000\n",
       "Name: application, dtype: float64"
      ]
     },
     "execution_count": 19,
     "metadata": {},
     "output_type": "execute_result"
    }
   ],
   "source": [
    "df['application'].describe()"
   ]
  },
  {
   "cell_type": "code",
   "execution_count": 20,
   "id": "a8796b14",
   "metadata": {},
   "outputs": [
    {
     "data": {
      "text/plain": [
       "(3.0, 7.5, -4.5)"
      ]
     },
     "execution_count": 20,
     "metadata": {},
     "output_type": "execute_result"
    }
   ],
   "source": [
    "q1=df['thickness'].quantile(0.25)\n",
    "q2=df['thickness'].quantile(0.5)\n",
    "q3=df['thickness'].quantile(0.75)\n",
    "IQR = q3-q1\n",
    "ul=q3+1.5*IQR\n",
    "ll=q1-1.5*IQR\n",
    "IQR,ul,ll"
   ]
  },
  {
   "cell_type": "code",
   "execution_count": 21,
   "id": "5d8b9a7f",
   "metadata": {
    "scrolled": true
   },
   "outputs": [
    {
     "data": {
      "text/plain": [
       "count    150448.000000\n",
       "mean          2.265853\n",
       "std           7.164469\n",
       "min           0.000000\n",
       "25%           0.000000\n",
       "50%           1.000000\n",
       "75%           3.000000\n",
       "max        2500.000000\n",
       "Name: thickness, dtype: float64"
      ]
     },
     "execution_count": 21,
     "metadata": {},
     "output_type": "execute_result"
    }
   ],
   "source": [
    "df['thickness'].describe()"
   ]
  },
  {
   "cell_type": "code",
   "execution_count": 22,
   "id": "b4099edb",
   "metadata": {},
   "outputs": [
    {
     "data": {
      "text/plain": [
       "(324.0, 1986.0, 690.0)"
      ]
     },
     "execution_count": 22,
     "metadata": {},
     "output_type": "execute_result"
    }
   ],
   "source": [
    "q1=df['width'].quantile(0.25)\n",
    "q2=df['width'].quantile(0.5)\n",
    "q3=df['width'].quantile(0.75)\n",
    "IQR = q3-q1\n",
    "ul=q3+1.5*IQR\n",
    "ll=q1-1.5*IQR\n",
    "IQR,ul,ll"
   ]
  },
  {
   "cell_type": "code",
   "execution_count": 23,
   "id": "1253d8d3",
   "metadata": {},
   "outputs": [
    {
     "data": {
      "text/plain": [
       "count    150448.000000\n",
       "mean       1297.839446\n",
       "std         266.159386\n",
       "min           1.000000\n",
       "25%        1176.000000\n",
       "50%        1250.000000\n",
       "75%        1500.000000\n",
       "max        2990.000000\n",
       "Name: width, dtype: float64"
      ]
     },
     "execution_count": 23,
     "metadata": {},
     "output_type": "execute_result"
    }
   ],
   "source": [
    "df['width'].describe()"
   ]
  },
  {
   "cell_type": "code",
   "execution_count": 24,
   "id": "c04f7539",
   "metadata": {},
   "outputs": [
    {
     "data": {
      "text/plain": [
       "(1331448760.0, 3329250277.0, -1996544763.0)"
      ]
     },
     "execution_count": 24,
     "metadata": {},
     "output_type": "execute_result"
    }
   ],
   "source": [
    "q1=df['product_ref'].quantile(0.25)\n",
    "q2=df['product_ref'].quantile(0.5)\n",
    "q3=df['product_ref'].quantile(0.75)\n",
    "IQR = q3-q1\n",
    "ul=q3+1.5*IQR\n",
    "ll=q1-1.5*IQR\n",
    "IQR,ul,ll"
   ]
  },
  {
   "cell_type": "code",
   "execution_count": 25,
   "id": "6921f144",
   "metadata": {},
   "outputs": [
    {
     "data": {
      "text/plain": [
       "count    1.504480e+05\n",
       "mean     4.748400e+08\n",
       "std      7.172630e+08\n",
       "min      6.117280e+05\n",
       "25%      6.283770e+05\n",
       "50%      6.406650e+05\n",
       "75%      1.332077e+09\n",
       "max      1.722208e+09\n",
       "Name: product_ref, dtype: float64"
      ]
     },
     "execution_count": 25,
     "metadata": {},
     "output_type": "execute_result"
    }
   ],
   "source": [
    "df['product_ref'].describe()"
   ]
  },
  {
   "cell_type": "code",
   "execution_count": 26,
   "id": "eada8d5f",
   "metadata": {},
   "outputs": [
    {
     "data": {
      "text/html": [
       "<div>\n",
       "<style scoped>\n",
       "    .dataframe tbody tr th:only-of-type {\n",
       "        vertical-align: middle;\n",
       "    }\n",
       "\n",
       "    .dataframe tbody tr th {\n",
       "        vertical-align: top;\n",
       "    }\n",
       "\n",
       "    .dataframe thead th {\n",
       "        text-align: right;\n",
       "    }\n",
       "</style>\n",
       "<table border=\"1\" class=\"dataframe\">\n",
       "  <thead>\n",
       "    <tr style=\"text-align: right;\">\n",
       "      <th></th>\n",
       "      <th>id</th>\n",
       "      <th>item_date</th>\n",
       "      <th>quantity tons</th>\n",
       "      <th>customer</th>\n",
       "      <th>country</th>\n",
       "      <th>status</th>\n",
       "      <th>item type</th>\n",
       "      <th>application</th>\n",
       "      <th>thickness</th>\n",
       "      <th>width</th>\n",
       "      <th>material_ref</th>\n",
       "      <th>product_ref</th>\n",
       "      <th>delivery date</th>\n",
       "      <th>selling_price</th>\n",
       "    </tr>\n",
       "  </thead>\n",
       "  <tbody>\n",
       "    <tr>\n",
       "      <th>0</th>\n",
       "      <td>EC06F063-9DF0-440C-8764-0B0C05A4F6AE</td>\n",
       "      <td>1970-01-01 00:00:00.020210401</td>\n",
       "      <td>54.151139</td>\n",
       "      <td>30156308</td>\n",
       "      <td>28</td>\n",
       "      <td>Won</td>\n",
       "      <td>W</td>\n",
       "      <td>10</td>\n",
       "      <td>2</td>\n",
       "      <td>1500</td>\n",
       "      <td>DEQ1 S460MC</td>\n",
       "      <td>1670798778</td>\n",
       "      <td>1970-01-01 00:00:00.020210701</td>\n",
       "      <td>854</td>\n",
       "    </tr>\n",
       "    <tr>\n",
       "      <th>1</th>\n",
       "      <td>4E5F4B3D-DDDF-499D-AFDE-A3227EC49425</td>\n",
       "      <td>1970-01-01 00:00:00.020210401</td>\n",
       "      <td>768.024839</td>\n",
       "      <td>30202938</td>\n",
       "      <td>25</td>\n",
       "      <td>Won</td>\n",
       "      <td>W</td>\n",
       "      <td>41</td>\n",
       "      <td>0</td>\n",
       "      <td>1210</td>\n",
       "      <td>DX51D+Z</td>\n",
       "      <td>1668701718</td>\n",
       "      <td>1970-01-01 00:00:00.020210401</td>\n",
       "      <td>1047</td>\n",
       "    </tr>\n",
       "    <tr>\n",
       "      <th>2</th>\n",
       "      <td>E140FF1B-2407-4C02-A0DD-780A093B1158</td>\n",
       "      <td>1970-01-01 00:00:00.020210401</td>\n",
       "      <td>386.127949</td>\n",
       "      <td>30153963</td>\n",
       "      <td>30</td>\n",
       "      <td>Won</td>\n",
       "      <td>WI</td>\n",
       "      <td>28</td>\n",
       "      <td>0</td>\n",
       "      <td>952</td>\n",
       "      <td>S0380700</td>\n",
       "      <td>628377</td>\n",
       "      <td>1970-01-01 00:00:00.020210101</td>\n",
       "      <td>644</td>\n",
       "    </tr>\n",
       "    <tr>\n",
       "      <th>3</th>\n",
       "      <td>F8D507A0-9C62-4EFE-831E-33E1DA53BB50</td>\n",
       "      <td>1970-01-01 00:00:00.020210401</td>\n",
       "      <td>202.411065</td>\n",
       "      <td>30349574</td>\n",
       "      <td>32</td>\n",
       "      <td>Won</td>\n",
       "      <td>S</td>\n",
       "      <td>59</td>\n",
       "      <td>2</td>\n",
       "      <td>1317</td>\n",
       "      <td>DX51D+ZM310MAO 2.3X1317</td>\n",
       "      <td>1668701718</td>\n",
       "      <td>1970-01-01 00:00:00.020210101</td>\n",
       "      <td>768</td>\n",
       "    </tr>\n",
       "    <tr>\n",
       "      <th>4</th>\n",
       "      <td>4E1C4E78-152B-430A-8094-ADD889C9D0AD</td>\n",
       "      <td>1970-01-01 00:00:00.020210401</td>\n",
       "      <td>785.526262</td>\n",
       "      <td>30211560</td>\n",
       "      <td>28</td>\n",
       "      <td>Won</td>\n",
       "      <td>W</td>\n",
       "      <td>10</td>\n",
       "      <td>4</td>\n",
       "      <td>2000</td>\n",
       "      <td>2_S275JR+AR-CL1</td>\n",
       "      <td>640665</td>\n",
       "      <td>1970-01-01 00:00:00.020210301</td>\n",
       "      <td>577</td>\n",
       "    </tr>\n",
       "    <tr>\n",
       "      <th>...</th>\n",
       "      <td>...</td>\n",
       "      <td>...</td>\n",
       "      <td>...</td>\n",
       "      <td>...</td>\n",
       "      <td>...</td>\n",
       "      <td>...</td>\n",
       "      <td>...</td>\n",
       "      <td>...</td>\n",
       "      <td>...</td>\n",
       "      <td>...</td>\n",
       "      <td>...</td>\n",
       "      <td>...</td>\n",
       "      <td>...</td>\n",
       "      <td>...</td>\n",
       "    </tr>\n",
       "    <tr>\n",
       "      <th>150443</th>\n",
       "      <td>DE633116-D1DF-4846-982E-55EFC3658A76</td>\n",
       "      <td>1970-01-01 00:00:00.020200702</td>\n",
       "      <td>102.482422</td>\n",
       "      <td>30200854</td>\n",
       "      <td>25</td>\n",
       "      <td>Won</td>\n",
       "      <td>W</td>\n",
       "      <td>41</td>\n",
       "      <td>0</td>\n",
       "      <td>1220</td>\n",
       "      <td>DX51D+Z</td>\n",
       "      <td>164141591</td>\n",
       "      <td>1970-01-01 00:00:00.020200701</td>\n",
       "      <td>591</td>\n",
       "    </tr>\n",
       "    <tr>\n",
       "      <th>150444</th>\n",
       "      <td>A48374B1-E6DB-45F2-889A-1F9C27C099EB</td>\n",
       "      <td>1970-01-01 00:00:00.020200702</td>\n",
       "      <td>208.086469</td>\n",
       "      <td>30200854</td>\n",
       "      <td>25</td>\n",
       "      <td>Won</td>\n",
       "      <td>W</td>\n",
       "      <td>41</td>\n",
       "      <td>0</td>\n",
       "      <td>1500</td>\n",
       "      <td>DX51D+Z</td>\n",
       "      <td>164141591</td>\n",
       "      <td>1970-01-01 00:00:00.020200701</td>\n",
       "      <td>589</td>\n",
       "    </tr>\n",
       "    <tr>\n",
       "      <th>150445</th>\n",
       "      <td>91643238-5C7B-4237-9A5F-63AE3D35F320</td>\n",
       "      <td>1970-01-01 00:00:00.020200702</td>\n",
       "      <td>4.235594</td>\n",
       "      <td>30200854</td>\n",
       "      <td>25</td>\n",
       "      <td>Won</td>\n",
       "      <td>W</td>\n",
       "      <td>41</td>\n",
       "      <td>0</td>\n",
       "      <td>1250</td>\n",
       "      <td>DX51D+Z</td>\n",
       "      <td>164141591</td>\n",
       "      <td>1970-01-01 00:00:00.020200701</td>\n",
       "      <td>619</td>\n",
       "    </tr>\n",
       "    <tr>\n",
       "      <th>150446</th>\n",
       "      <td>7AFFD323-01D9-4E15-B80D-7D1B03498FC8</td>\n",
       "      <td>1970-01-01 00:00:00.020200702</td>\n",
       "      <td>-2000</td>\n",
       "      <td>30200854</td>\n",
       "      <td>25</td>\n",
       "      <td>Won</td>\n",
       "      <td>W</td>\n",
       "      <td>41</td>\n",
       "      <td>0</td>\n",
       "      <td>1250</td>\n",
       "      <td>DX51D+Z</td>\n",
       "      <td>164141591</td>\n",
       "      <td>1970-01-01 00:00:00.020200701</td>\n",
       "      <td>601</td>\n",
       "    </tr>\n",
       "    <tr>\n",
       "      <th>150447</th>\n",
       "      <td>AD0CA853-AE3C-4B2F-9FBB-8B0B965F84BC</td>\n",
       "      <td>1970-01-01 00:00:00.020200702</td>\n",
       "      <td>406.686538</td>\n",
       "      <td>30200854</td>\n",
       "      <td>25</td>\n",
       "      <td>Won</td>\n",
       "      <td>W</td>\n",
       "      <td>41</td>\n",
       "      <td>0</td>\n",
       "      <td>1240</td>\n",
       "      <td>DX51D+Z</td>\n",
       "      <td>164141591</td>\n",
       "      <td>1970-01-01 00:00:00.020200701</td>\n",
       "      <td>607</td>\n",
       "    </tr>\n",
       "  </tbody>\n",
       "</table>\n",
       "<p>150448 rows × 14 columns</p>\n",
       "</div>"
      ],
      "text/plain": [
       "                                          id                     item_date  \\\n",
       "0       EC06F063-9DF0-440C-8764-0B0C05A4F6AE 1970-01-01 00:00:00.020210401   \n",
       "1       4E5F4B3D-DDDF-499D-AFDE-A3227EC49425 1970-01-01 00:00:00.020210401   \n",
       "2       E140FF1B-2407-4C02-A0DD-780A093B1158 1970-01-01 00:00:00.020210401   \n",
       "3       F8D507A0-9C62-4EFE-831E-33E1DA53BB50 1970-01-01 00:00:00.020210401   \n",
       "4       4E1C4E78-152B-430A-8094-ADD889C9D0AD 1970-01-01 00:00:00.020210401   \n",
       "...                                      ...                           ...   \n",
       "150443  DE633116-D1DF-4846-982E-55EFC3658A76 1970-01-01 00:00:00.020200702   \n",
       "150444  A48374B1-E6DB-45F2-889A-1F9C27C099EB 1970-01-01 00:00:00.020200702   \n",
       "150445  91643238-5C7B-4237-9A5F-63AE3D35F320 1970-01-01 00:00:00.020200702   \n",
       "150446  7AFFD323-01D9-4E15-B80D-7D1B03498FC8 1970-01-01 00:00:00.020200702   \n",
       "150447  AD0CA853-AE3C-4B2F-9FBB-8B0B965F84BC 1970-01-01 00:00:00.020200702   \n",
       "\n",
       "       quantity tons  customer  country status item type  application  \\\n",
       "0          54.151139  30156308       28    Won         W           10   \n",
       "1         768.024839  30202938       25    Won         W           41   \n",
       "2         386.127949  30153963       30    Won        WI           28   \n",
       "3         202.411065  30349574       32    Won         S           59   \n",
       "4         785.526262  30211560       28    Won         W           10   \n",
       "...              ...       ...      ...    ...       ...          ...   \n",
       "150443    102.482422  30200854       25    Won         W           41   \n",
       "150444    208.086469  30200854       25    Won         W           41   \n",
       "150445      4.235594  30200854       25    Won         W           41   \n",
       "150446         -2000  30200854       25    Won         W           41   \n",
       "150447    406.686538  30200854       25    Won         W           41   \n",
       "\n",
       "        thickness  width             material_ref  product_ref  \\\n",
       "0               2   1500              DEQ1 S460MC   1670798778   \n",
       "1               0   1210                  DX51D+Z   1668701718   \n",
       "2               0    952                 S0380700       628377   \n",
       "3               2   1317  DX51D+ZM310MAO 2.3X1317   1668701718   \n",
       "4               4   2000          2_S275JR+AR-CL1       640665   \n",
       "...           ...    ...                      ...          ...   \n",
       "150443          0   1220                  DX51D+Z    164141591   \n",
       "150444          0   1500                  DX51D+Z    164141591   \n",
       "150445          0   1250                  DX51D+Z    164141591   \n",
       "150446          0   1250                  DX51D+Z    164141591   \n",
       "150447          0   1240                  DX51D+Z    164141591   \n",
       "\n",
       "                       delivery date  selling_price  \n",
       "0      1970-01-01 00:00:00.020210701            854  \n",
       "1      1970-01-01 00:00:00.020210401           1047  \n",
       "2      1970-01-01 00:00:00.020210101            644  \n",
       "3      1970-01-01 00:00:00.020210101            768  \n",
       "4      1970-01-01 00:00:00.020210301            577  \n",
       "...                              ...            ...  \n",
       "150443 1970-01-01 00:00:00.020200701            591  \n",
       "150444 1970-01-01 00:00:00.020200701            589  \n",
       "150445 1970-01-01 00:00:00.020200701            619  \n",
       "150446 1970-01-01 00:00:00.020200701            601  \n",
       "150447 1970-01-01 00:00:00.020200701            607  \n",
       "\n",
       "[150448 rows x 14 columns]"
      ]
     },
     "execution_count": 26,
     "metadata": {},
     "output_type": "execute_result"
    }
   ],
   "source": [
    "df"
   ]
  },
  {
   "cell_type": "code",
   "execution_count": 27,
   "id": "b5640166",
   "metadata": {},
   "outputs": [],
   "source": [
    "df=df.drop_duplicates()"
   ]
  },
  {
   "cell_type": "code",
   "execution_count": 28,
   "id": "79e27335",
   "metadata": {
    "scrolled": true
   },
   "outputs": [
    {
     "data": {
      "text/plain": [
       "(150448, 14)"
      ]
     },
     "execution_count": 28,
     "metadata": {},
     "output_type": "execute_result"
    }
   ],
   "source": [
    "df.shape"
   ]
  },
  {
   "cell_type": "code",
   "execution_count": 29,
   "id": "58231029",
   "metadata": {},
   "outputs": [
    {
     "name": "stdout",
     "output_type": "stream",
     "text": [
      "<class 'pandas.core.frame.DataFrame'>\n",
      "Int64Index: 150448 entries, 0 to 150447\n",
      "Data columns (total 14 columns):\n",
      " #   Column         Non-Null Count   Dtype         \n",
      "---  ------         --------------   -----         \n",
      " 0   id             150448 non-null  object        \n",
      " 1   item_date      150448 non-null  datetime64[ns]\n",
      " 2   quantity tons  150448 non-null  object        \n",
      " 3   customer       150448 non-null  int32         \n",
      " 4   country        150448 non-null  int32         \n",
      " 5   status         150448 non-null  object        \n",
      " 6   item type      150448 non-null  object        \n",
      " 7   application    150448 non-null  int32         \n",
      " 8   thickness      150448 non-null  int32         \n",
      " 9   width          150448 non-null  int32         \n",
      " 10  material_ref   150448 non-null  object        \n",
      " 11  product_ref    150448 non-null  int64         \n",
      " 12  delivery date  150448 non-null  datetime64[ns]\n",
      " 13  selling_price  150448 non-null  int32         \n",
      "dtypes: datetime64[ns](2), int32(6), int64(1), object(5)\n",
      "memory usage: 13.8+ MB\n"
     ]
    }
   ],
   "source": [
    "df.info()"
   ]
  },
  {
   "cell_type": "code",
   "execution_count": 30,
   "id": "b19efe4e",
   "metadata": {},
   "outputs": [],
   "source": [
    "df.drop(columns=['id','quantity tons','material_ref'],inplace=True)"
   ]
  },
  {
   "cell_type": "code",
   "execution_count": 31,
   "id": "437f324c",
   "metadata": {
    "scrolled": true
   },
   "outputs": [
    {
     "data": {
      "text/html": [
       "<div>\n",
       "<style scoped>\n",
       "    .dataframe tbody tr th:only-of-type {\n",
       "        vertical-align: middle;\n",
       "    }\n",
       "\n",
       "    .dataframe tbody tr th {\n",
       "        vertical-align: top;\n",
       "    }\n",
       "\n",
       "    .dataframe thead th {\n",
       "        text-align: right;\n",
       "    }\n",
       "</style>\n",
       "<table border=\"1\" class=\"dataframe\">\n",
       "  <thead>\n",
       "    <tr style=\"text-align: right;\">\n",
       "      <th></th>\n",
       "      <th>item_date</th>\n",
       "      <th>customer</th>\n",
       "      <th>country</th>\n",
       "      <th>status</th>\n",
       "      <th>item type</th>\n",
       "      <th>application</th>\n",
       "      <th>thickness</th>\n",
       "      <th>width</th>\n",
       "      <th>product_ref</th>\n",
       "      <th>delivery date</th>\n",
       "      <th>selling_price</th>\n",
       "    </tr>\n",
       "  </thead>\n",
       "  <tbody>\n",
       "    <tr>\n",
       "      <th>0</th>\n",
       "      <td>1970-01-01 00:00:00.020210401</td>\n",
       "      <td>30156308</td>\n",
       "      <td>28</td>\n",
       "      <td>Won</td>\n",
       "      <td>W</td>\n",
       "      <td>10</td>\n",
       "      <td>2</td>\n",
       "      <td>1500</td>\n",
       "      <td>1670798778</td>\n",
       "      <td>1970-01-01 00:00:00.020210701</td>\n",
       "      <td>854</td>\n",
       "    </tr>\n",
       "    <tr>\n",
       "      <th>1</th>\n",
       "      <td>1970-01-01 00:00:00.020210401</td>\n",
       "      <td>30202938</td>\n",
       "      <td>25</td>\n",
       "      <td>Won</td>\n",
       "      <td>W</td>\n",
       "      <td>41</td>\n",
       "      <td>0</td>\n",
       "      <td>1210</td>\n",
       "      <td>1668701718</td>\n",
       "      <td>1970-01-01 00:00:00.020210401</td>\n",
       "      <td>1047</td>\n",
       "    </tr>\n",
       "    <tr>\n",
       "      <th>2</th>\n",
       "      <td>1970-01-01 00:00:00.020210401</td>\n",
       "      <td>30153963</td>\n",
       "      <td>30</td>\n",
       "      <td>Won</td>\n",
       "      <td>WI</td>\n",
       "      <td>28</td>\n",
       "      <td>0</td>\n",
       "      <td>952</td>\n",
       "      <td>628377</td>\n",
       "      <td>1970-01-01 00:00:00.020210101</td>\n",
       "      <td>644</td>\n",
       "    </tr>\n",
       "    <tr>\n",
       "      <th>3</th>\n",
       "      <td>1970-01-01 00:00:00.020210401</td>\n",
       "      <td>30349574</td>\n",
       "      <td>32</td>\n",
       "      <td>Won</td>\n",
       "      <td>S</td>\n",
       "      <td>59</td>\n",
       "      <td>2</td>\n",
       "      <td>1317</td>\n",
       "      <td>1668701718</td>\n",
       "      <td>1970-01-01 00:00:00.020210101</td>\n",
       "      <td>768</td>\n",
       "    </tr>\n",
       "    <tr>\n",
       "      <th>4</th>\n",
       "      <td>1970-01-01 00:00:00.020210401</td>\n",
       "      <td>30211560</td>\n",
       "      <td>28</td>\n",
       "      <td>Won</td>\n",
       "      <td>W</td>\n",
       "      <td>10</td>\n",
       "      <td>4</td>\n",
       "      <td>2000</td>\n",
       "      <td>640665</td>\n",
       "      <td>1970-01-01 00:00:00.020210301</td>\n",
       "      <td>577</td>\n",
       "    </tr>\n",
       "    <tr>\n",
       "      <th>...</th>\n",
       "      <td>...</td>\n",
       "      <td>...</td>\n",
       "      <td>...</td>\n",
       "      <td>...</td>\n",
       "      <td>...</td>\n",
       "      <td>...</td>\n",
       "      <td>...</td>\n",
       "      <td>...</td>\n",
       "      <td>...</td>\n",
       "      <td>...</td>\n",
       "      <td>...</td>\n",
       "    </tr>\n",
       "    <tr>\n",
       "      <th>150443</th>\n",
       "      <td>1970-01-01 00:00:00.020200702</td>\n",
       "      <td>30200854</td>\n",
       "      <td>25</td>\n",
       "      <td>Won</td>\n",
       "      <td>W</td>\n",
       "      <td>41</td>\n",
       "      <td>0</td>\n",
       "      <td>1220</td>\n",
       "      <td>164141591</td>\n",
       "      <td>1970-01-01 00:00:00.020200701</td>\n",
       "      <td>591</td>\n",
       "    </tr>\n",
       "    <tr>\n",
       "      <th>150444</th>\n",
       "      <td>1970-01-01 00:00:00.020200702</td>\n",
       "      <td>30200854</td>\n",
       "      <td>25</td>\n",
       "      <td>Won</td>\n",
       "      <td>W</td>\n",
       "      <td>41</td>\n",
       "      <td>0</td>\n",
       "      <td>1500</td>\n",
       "      <td>164141591</td>\n",
       "      <td>1970-01-01 00:00:00.020200701</td>\n",
       "      <td>589</td>\n",
       "    </tr>\n",
       "    <tr>\n",
       "      <th>150445</th>\n",
       "      <td>1970-01-01 00:00:00.020200702</td>\n",
       "      <td>30200854</td>\n",
       "      <td>25</td>\n",
       "      <td>Won</td>\n",
       "      <td>W</td>\n",
       "      <td>41</td>\n",
       "      <td>0</td>\n",
       "      <td>1250</td>\n",
       "      <td>164141591</td>\n",
       "      <td>1970-01-01 00:00:00.020200701</td>\n",
       "      <td>619</td>\n",
       "    </tr>\n",
       "    <tr>\n",
       "      <th>150446</th>\n",
       "      <td>1970-01-01 00:00:00.020200702</td>\n",
       "      <td>30200854</td>\n",
       "      <td>25</td>\n",
       "      <td>Won</td>\n",
       "      <td>W</td>\n",
       "      <td>41</td>\n",
       "      <td>0</td>\n",
       "      <td>1250</td>\n",
       "      <td>164141591</td>\n",
       "      <td>1970-01-01 00:00:00.020200701</td>\n",
       "      <td>601</td>\n",
       "    </tr>\n",
       "    <tr>\n",
       "      <th>150447</th>\n",
       "      <td>1970-01-01 00:00:00.020200702</td>\n",
       "      <td>30200854</td>\n",
       "      <td>25</td>\n",
       "      <td>Won</td>\n",
       "      <td>W</td>\n",
       "      <td>41</td>\n",
       "      <td>0</td>\n",
       "      <td>1240</td>\n",
       "      <td>164141591</td>\n",
       "      <td>1970-01-01 00:00:00.020200701</td>\n",
       "      <td>607</td>\n",
       "    </tr>\n",
       "  </tbody>\n",
       "</table>\n",
       "<p>150448 rows × 11 columns</p>\n",
       "</div>"
      ],
      "text/plain": [
       "                           item_date  customer  country status item type  \\\n",
       "0      1970-01-01 00:00:00.020210401  30156308       28    Won         W   \n",
       "1      1970-01-01 00:00:00.020210401  30202938       25    Won         W   \n",
       "2      1970-01-01 00:00:00.020210401  30153963       30    Won        WI   \n",
       "3      1970-01-01 00:00:00.020210401  30349574       32    Won         S   \n",
       "4      1970-01-01 00:00:00.020210401  30211560       28    Won         W   \n",
       "...                              ...       ...      ...    ...       ...   \n",
       "150443 1970-01-01 00:00:00.020200702  30200854       25    Won         W   \n",
       "150444 1970-01-01 00:00:00.020200702  30200854       25    Won         W   \n",
       "150445 1970-01-01 00:00:00.020200702  30200854       25    Won         W   \n",
       "150446 1970-01-01 00:00:00.020200702  30200854       25    Won         W   \n",
       "150447 1970-01-01 00:00:00.020200702  30200854       25    Won         W   \n",
       "\n",
       "        application  thickness  width  product_ref  \\\n",
       "0                10          2   1500   1670798778   \n",
       "1                41          0   1210   1668701718   \n",
       "2                28          0    952       628377   \n",
       "3                59          2   1317   1668701718   \n",
       "4                10          4   2000       640665   \n",
       "...             ...        ...    ...          ...   \n",
       "150443           41          0   1220    164141591   \n",
       "150444           41          0   1500    164141591   \n",
       "150445           41          0   1250    164141591   \n",
       "150446           41          0   1250    164141591   \n",
       "150447           41          0   1240    164141591   \n",
       "\n",
       "                       delivery date  selling_price  \n",
       "0      1970-01-01 00:00:00.020210701            854  \n",
       "1      1970-01-01 00:00:00.020210401           1047  \n",
       "2      1970-01-01 00:00:00.020210101            644  \n",
       "3      1970-01-01 00:00:00.020210101            768  \n",
       "4      1970-01-01 00:00:00.020210301            577  \n",
       "...                              ...            ...  \n",
       "150443 1970-01-01 00:00:00.020200701            591  \n",
       "150444 1970-01-01 00:00:00.020200701            589  \n",
       "150445 1970-01-01 00:00:00.020200701            619  \n",
       "150446 1970-01-01 00:00:00.020200701            601  \n",
       "150447 1970-01-01 00:00:00.020200701            607  \n",
       "\n",
       "[150448 rows x 11 columns]"
      ]
     },
     "execution_count": 31,
     "metadata": {},
     "output_type": "execute_result"
    }
   ],
   "source": [
    "df"
   ]
  },
  {
   "cell_type": "code",
   "execution_count": 32,
   "id": "b1779d39",
   "metadata": {},
   "outputs": [
    {
     "name": "stdout",
     "output_type": "stream",
     "text": [
      "<class 'pandas.core.frame.DataFrame'>\n",
      "Int64Index: 150448 entries, 0 to 150447\n",
      "Data columns (total 11 columns):\n",
      " #   Column         Non-Null Count   Dtype         \n",
      "---  ------         --------------   -----         \n",
      " 0   item_date      150448 non-null  datetime64[ns]\n",
      " 1   customer       150448 non-null  int32         \n",
      " 2   country        150448 non-null  int32         \n",
      " 3   status         150448 non-null  object        \n",
      " 4   item type      150448 non-null  object        \n",
      " 5   application    150448 non-null  int32         \n",
      " 6   thickness      150448 non-null  int32         \n",
      " 7   width          150448 non-null  int32         \n",
      " 8   product_ref    150448 non-null  int64         \n",
      " 9   delivery date  150448 non-null  datetime64[ns]\n",
      " 10  selling_price  150448 non-null  int32         \n",
      "dtypes: datetime64[ns](2), int32(6), int64(1), object(2)\n",
      "memory usage: 10.3+ MB\n"
     ]
    }
   ],
   "source": [
    "df.info()"
   ]
  },
  {
   "cell_type": "markdown",
   "id": "18d27efc",
   "metadata": {},
   "source": [
    "# EDA(Exploratory Data Analysis) -\n",
    "## VISUALIZATION :"
   ]
  },
  {
   "cell_type": "code",
   "execution_count": 33,
   "id": "e89c234f",
   "metadata": {
    "scrolled": false
   },
   "outputs": [
    {
     "name": "stderr",
     "output_type": "stream",
     "text": [
      "C:\\Users\\Windows 11\\anaconda3\\lib\\site-packages\\seaborn\\_decorators.py:36: FutureWarning: Pass the following variable as a keyword arg: x. From version 0.12, the only valid positional argument will be `data`, and passing other arguments without an explicit keyword will result in an error or misinterpretation.\n",
      "  warnings.warn(\n",
      "C:\\Users\\Windows 11\\anaconda3\\lib\\site-packages\\seaborn\\_decorators.py:36: FutureWarning: Pass the following variable as a keyword arg: x. From version 0.12, the only valid positional argument will be `data`, and passing other arguments without an explicit keyword will result in an error or misinterpretation.\n",
      "  warnings.warn(\n"
     ]
    },
    {
     "data": {
      "image/png": "[encoded data removed]",
      "text/plain": [
       "<Figure size 3000x2500 with 2 Axes>"
      ]
     },
     "metadata": {},
     "output_type": "display_data"
    }
   ],
   "source": [
    "plt.figure(figsize=(30,25))\n",
    "plt.subplot(431)\n",
    "sns.countplot(df['status'],order=df['status'].value_counts().index[::-1])\n",
    "plt.xlabel('status')\n",
    "plt.ylabel('counts')\n",
    "plt.title('status_category')\n",
    "\n",
    "plt.subplot(432)\n",
    "sns.countplot(df['item type'],order=df['item type'].value_counts().index[::-1])\n",
    "plt.xlabel('item type')\n",
    "plt.ylabel('counts')\n",
    "plt.title('itemtype_category')\n",
    "\n",
    "plt.tight_layout()"
   ]
  },
  {
   "cell_type": "code",
   "execution_count": 34,
   "id": "d1b8f63c",
   "metadata": {},
   "outputs": [],
   "source": [
    "#orders for all the barplots in ascending order\n",
    "customer_order = df.groupby('status')['customer'].mean().reset_index().sort_values('customer')['status']\n",
    "country_order = df.groupby('status')['country'].mean().reset_index().sort_values('country')['status']\n",
    "application_order = df.groupby('status')['application'].mean().reset_index().sort_values('application')['status']\n",
    "thickness_order = df.groupby('status')['thickness'].mean().reset_index().sort_values('thickness')['status']\n",
    "width_avail_order = df.groupby('status')['width'].mean().reset_index().sort_values('width')['status']\n",
    "product_ref_order = df.groupby('status')['product_ref'].mean().reset_index().sort_values('product_ref')['status']"
   ]
  },
  {
   "cell_type": "code",
   "execution_count": 35,
   "id": "975e7c31",
   "metadata": {},
   "outputs": [
    {
     "name": "stderr",
     "output_type": "stream",
     "text": [
      "C:\\Users\\Windows 11\\anaconda3\\lib\\site-packages\\seaborn\\_decorators.py:36: FutureWarning: Pass the following variables as keyword args: x, y. From version 0.12, the only valid positional argument will be `data`, and passing other arguments without an explicit keyword will result in an error or misinterpretation.\n",
      "  warnings.warn(\n",
      "C:\\Users\\Windows 11\\anaconda3\\lib\\site-packages\\seaborn\\_decorators.py:36: FutureWarning: Pass the following variables as keyword args: x, y. From version 0.12, the only valid positional argument will be `data`, and passing other arguments without an explicit keyword will result in an error or misinterpretation.\n",
      "  warnings.warn(\n",
      "C:\\Users\\Windows 11\\anaconda3\\lib\\site-packages\\seaborn\\_decorators.py:36: FutureWarning: Pass the following variables as keyword args: x, y. From version 0.12, the only valid positional argument will be `data`, and passing other arguments without an explicit keyword will result in an error or misinterpretation.\n",
      "  warnings.warn(\n",
      "C:\\Users\\Windows 11\\anaconda3\\lib\\site-packages\\seaborn\\_decorators.py:36: FutureWarning: Pass the following variables as keyword args: x, y. From version 0.12, the only valid positional argument will be `data`, and passing other arguments without an explicit keyword will result in an error or misinterpretation.\n",
      "  warnings.warn(\n",
      "C:\\Users\\Windows 11\\anaconda3\\lib\\site-packages\\seaborn\\_decorators.py:36: FutureWarning: Pass the following variables as keyword args: x, y. From version 0.12, the only valid positional argument will be `data`, and passing other arguments without an explicit keyword will result in an error or misinterpretation.\n",
      "  warnings.warn(\n",
      "C:\\Users\\Windows 11\\anaconda3\\lib\\site-packages\\seaborn\\_decorators.py:36: FutureWarning: Pass the following variables as keyword args: x, y. From version 0.12, the only valid positional argument will be `data`, and passing other arguments without an explicit keyword will result in an error or misinterpretation.\n",
      "  warnings.warn(\n"
     ]
    },
    {
     "data": {
      "image/png": "[encoded data removed]",
      "text/plain": [
       "<Figure size 2000x2500 with 6 Axes>"
      ]
     },
     "metadata": {},
     "output_type": "display_data"
    }
   ],
   "source": [
    "#for categorical columns\n",
    "plt.figure(figsize=(20,25))\n",
    "\n",
    "plt.subplot(431)\n",
    "sns.barplot(df['status'],df['customer'],order=customer_order)\n",
    "plt.xticks(rotation=15)\n",
    "plt.xlabel('status')\n",
    "plt.ylabel('customer')\n",
    "plt.title('status vs customer')\n",
    "\n",
    "plt.subplot(432)\n",
    "sns.barplot(df['status'],df['country'],order=country_order)\n",
    "plt.xticks(rotation=15)\n",
    "plt.xlabel('status')\n",
    "plt.ylabel('country')\n",
    "plt.title('status vs country')\n",
    "\n",
    "plt.subplot(433)\n",
    "sns.barplot(df['status'],df['application'],order=application_order)\n",
    "plt.xticks(rotation=15)\n",
    "plt.xlabel('status')\n",
    "plt.ylabel('application')\n",
    "plt.title('status vs application')\n",
    "\n",
    "plt.subplot(434)\n",
    "sns.barplot(df['status'],df['thickness'],order=thickness_order)\n",
    "plt.xticks(rotation=15)\n",
    "plt.xlabel('status')\n",
    "plt.ylabel('thickness')\n",
    "plt.title('status vs thickness')\n",
    "\n",
    "plt.subplot(435)\n",
    "sns.barplot(df['status'],df['width'],order=width_avail_order)\n",
    "plt.xticks(rotation=15)\n",
    "plt.xlabel('status')\n",
    "plt.ylabel('width')\n",
    "plt.title('status  vs width')\n",
    "\n",
    "plt.subplot(436)\n",
    "sns.barplot(df['status'],df['product_ref'],order=product_ref_order)\n",
    "plt.xticks(rotation=15)\n",
    "plt.xlabel('status')\n",
    "plt.ylabel('product_ref')\n",
    "plt.title('status vs product_ref')\n",
    "\n",
    "\n",
    "plt.tight_layout()"
   ]
  },
  {
   "cell_type": "code",
   "execution_count": 36,
   "id": "9629a716",
   "metadata": {
    "scrolled": false
   },
   "outputs": [
    {
     "name": "stderr",
     "output_type": "stream",
     "text": [
      "C:\\Users\\Windows 11\\anaconda3\\lib\\site-packages\\seaborn\\_decorators.py:36: FutureWarning: Pass the following variables as keyword args: x, y. From version 0.12, the only valid positional argument will be `data`, and passing other arguments without an explicit keyword will result in an error or misinterpretation.\n",
      "  warnings.warn(\n",
      "C:\\Users\\Windows 11\\anaconda3\\lib\\site-packages\\seaborn\\_decorators.py:36: FutureWarning: Pass the following variables as keyword args: x, y. From version 0.12, the only valid positional argument will be `data`, and passing other arguments without an explicit keyword will result in an error or misinterpretation.\n",
      "  warnings.warn(\n",
      "C:\\Users\\Windows 11\\anaconda3\\lib\\site-packages\\seaborn\\_decorators.py:36: FutureWarning: Pass the following variables as keyword args: x, y. From version 0.12, the only valid positional argument will be `data`, and passing other arguments without an explicit keyword will result in an error or misinterpretation.\n",
      "  warnings.warn(\n",
      "C:\\Users\\Windows 11\\anaconda3\\lib\\site-packages\\seaborn\\_decorators.py:36: FutureWarning: Pass the following variables as keyword args: x, y. From version 0.12, the only valid positional argument will be `data`, and passing other arguments without an explicit keyword will result in an error or misinterpretation.\n",
      "  warnings.warn(\n",
      "C:\\Users\\Windows 11\\anaconda3\\lib\\site-packages\\seaborn\\_decorators.py:36: FutureWarning: Pass the following variables as keyword args: x, y. From version 0.12, the only valid positional argument will be `data`, and passing other arguments without an explicit keyword will result in an error or misinterpretation.\n",
      "  warnings.warn(\n",
      "C:\\Users\\Windows 11\\anaconda3\\lib\\site-packages\\seaborn\\_decorators.py:36: FutureWarning: Pass the following variables as keyword args: x, y. From version 0.12, the only valid positional argument will be `data`, and passing other arguments without an explicit keyword will result in an error or misinterpretation.\n",
      "  warnings.warn(\n"
     ]
    },
    {
     "data": {
      "text/plain": [
       "Text(0.5, 1.0, 'product_ref_status')"
      ]
     },
     "execution_count": 36,
     "metadata": {},
     "output_type": "execute_result"
    },
    {
     "data": {
      "image/png": "[encoded data removed]",
      "text/plain": [
       "<Figure size 2000x2500 with 6 Axes>"
      ]
     },
     "metadata": {},
     "output_type": "display_data"
    }
   ],
   "source": [
    "plt.figure(figsize=(20,25))\n",
    "plt.subplot(431)\n",
    "sns.scatterplot(df['customer'],df['selling_price'])\n",
    "plt.xlabel('customer')\n",
    "plt.ylabel('counts')\n",
    "plt.title('customer_category')\n",
    "\n",
    "plt.subplot(432)\n",
    "sns.scatterplot(df['country'],df['selling_price'])\n",
    "plt.xlabel('country')\n",
    "plt.ylabel('counts')\n",
    "plt.title('country_category')\n",
    "\n",
    "\n",
    "plt.subplot(433)\n",
    "sns.scatterplot(df['application'],df['selling_price'])\n",
    "plt.xlabel('application')\n",
    "plt.ylabel('counts')\n",
    "plt.title('application_category')\n",
    "\n",
    "\n",
    "plt.subplot(434)\n",
    "sns.scatterplot(df['thickness'],df['selling_price'])\n",
    "plt.xlabel('thickness')\n",
    "plt.ylabel('counts')\n",
    "plt.title('thickness_category')\n",
    "\n",
    "\n",
    "\n",
    "plt.subplot(435)\n",
    "sns.scatterplot(df['width'],df['selling_price'])\n",
    "plt.xlabel('width')\n",
    "plt.ylabel('counts')\n",
    "plt.title('width_category')\n",
    "\n",
    "\n",
    "\n",
    "plt.subplot(436)\n",
    "sns.scatterplot(df['product_ref'],df['selling_price'])\n",
    "plt.xlabel('product_ref')\n",
    "plt.ylabel('counts')\n",
    "plt.title('product_ref_status')\n",
    "\n"
   ]
  },
  {
   "cell_type": "markdown",
   "id": "1747625c",
   "metadata": {},
   "source": [
    "# PREPROCESSING -\n",
    "## ENCODING :"
   ]
  },
  {
   "cell_type": "code",
   "execution_count": 37,
   "id": "883bc336",
   "metadata": {},
   "outputs": [],
   "source": [
    "df['item type']=df['item type'].map({'W':0,'S':1,'PL':2,'WI':3,'Others':4,'IPL':5,'SLAWR':6})\n",
    "df['status']=df['status'].map({'Won':0,'Lost':1})"
   ]
  },
  {
   "cell_type": "code",
   "execution_count": 38,
   "id": "c67ec92a",
   "metadata": {},
   "outputs": [
    {
     "data": {
      "text/html": [
       "<div>\n",
       "<style scoped>\n",
       "    .dataframe tbody tr th:only-of-type {\n",
       "        vertical-align: middle;\n",
       "    }\n",
       "\n",
       "    .dataframe tbody tr th {\n",
       "        vertical-align: top;\n",
       "    }\n",
       "\n",
       "    .dataframe thead th {\n",
       "        text-align: right;\n",
       "    }\n",
       "</style>\n",
       "<table border=\"1\" class=\"dataframe\">\n",
       "  <thead>\n",
       "    <tr style=\"text-align: right;\">\n",
       "      <th></th>\n",
       "      <th>item_date</th>\n",
       "      <th>customer</th>\n",
       "      <th>country</th>\n",
       "      <th>status</th>\n",
       "      <th>item type</th>\n",
       "      <th>application</th>\n",
       "      <th>thickness</th>\n",
       "      <th>width</th>\n",
       "      <th>product_ref</th>\n",
       "      <th>delivery date</th>\n",
       "      <th>selling_price</th>\n",
       "    </tr>\n",
       "  </thead>\n",
       "  <tbody>\n",
       "    <tr>\n",
       "      <th>0</th>\n",
       "      <td>1970-01-01 00:00:00.020210401</td>\n",
       "      <td>30156308</td>\n",
       "      <td>28</td>\n",
       "      <td>0</td>\n",
       "      <td>0</td>\n",
       "      <td>10</td>\n",
       "      <td>2</td>\n",
       "      <td>1500</td>\n",
       "      <td>1670798778</td>\n",
       "      <td>1970-01-01 00:00:00.020210701</td>\n",
       "      <td>854</td>\n",
       "    </tr>\n",
       "    <tr>\n",
       "      <th>1</th>\n",
       "      <td>1970-01-01 00:00:00.020210401</td>\n",
       "      <td>30202938</td>\n",
       "      <td>25</td>\n",
       "      <td>0</td>\n",
       "      <td>0</td>\n",
       "      <td>41</td>\n",
       "      <td>0</td>\n",
       "      <td>1210</td>\n",
       "      <td>1668701718</td>\n",
       "      <td>1970-01-01 00:00:00.020210401</td>\n",
       "      <td>1047</td>\n",
       "    </tr>\n",
       "    <tr>\n",
       "      <th>2</th>\n",
       "      <td>1970-01-01 00:00:00.020210401</td>\n",
       "      <td>30153963</td>\n",
       "      <td>30</td>\n",
       "      <td>0</td>\n",
       "      <td>3</td>\n",
       "      <td>28</td>\n",
       "      <td>0</td>\n",
       "      <td>952</td>\n",
       "      <td>628377</td>\n",
       "      <td>1970-01-01 00:00:00.020210101</td>\n",
       "      <td>644</td>\n",
       "    </tr>\n",
       "    <tr>\n",
       "      <th>3</th>\n",
       "      <td>1970-01-01 00:00:00.020210401</td>\n",
       "      <td>30349574</td>\n",
       "      <td>32</td>\n",
       "      <td>0</td>\n",
       "      <td>1</td>\n",
       "      <td>59</td>\n",
       "      <td>2</td>\n",
       "      <td>1317</td>\n",
       "      <td>1668701718</td>\n",
       "      <td>1970-01-01 00:00:00.020210101</td>\n",
       "      <td>768</td>\n",
       "    </tr>\n",
       "    <tr>\n",
       "      <th>4</th>\n",
       "      <td>1970-01-01 00:00:00.020210401</td>\n",
       "      <td>30211560</td>\n",
       "      <td>28</td>\n",
       "      <td>0</td>\n",
       "      <td>0</td>\n",
       "      <td>10</td>\n",
       "      <td>4</td>\n",
       "      <td>2000</td>\n",
       "      <td>640665</td>\n",
       "      <td>1970-01-01 00:00:00.020210301</td>\n",
       "      <td>577</td>\n",
       "    </tr>\n",
       "    <tr>\n",
       "      <th>...</th>\n",
       "      <td>...</td>\n",
       "      <td>...</td>\n",
       "      <td>...</td>\n",
       "      <td>...</td>\n",
       "      <td>...</td>\n",
       "      <td>...</td>\n",
       "      <td>...</td>\n",
       "      <td>...</td>\n",
       "      <td>...</td>\n",
       "      <td>...</td>\n",
       "      <td>...</td>\n",
       "    </tr>\n",
       "    <tr>\n",
       "      <th>150443</th>\n",
       "      <td>1970-01-01 00:00:00.020200702</td>\n",
       "      <td>30200854</td>\n",
       "      <td>25</td>\n",
       "      <td>0</td>\n",
       "      <td>0</td>\n",
       "      <td>41</td>\n",
       "      <td>0</td>\n",
       "      <td>1220</td>\n",
       "      <td>164141591</td>\n",
       "      <td>1970-01-01 00:00:00.020200701</td>\n",
       "      <td>591</td>\n",
       "    </tr>\n",
       "    <tr>\n",
       "      <th>150444</th>\n",
       "      <td>1970-01-01 00:00:00.020200702</td>\n",
       "      <td>30200854</td>\n",
       "      <td>25</td>\n",
       "      <td>0</td>\n",
       "      <td>0</td>\n",
       "      <td>41</td>\n",
       "      <td>0</td>\n",
       "      <td>1500</td>\n",
       "      <td>164141591</td>\n",
       "      <td>1970-01-01 00:00:00.020200701</td>\n",
       "      <td>589</td>\n",
       "    </tr>\n",
       "    <tr>\n",
       "      <th>150445</th>\n",
       "      <td>1970-01-01 00:00:00.020200702</td>\n",
       "      <td>30200854</td>\n",
       "      <td>25</td>\n",
       "      <td>0</td>\n",
       "      <td>0</td>\n",
       "      <td>41</td>\n",
       "      <td>0</td>\n",
       "      <td>1250</td>\n",
       "      <td>164141591</td>\n",
       "      <td>1970-01-01 00:00:00.020200701</td>\n",
       "      <td>619</td>\n",
       "    </tr>\n",
       "    <tr>\n",
       "      <th>150446</th>\n",
       "      <td>1970-01-01 00:00:00.020200702</td>\n",
       "      <td>30200854</td>\n",
       "      <td>25</td>\n",
       "      <td>0</td>\n",
       "      <td>0</td>\n",
       "      <td>41</td>\n",
       "      <td>0</td>\n",
       "      <td>1250</td>\n",
       "      <td>164141591</td>\n",
       "      <td>1970-01-01 00:00:00.020200701</td>\n",
       "      <td>601</td>\n",
       "    </tr>\n",
       "    <tr>\n",
       "      <th>150447</th>\n",
       "      <td>1970-01-01 00:00:00.020200702</td>\n",
       "      <td>30200854</td>\n",
       "      <td>25</td>\n",
       "      <td>0</td>\n",
       "      <td>0</td>\n",
       "      <td>41</td>\n",
       "      <td>0</td>\n",
       "      <td>1240</td>\n",
       "      <td>164141591</td>\n",
       "      <td>1970-01-01 00:00:00.020200701</td>\n",
       "      <td>607</td>\n",
       "    </tr>\n",
       "  </tbody>\n",
       "</table>\n",
       "<p>150448 rows × 11 columns</p>\n",
       "</div>"
      ],
      "text/plain": [
       "                           item_date  customer  country  status  item type  \\\n",
       "0      1970-01-01 00:00:00.020210401  30156308       28       0          0   \n",
       "1      1970-01-01 00:00:00.020210401  30202938       25       0          0   \n",
       "2      1970-01-01 00:00:00.020210401  30153963       30       0          3   \n",
       "3      1970-01-01 00:00:00.020210401  30349574       32       0          1   \n",
       "4      1970-01-01 00:00:00.020210401  30211560       28       0          0   \n",
       "...                              ...       ...      ...     ...        ...   \n",
       "150443 1970-01-01 00:00:00.020200702  30200854       25       0          0   \n",
       "150444 1970-01-01 00:00:00.020200702  30200854       25       0          0   \n",
       "150445 1970-01-01 00:00:00.020200702  30200854       25       0          0   \n",
       "150446 1970-01-01 00:00:00.020200702  30200854       25       0          0   \n",
       "150447 1970-01-01 00:00:00.020200702  30200854       25       0          0   \n",
       "\n",
       "        application  thickness  width  product_ref  \\\n",
       "0                10          2   1500   1670798778   \n",
       "1                41          0   1210   1668701718   \n",
       "2                28          0    952       628377   \n",
       "3                59          2   1317   1668701718   \n",
       "4                10          4   2000       640665   \n",
       "...             ...        ...    ...          ...   \n",
       "150443           41          0   1220    164141591   \n",
       "150444           41          0   1500    164141591   \n",
       "150445           41          0   1250    164141591   \n",
       "150446           41          0   1250    164141591   \n",
       "150447           41          0   1240    164141591   \n",
       "\n",
       "                       delivery date  selling_price  \n",
       "0      1970-01-01 00:00:00.020210701            854  \n",
       "1      1970-01-01 00:00:00.020210401           1047  \n",
       "2      1970-01-01 00:00:00.020210101            644  \n",
       "3      1970-01-01 00:00:00.020210101            768  \n",
       "4      1970-01-01 00:00:00.020210301            577  \n",
       "...                              ...            ...  \n",
       "150443 1970-01-01 00:00:00.020200701            591  \n",
       "150444 1970-01-01 00:00:00.020200701            589  \n",
       "150445 1970-01-01 00:00:00.020200701            619  \n",
       "150446 1970-01-01 00:00:00.020200701            601  \n",
       "150447 1970-01-01 00:00:00.020200701            607  \n",
       "\n",
       "[150448 rows x 11 columns]"
      ]
     },
     "execution_count": 38,
     "metadata": {},
     "output_type": "execute_result"
    }
   ],
   "source": [
    "df"
   ]
  },
  {
   "cell_type": "code",
   "execution_count": 39,
   "id": "6513a9cd",
   "metadata": {
    "scrolled": true
   },
   "outputs": [
    {
     "data": {
      "text/html": [
       "<div>\n",
       "<style scoped>\n",
       "    .dataframe tbody tr th:only-of-type {\n",
       "        vertical-align: middle;\n",
       "    }\n",
       "\n",
       "    .dataframe tbody tr th {\n",
       "        vertical-align: top;\n",
       "    }\n",
       "\n",
       "    .dataframe thead th {\n",
       "        text-align: right;\n",
       "    }\n",
       "</style>\n",
       "<table border=\"1\" class=\"dataframe\">\n",
       "  <thead>\n",
       "    <tr style=\"text-align: right;\">\n",
       "      <th></th>\n",
       "      <th>item_date</th>\n",
       "      <th>customer</th>\n",
       "      <th>country</th>\n",
       "      <th>status</th>\n",
       "      <th>item type</th>\n",
       "      <th>application</th>\n",
       "      <th>thickness</th>\n",
       "      <th>width</th>\n",
       "      <th>product_ref</th>\n",
       "      <th>delivery date</th>\n",
       "      <th>selling_price</th>\n",
       "    </tr>\n",
       "  </thead>\n",
       "  <tbody>\n",
       "    <tr>\n",
       "      <th>0</th>\n",
       "      <td>1970-01-01 00:00:00.020210401</td>\n",
       "      <td>30156308</td>\n",
       "      <td>28</td>\n",
       "      <td>0</td>\n",
       "      <td>0</td>\n",
       "      <td>10</td>\n",
       "      <td>2</td>\n",
       "      <td>1500</td>\n",
       "      <td>1670798778</td>\n",
       "      <td>1970-01-01 00:00:00.020210701</td>\n",
       "      <td>854</td>\n",
       "    </tr>\n",
       "    <tr>\n",
       "      <th>1</th>\n",
       "      <td>1970-01-01 00:00:00.020210401</td>\n",
       "      <td>30202938</td>\n",
       "      <td>25</td>\n",
       "      <td>0</td>\n",
       "      <td>0</td>\n",
       "      <td>41</td>\n",
       "      <td>0</td>\n",
       "      <td>1210</td>\n",
       "      <td>1668701718</td>\n",
       "      <td>1970-01-01 00:00:00.020210401</td>\n",
       "      <td>1047</td>\n",
       "    </tr>\n",
       "    <tr>\n",
       "      <th>2</th>\n",
       "      <td>1970-01-01 00:00:00.020210401</td>\n",
       "      <td>30153963</td>\n",
       "      <td>30</td>\n",
       "      <td>0</td>\n",
       "      <td>3</td>\n",
       "      <td>28</td>\n",
       "      <td>0</td>\n",
       "      <td>952</td>\n",
       "      <td>628377</td>\n",
       "      <td>1970-01-01 00:00:00.020210101</td>\n",
       "      <td>644</td>\n",
       "    </tr>\n",
       "    <tr>\n",
       "      <th>3</th>\n",
       "      <td>1970-01-01 00:00:00.020210401</td>\n",
       "      <td>30349574</td>\n",
       "      <td>32</td>\n",
       "      <td>0</td>\n",
       "      <td>1</td>\n",
       "      <td>59</td>\n",
       "      <td>2</td>\n",
       "      <td>1317</td>\n",
       "      <td>1668701718</td>\n",
       "      <td>1970-01-01 00:00:00.020210101</td>\n",
       "      <td>768</td>\n",
       "    </tr>\n",
       "    <tr>\n",
       "      <th>4</th>\n",
       "      <td>1970-01-01 00:00:00.020210401</td>\n",
       "      <td>30211560</td>\n",
       "      <td>28</td>\n",
       "      <td>0</td>\n",
       "      <td>0</td>\n",
       "      <td>10</td>\n",
       "      <td>4</td>\n",
       "      <td>2000</td>\n",
       "      <td>640665</td>\n",
       "      <td>1970-01-01 00:00:00.020210301</td>\n",
       "      <td>577</td>\n",
       "    </tr>\n",
       "    <tr>\n",
       "      <th>...</th>\n",
       "      <td>...</td>\n",
       "      <td>...</td>\n",
       "      <td>...</td>\n",
       "      <td>...</td>\n",
       "      <td>...</td>\n",
       "      <td>...</td>\n",
       "      <td>...</td>\n",
       "      <td>...</td>\n",
       "      <td>...</td>\n",
       "      <td>...</td>\n",
       "      <td>...</td>\n",
       "    </tr>\n",
       "    <tr>\n",
       "      <th>150443</th>\n",
       "      <td>1970-01-01 00:00:00.020200702</td>\n",
       "      <td>30200854</td>\n",
       "      <td>25</td>\n",
       "      <td>0</td>\n",
       "      <td>0</td>\n",
       "      <td>41</td>\n",
       "      <td>0</td>\n",
       "      <td>1220</td>\n",
       "      <td>164141591</td>\n",
       "      <td>1970-01-01 00:00:00.020200701</td>\n",
       "      <td>591</td>\n",
       "    </tr>\n",
       "    <tr>\n",
       "      <th>150444</th>\n",
       "      <td>1970-01-01 00:00:00.020200702</td>\n",
       "      <td>30200854</td>\n",
       "      <td>25</td>\n",
       "      <td>0</td>\n",
       "      <td>0</td>\n",
       "      <td>41</td>\n",
       "      <td>0</td>\n",
       "      <td>1500</td>\n",
       "      <td>164141591</td>\n",
       "      <td>1970-01-01 00:00:00.020200701</td>\n",
       "      <td>589</td>\n",
       "    </tr>\n",
       "    <tr>\n",
       "      <th>150445</th>\n",
       "      <td>1970-01-01 00:00:00.020200702</td>\n",
       "      <td>30200854</td>\n",
       "      <td>25</td>\n",
       "      <td>0</td>\n",
       "      <td>0</td>\n",
       "      <td>41</td>\n",
       "      <td>0</td>\n",
       "      <td>1250</td>\n",
       "      <td>164141591</td>\n",
       "      <td>1970-01-01 00:00:00.020200701</td>\n",
       "      <td>619</td>\n",
       "    </tr>\n",
       "    <tr>\n",
       "      <th>150446</th>\n",
       "      <td>1970-01-01 00:00:00.020200702</td>\n",
       "      <td>30200854</td>\n",
       "      <td>25</td>\n",
       "      <td>0</td>\n",
       "      <td>0</td>\n",
       "      <td>41</td>\n",
       "      <td>0</td>\n",
       "      <td>1250</td>\n",
       "      <td>164141591</td>\n",
       "      <td>1970-01-01 00:00:00.020200701</td>\n",
       "      <td>601</td>\n",
       "    </tr>\n",
       "    <tr>\n",
       "      <th>150447</th>\n",
       "      <td>1970-01-01 00:00:00.020200702</td>\n",
       "      <td>30200854</td>\n",
       "      <td>25</td>\n",
       "      <td>0</td>\n",
       "      <td>0</td>\n",
       "      <td>41</td>\n",
       "      <td>0</td>\n",
       "      <td>1240</td>\n",
       "      <td>164141591</td>\n",
       "      <td>1970-01-01 00:00:00.020200701</td>\n",
       "      <td>607</td>\n",
       "    </tr>\n",
       "  </tbody>\n",
       "</table>\n",
       "<p>150448 rows × 11 columns</p>\n",
       "</div>"
      ],
      "text/plain": [
       "                           item_date  customer  country  status  item type  \\\n",
       "0      1970-01-01 00:00:00.020210401  30156308       28       0          0   \n",
       "1      1970-01-01 00:00:00.020210401  30202938       25       0          0   \n",
       "2      1970-01-01 00:00:00.020210401  30153963       30       0          3   \n",
       "3      1970-01-01 00:00:00.020210401  30349574       32       0          1   \n",
       "4      1970-01-01 00:00:00.020210401  30211560       28       0          0   \n",
       "...                              ...       ...      ...     ...        ...   \n",
       "150443 1970-01-01 00:00:00.020200702  30200854       25       0          0   \n",
       "150444 1970-01-01 00:00:00.020200702  30200854       25       0          0   \n",
       "150445 1970-01-01 00:00:00.020200702  30200854       25       0          0   \n",
       "150446 1970-01-01 00:00:00.020200702  30200854       25       0          0   \n",
       "150447 1970-01-01 00:00:00.020200702  30200854       25       0          0   \n",
       "\n",
       "        application  thickness  width  product_ref  \\\n",
       "0                10          2   1500   1670798778   \n",
       "1                41          0   1210   1668701718   \n",
       "2                28          0    952       628377   \n",
       "3                59          2   1317   1668701718   \n",
       "4                10          4   2000       640665   \n",
       "...             ...        ...    ...          ...   \n",
       "150443           41          0   1220    164141591   \n",
       "150444           41          0   1500    164141591   \n",
       "150445           41          0   1250    164141591   \n",
       "150446           41          0   1250    164141591   \n",
       "150447           41          0   1240    164141591   \n",
       "\n",
       "                       delivery date  selling_price  \n",
       "0      1970-01-01 00:00:00.020210701            854  \n",
       "1      1970-01-01 00:00:00.020210401           1047  \n",
       "2      1970-01-01 00:00:00.020210101            644  \n",
       "3      1970-01-01 00:00:00.020210101            768  \n",
       "4      1970-01-01 00:00:00.020210301            577  \n",
       "...                              ...            ...  \n",
       "150443 1970-01-01 00:00:00.020200701            591  \n",
       "150444 1970-01-01 00:00:00.020200701            589  \n",
       "150445 1970-01-01 00:00:00.020200701            619  \n",
       "150446 1970-01-01 00:00:00.020200701            601  \n",
       "150447 1970-01-01 00:00:00.020200701            607  \n",
       "\n",
       "[150448 rows x 11 columns]"
      ]
     },
     "execution_count": 39,
     "metadata": {},
     "output_type": "execute_result"
    }
   ],
   "source": [
    "df"
   ]
  },
  {
   "cell_type": "code",
   "execution_count": 40,
   "id": "9fd02694",
   "metadata": {
    "scrolled": false
   },
   "outputs": [
    {
     "name": "stdout",
     "output_type": "stream",
     "text": [
      "<class 'pandas.core.frame.DataFrame'>\n",
      "Int64Index: 150448 entries, 0 to 150447\n",
      "Data columns (total 11 columns):\n",
      " #   Column         Non-Null Count   Dtype         \n",
      "---  ------         --------------   -----         \n",
      " 0   item_date      150448 non-null  datetime64[ns]\n",
      " 1   customer       150448 non-null  int32         \n",
      " 2   country        150448 non-null  int32         \n",
      " 3   status         150448 non-null  int64         \n",
      " 4   item type      150448 non-null  int64         \n",
      " 5   application    150448 non-null  int32         \n",
      " 6   thickness      150448 non-null  int32         \n",
      " 7   width          150448 non-null  int32         \n",
      " 8   product_ref    150448 non-null  int64         \n",
      " 9   delivery date  150448 non-null  datetime64[ns]\n",
      " 10  selling_price  150448 non-null  int32         \n",
      "dtypes: datetime64[ns](2), int32(6), int64(3)\n",
      "memory usage: 10.3 MB\n"
     ]
    }
   ],
   "source": [
    "df.info()"
   ]
  },
  {
   "cell_type": "markdown",
   "id": "1c2697bc",
   "metadata": {},
   "source": [
    "# SPLITTING For CLASSIFIER ALGORITHMS:"
   ]
  },
  {
   "cell_type": "code",
   "execution_count": 41,
   "id": "d870d64d",
   "metadata": {},
   "outputs": [],
   "source": [
    "x=df.drop(columns=['status','selling_price','item_date','delivery date'])\n",
    "y=df['status']"
   ]
  },
  {
   "cell_type": "code",
   "execution_count": 42,
   "id": "bf9d73a9",
   "metadata": {},
   "outputs": [
    {
     "data": {
      "text/html": [
       "<div>\n",
       "<style scoped>\n",
       "    .dataframe tbody tr th:only-of-type {\n",
       "        vertical-align: middle;\n",
       "    }\n",
       "\n",
       "    .dataframe tbody tr th {\n",
       "        vertical-align: top;\n",
       "    }\n",
       "\n",
       "    .dataframe thead th {\n",
       "        text-align: right;\n",
       "    }\n",
       "</style>\n",
       "<table border=\"1\" class=\"dataframe\">\n",
       "  <thead>\n",
       "    <tr style=\"text-align: right;\">\n",
       "      <th></th>\n",
       "      <th>customer</th>\n",
       "      <th>country</th>\n",
       "      <th>item type</th>\n",
       "      <th>application</th>\n",
       "      <th>thickness</th>\n",
       "      <th>width</th>\n",
       "      <th>product_ref</th>\n",
       "    </tr>\n",
       "  </thead>\n",
       "  <tbody>\n",
       "    <tr>\n",
       "      <th>0</th>\n",
       "      <td>30156308</td>\n",
       "      <td>28</td>\n",
       "      <td>0</td>\n",
       "      <td>10</td>\n",
       "      <td>2</td>\n",
       "      <td>1500</td>\n",
       "      <td>1670798778</td>\n",
       "    </tr>\n",
       "    <tr>\n",
       "      <th>1</th>\n",
       "      <td>30202938</td>\n",
       "      <td>25</td>\n",
       "      <td>0</td>\n",
       "      <td>41</td>\n",
       "      <td>0</td>\n",
       "      <td>1210</td>\n",
       "      <td>1668701718</td>\n",
       "    </tr>\n",
       "    <tr>\n",
       "      <th>2</th>\n",
       "      <td>30153963</td>\n",
       "      <td>30</td>\n",
       "      <td>3</td>\n",
       "      <td>28</td>\n",
       "      <td>0</td>\n",
       "      <td>952</td>\n",
       "      <td>628377</td>\n",
       "    </tr>\n",
       "    <tr>\n",
       "      <th>3</th>\n",
       "      <td>30349574</td>\n",
       "      <td>32</td>\n",
       "      <td>1</td>\n",
       "      <td>59</td>\n",
       "      <td>2</td>\n",
       "      <td>1317</td>\n",
       "      <td>1668701718</td>\n",
       "    </tr>\n",
       "    <tr>\n",
       "      <th>4</th>\n",
       "      <td>30211560</td>\n",
       "      <td>28</td>\n",
       "      <td>0</td>\n",
       "      <td>10</td>\n",
       "      <td>4</td>\n",
       "      <td>2000</td>\n",
       "      <td>640665</td>\n",
       "    </tr>\n",
       "    <tr>\n",
       "      <th>...</th>\n",
       "      <td>...</td>\n",
       "      <td>...</td>\n",
       "      <td>...</td>\n",
       "      <td>...</td>\n",
       "      <td>...</td>\n",
       "      <td>...</td>\n",
       "      <td>...</td>\n",
       "    </tr>\n",
       "    <tr>\n",
       "      <th>150443</th>\n",
       "      <td>30200854</td>\n",
       "      <td>25</td>\n",
       "      <td>0</td>\n",
       "      <td>41</td>\n",
       "      <td>0</td>\n",
       "      <td>1220</td>\n",
       "      <td>164141591</td>\n",
       "    </tr>\n",
       "    <tr>\n",
       "      <th>150444</th>\n",
       "      <td>30200854</td>\n",
       "      <td>25</td>\n",
       "      <td>0</td>\n",
       "      <td>41</td>\n",
       "      <td>0</td>\n",
       "      <td>1500</td>\n",
       "      <td>164141591</td>\n",
       "    </tr>\n",
       "    <tr>\n",
       "      <th>150445</th>\n",
       "      <td>30200854</td>\n",
       "      <td>25</td>\n",
       "      <td>0</td>\n",
       "      <td>41</td>\n",
       "      <td>0</td>\n",
       "      <td>1250</td>\n",
       "      <td>164141591</td>\n",
       "    </tr>\n",
       "    <tr>\n",
       "      <th>150446</th>\n",
       "      <td>30200854</td>\n",
       "      <td>25</td>\n",
       "      <td>0</td>\n",
       "      <td>41</td>\n",
       "      <td>0</td>\n",
       "      <td>1250</td>\n",
       "      <td>164141591</td>\n",
       "    </tr>\n",
       "    <tr>\n",
       "      <th>150447</th>\n",
       "      <td>30200854</td>\n",
       "      <td>25</td>\n",
       "      <td>0</td>\n",
       "      <td>41</td>\n",
       "      <td>0</td>\n",
       "      <td>1240</td>\n",
       "      <td>164141591</td>\n",
       "    </tr>\n",
       "  </tbody>\n",
       "</table>\n",
       "<p>150448 rows × 7 columns</p>\n",
       "</div>"
      ],
      "text/plain": [
       "        customer  country  item type  application  thickness  width  \\\n",
       "0       30156308       28          0           10          2   1500   \n",
       "1       30202938       25          0           41          0   1210   \n",
       "2       30153963       30          3           28          0    952   \n",
       "3       30349574       32          1           59          2   1317   \n",
       "4       30211560       28          0           10          4   2000   \n",
       "...          ...      ...        ...          ...        ...    ...   \n",
       "150443  30200854       25          0           41          0   1220   \n",
       "150444  30200854       25          0           41          0   1500   \n",
       "150445  30200854       25          0           41          0   1250   \n",
       "150446  30200854       25          0           41          0   1250   \n",
       "150447  30200854       25          0           41          0   1240   \n",
       "\n",
       "        product_ref  \n",
       "0        1670798778  \n",
       "1        1668701718  \n",
       "2            628377  \n",
       "3        1668701718  \n",
       "4            640665  \n",
       "...             ...  \n",
       "150443    164141591  \n",
       "150444    164141591  \n",
       "150445    164141591  \n",
       "150446    164141591  \n",
       "150447    164141591  \n",
       "\n",
       "[150448 rows x 7 columns]"
      ]
     },
     "execution_count": 42,
     "metadata": {},
     "output_type": "execute_result"
    }
   ],
   "source": [
    "x"
   ]
  },
  {
   "cell_type": "code",
   "execution_count": 43,
   "id": "69a07d54",
   "metadata": {
    "scrolled": true
   },
   "outputs": [
    {
     "data": {
      "text/plain": [
       "0         0\n",
       "1         0\n",
       "2         0\n",
       "3         0\n",
       "4         0\n",
       "         ..\n",
       "150443    0\n",
       "150444    0\n",
       "150445    0\n",
       "150446    0\n",
       "150447    0\n",
       "Name: status, Length: 150448, dtype: int64"
      ]
     },
     "execution_count": 43,
     "metadata": {},
     "output_type": "execute_result"
    }
   ],
   "source": [
    "y"
   ]
  },
  {
   "cell_type": "code",
   "execution_count": 44,
   "id": "16201a1a",
   "metadata": {},
   "outputs": [],
   "source": [
    "xtrain,xtest,ytrain,ytest = train_test_split(x,y,test_size=0.2,random_state=70)"
   ]
  },
  {
   "cell_type": "markdown",
   "id": "77929598",
   "metadata": {},
   "source": [
    "# SCALING :"
   ]
  },
  {
   "cell_type": "code",
   "execution_count": 45,
   "id": "a10fc505",
   "metadata": {},
   "outputs": [],
   "source": [
    "ss=StandardScaler()\n",
    "xtrain=ss.fit_transform(xtrain)\n",
    "xtest=ss.transform(xtest)"
   ]
  },
  {
   "cell_type": "markdown",
   "id": "1c2b8201",
   "metadata": {},
   "source": [
    "# MACHINE LEARNING MODEL SELECTION -\n",
    "## KNeighborsClassifier :"
   ]
  },
  {
   "cell_type": "code",
   "execution_count": 46,
   "id": "41981d03",
   "metadata": {
    "scrolled": true
   },
   "outputs": [
    {
     "name": "stdout",
     "output_type": "stream",
     "text": [
      "kvalue 1 trainscore 0.8964755147144353 crosscore 0.8408331659225343\n",
      "kvalue 2 trainscore 0.889878529054986 crosscore 0.8494574233261993\n",
      "kvalue 3 trainscore 0.8910417255188687 crosscore 0.8453031571398532\n",
      "kvalue 4 trainscore 0.883863141627478 crosscore 0.8497066983511452\n",
      "kvalue 5 trainscore 0.8835972681500192 crosscore 0.8489091146447102\n",
      "kvalue 6 trainscore 0.8765017697203343 crosscore 0.8485518358371775\n",
      "kvalue 7 trainscore 0.8755878296415693 crosscore 0.8460426365274761\n",
      "kvalue 8 trainscore 0.8717409727645856 crosscore 0.846482983537961\n",
      "kvalue 9 trainscore 0.8713587796407385 crosscore 0.8456687519493865\n",
      "kvalue 10 trainscore 0.8671878894631018 crosscore 0.8441233652594355\n",
      "kvalue 11 trainscore 0.8661493211917779 crosscore 0.8427939978706727\n",
      "kvalue 12 trainscore 0.8634656607786769 crosscore 0.8418634430457417\n",
      "kvalue 13 trainscore 0.8626597318001296 crosscore 0.8405008213139282\n",
      "kvalue 14 trainscore 0.8595107928014756 crosscore 0.8401020163439885\n",
      "kvalue 15 trainscore 0.8586965552767577 crosscore 0.8390551265466859\n",
      "kvalue 16 trainscore 0.8556140846474684 crosscore 0.8392213181808955\n",
      "kvalue 17 trainscore 0.8553232855314977 crosscore 0.8381993549886276\n",
      "kvalue 18 trainscore 0.853021818242244 crosscore 0.8372023577515618\n",
      "kvalue 19 trainscore 0.8524568371026437 crosscore 0.8367204417767333\n"
     ]
    }
   ],
   "source": [
    "kvalue=np.arange(1,20)\n",
    "kcrossval=[]\n",
    "for k in kvalue:\n",
    "    knn=KNeighborsClassifier(n_neighbors=k)\n",
    "    knn.fit(xtrain,ytrain)\n",
    "    print('kvalue',k,'trainscore',knn.score(xtrain,ytrain),'crosscore',cross_val_score(knn,xtrain,ytrain,cv=10).mean())\n",
    "    kcrossval.append(cross_val_score(knn,xtrain,ytrain,cv=10).mean())"
   ]
  },
  {
   "cell_type": "code",
   "execution_count": 47,
   "id": "9693927f",
   "metadata": {
    "scrolled": true
   },
   "outputs": [
    {
     "data": {
      "text/plain": [
       "0.8497066983511452"
      ]
     },
     "execution_count": 47,
     "metadata": {},
     "output_type": "execute_result"
    }
   ],
   "source": [
    "max(kcrossval)"
   ]
  },
  {
   "cell_type": "markdown",
   "id": "9029fe42",
   "metadata": {},
   "source": [
    "# IMPLEMENTING KNeighborsClassifier :"
   ]
  },
  {
   "cell_type": "code",
   "execution_count": 48,
   "id": "df94b76f",
   "metadata": {},
   "outputs": [
    {
     "data": {
      "text/html": [
       "<style>#sk-container-id-1 {color: black;background-color: white;}#sk-container-id-1 pre{padding: 0;}#sk-container-id-1 div.sk-toggleable {background-color: white;}#sk-container-id-1 label.sk-toggleable__label {cursor: pointer;display: block;width: 100%;margin-bottom: 0;padding: 0.3em;box-sizing: border-box;text-align: center;}#sk-container-id-1 label.sk-toggleable__label-arrow:before {content: \"▸\";float: left;margin-right: 0.25em;color: #696969;}#sk-container-id-1 label.sk-toggleable__label-arrow:hover:before {color: black;}#sk-container-id-1 div.sk-estimator:hover label.sk-toggleable__label-arrow:before {color: black;}#sk-container-id-1 div.sk-toggleable__content {max-height: 0;max-width: 0;overflow: hidden;text-align: left;background-color: #f0f8ff;}#sk-container-id-1 div.sk-toggleable__content pre {margin: 0.2em;color: black;border-radius: 0.25em;background-color: #f0f8ff;}#sk-container-id-1 input.sk-toggleable__control:checked~div.sk-toggleable__content {max-height: 200px;max-width: 100%;overflow: auto;}#sk-container-id-1 input.sk-toggleable__control:checked~label.sk-toggleable__label-arrow:before {content: \"▾\";}#sk-container-id-1 div.sk-estimator input.sk-toggleable__control:checked~label.sk-toggleable__label {background-color: #d4ebff;}#sk-container-id-1 div.sk-label input.sk-toggleable__control:checked~label.sk-toggleable__label {background-color: #d4ebff;}#sk-container-id-1 input.sk-hidden--visually {border: 0;clip: rect(1px 1px 1px 1px);clip: rect(1px, 1px, 1px, 1px);height: 1px;margin: -1px;overflow: hidden;padding: 0;position: absolute;width: 1px;}#sk-container-id-1 div.sk-estimator {font-family: monospace;background-color: #f0f8ff;border: 1px dotted black;border-radius: 0.25em;box-sizing: border-box;margin-bottom: 0.5em;}#sk-container-id-1 div.sk-estimator:hover {background-color: #d4ebff;}#sk-container-id-1 div.sk-parallel-item::after {content: \"\";width: 100%;border-bottom: 1px solid gray;flex-grow: 1;}#sk-container-id-1 div.sk-label:hover label.sk-toggleable__label {background-color: #d4ebff;}#sk-container-id-1 div.sk-serial::before {content: \"\";position: absolute;border-left: 1px solid gray;box-sizing: border-box;top: 0;bottom: 0;left: 50%;z-index: 0;}#sk-container-id-1 div.sk-serial {display: flex;flex-direction: column;align-items: center;background-color: white;padding-right: 0.2em;padding-left: 0.2em;position: relative;}#sk-container-id-1 div.sk-item {position: relative;z-index: 1;}#sk-container-id-1 div.sk-parallel {display: flex;align-items: stretch;justify-content: center;background-color: white;position: relative;}#sk-container-id-1 div.sk-item::before, #sk-container-id-1 div.sk-parallel-item::before {content: \"\";position: absolute;border-left: 1px solid gray;box-sizing: border-box;top: 0;bottom: 0;left: 50%;z-index: -1;}#sk-container-id-1 div.sk-parallel-item {display: flex;flex-direction: column;z-index: 1;position: relative;background-color: white;}#sk-container-id-1 div.sk-parallel-item:first-child::after {align-self: flex-end;width: 50%;}#sk-container-id-1 div.sk-parallel-item:last-child::after {align-self: flex-start;width: 50%;}#sk-container-id-1 div.sk-parallel-item:only-child::after {width: 0;}#sk-container-id-1 div.sk-dashed-wrapped {border: 1px dashed gray;margin: 0 0.4em 0.5em 0.4em;box-sizing: border-box;padding-bottom: 0.4em;background-color: white;}#sk-container-id-1 div.sk-label label {font-family: monospace;font-weight: bold;display: inline-block;line-height: 1.2em;}#sk-container-id-1 div.sk-label-container {text-align: center;}#sk-container-id-1 div.sk-container {/* jupyter's `normalize.less` sets `[hidden] { display: none; }` but bootstrap.min.css set `[hidden] { display: none !important; }` so we also need the `!important` here to be able to override the default hidden behavior on the sphinx rendered scikit-learn.org. See: https://github.com/scikit-learn/scikit-learn/issues/21755 */display: inline-block !important;position: relative;}#sk-container-id-1 div.sk-text-repr-fallback {display: none;}</style><div id=\"sk-container-id-1\" class=\"sk-top-container\"><div class=\"sk-text-repr-fallback\"><pre>KNeighborsClassifier(n_neighbors=4)</pre><b>In a Jupyter environment, please rerun this cell to show the HTML representation or trust the notebook. <br />On GitHub, the HTML representation is unable to render, please try loading this page with nbviewer.org.</b></div><div class=\"sk-container\" hidden><div class=\"sk-item\"><div class=\"sk-estimator sk-toggleable\"><input class=\"sk-toggleable__control sk-hidden--visually\" id=\"sk-estimator-id-1\" type=\"checkbox\" checked><label for=\"sk-estimator-id-1\" class=\"sk-toggleable__label sk-toggleable__label-arrow\">KNeighborsClassifier</label><div class=\"sk-toggleable__content\"><pre>KNeighborsClassifier(n_neighbors=4)</pre></div></div></div></div></div>"
      ],
      "text/plain": [
       "KNeighborsClassifier(n_neighbors=4)"
      ]
     },
     "execution_count": 48,
     "metadata": {},
     "output_type": "execute_result"
    }
   ],
   "source": [
    "knn=KNeighborsClassifier(n_neighbors=4)\n",
    "knn.fit(xtrain,ytrain)"
   ]
  },
  {
   "cell_type": "code",
   "execution_count": 49,
   "id": "f5ac5958",
   "metadata": {},
   "outputs": [],
   "source": [
    "knn1=knn.predict(xtest)"
   ]
  },
  {
   "cell_type": "code",
   "execution_count": 50,
   "id": "47821709",
   "metadata": {},
   "outputs": [
    {
     "data": {
      "text/plain": [
       "array([0, 0, 0, ..., 0, 0, 0], dtype=int64)"
      ]
     },
     "execution_count": 50,
     "metadata": {},
     "output_type": "execute_result"
    }
   ],
   "source": [
    "knn1"
   ]
  },
  {
   "cell_type": "code",
   "execution_count": 51,
   "id": "0a7da967",
   "metadata": {},
   "outputs": [
    {
     "data": {
      "text/plain": [
       "array([[22188,  1037],\n",
       "       [ 3371,  3494]], dtype=int64)"
      ]
     },
     "execution_count": 51,
     "metadata": {},
     "output_type": "execute_result"
    }
   ],
   "source": [
    "knncm=confusion_matrix(ytest,knn1)\n",
    "knncm"
   ]
  },
  {
   "cell_type": "code",
   "execution_count": 52,
   "id": "957454dd",
   "metadata": {},
   "outputs": [
    {
     "data": {
      "text/plain": [
       "0.8535061482220007"
      ]
     },
     "execution_count": 52,
     "metadata": {},
     "output_type": "execute_result"
    }
   ],
   "source": [
    "knnas=accuracy_score(ytest,knn1)\n",
    "knnas"
   ]
  },
  {
   "cell_type": "code",
   "execution_count": 53,
   "id": "b429be23",
   "metadata": {
    "scrolled": false
   },
   "outputs": [
    {
     "data": {
      "text/plain": [
       "0.8535061482220007"
      ]
     },
     "execution_count": 53,
     "metadata": {},
     "output_type": "execute_result"
    }
   ],
   "source": [
    "knn.score(xtest,ytest)"
   ]
  },
  {
   "cell_type": "code",
   "execution_count": 168,
   "id": "b553fc6c",
   "metadata": {},
   "outputs": [
    {
     "data": {
      "text/plain": [
       "0.7321541618026259"
      ]
     },
     "execution_count": 168,
     "metadata": {},
     "output_type": "execute_result"
    }
   ],
   "source": [
    "knnauc=roc_auc_score(ytest,knn1)\n",
    "knnauc"
   ]
  },
  {
   "cell_type": "code",
   "execution_count": 54,
   "id": "056c8c61",
   "metadata": {},
   "outputs": [
    {
     "data": {
      "text/plain": [
       "0.5089584850691915"
      ]
     },
     "execution_count": 54,
     "metadata": {},
     "output_type": "execute_result"
    }
   ],
   "source": [
    "knnrs=recall_score(ytest,knn1)\n",
    "knnrs"
   ]
  },
  {
   "cell_type": "code",
   "execution_count": 55,
   "id": "f928564d",
   "metadata": {},
   "outputs": [
    {
     "data": {
      "text/plain": [
       "0.7711322003972633"
      ]
     },
     "execution_count": 55,
     "metadata": {},
     "output_type": "execute_result"
    }
   ],
   "source": [
    "knnps=precision_score(ytest,knn1)\n",
    "knnps"
   ]
  },
  {
   "cell_type": "code",
   "execution_count": 181,
   "id": "e83303d2",
   "metadata": {},
   "outputs": [],
   "source": [
    "kcrossvalue=cross_val_score(knn,xtrain,ytrain,cv=10).mean()"
   ]
  },
  {
   "cell_type": "code",
   "execution_count": 182,
   "id": "12ce690c",
   "metadata": {},
   "outputs": [
    {
     "data": {
      "text/plain": [
       "0.8497066983511452"
      ]
     },
     "execution_count": 182,
     "metadata": {},
     "output_type": "execute_result"
    }
   ],
   "source": [
    "kcrossvalue"
   ]
  },
  {
   "cell_type": "code",
   "execution_count": 58,
   "id": "223a428b",
   "metadata": {},
   "outputs": [],
   "source": [
    "f1kcrossvalscore=cross_val_score(knn,xtrain,ytrain,cv=10,scoring='f1').mean()"
   ]
  },
  {
   "cell_type": "code",
   "execution_count": 59,
   "id": "6cdcd8c5",
   "metadata": {},
   "outputs": [
    {
     "data": {
      "text/plain": [
       "0.6042272149828671"
      ]
     },
     "execution_count": 59,
     "metadata": {},
     "output_type": "execute_result"
    }
   ],
   "source": [
    "f1kcrossvalscore"
   ]
  },
  {
   "cell_type": "markdown",
   "id": "54235bef",
   "metadata": {},
   "source": [
    "# DecisionTreeClassifier :"
   ]
  },
  {
   "cell_type": "code",
   "execution_count": 60,
   "id": "6a148a26",
   "metadata": {},
   "outputs": [
    {
     "name": "stdout",
     "output_type": "stream",
     "text": [
      "dvalue\"1\" train score\"0.7709084564382924\"crossval\"0.770908456599458\"\n",
      "dvalue\"2\" train score\"0.7709084564382924\"crossval\"0.770908456599458\"\n",
      "dvalue\"3\" train score\"0.7709084564382924\"crossval\"0.770908456599458\"\n",
      "dvalue\"4\" train score\"0.7962162880739129\"crossval\"0.796116589298715\"\n",
      "dvalue\"5\" train score\"0.8148772827730604\"crossval\"0.8147111055698713\"\n",
      "dvalue\"6\" train score\"0.8222968145033982\"crossval\"0.8215157939835113\"\n",
      "dvalue\"7\" train score\"0.8367204506555443\"crossval\"0.8352664254846595\"\n",
      "dvalue\"8\" train score\"0.8419049834659931\"crossval\"0.8401269305226544\"\n",
      "dvalue\"9\" train score\"0.8507702022300138\"crossval\"0.8472307575266169\"\n"
     ]
    }
   ],
   "source": [
    "dvalue=np.arange(1,10)\n",
    "dcrossvalue=[]\n",
    "for m in dvalue:\n",
    "    d=DecisionTreeClassifier(max_depth=m,random_state=35)\n",
    "    d.fit(xtrain,ytrain)\n",
    "    print(f'dvalue\"{m}\" train score\"{d.score(xtrain,ytrain)}\"crossval\"{cross_val_score(d,xtrain,ytrain,cv=10).mean()}\"')\n",
    "    dcrossvalue.append(cross_val_score(d,xtrain,ytrain,cv=10).mean())"
   ]
  },
  {
   "cell_type": "code",
   "execution_count": 61,
   "id": "f014e48d",
   "metadata": {
    "scrolled": true
   },
   "outputs": [
    {
     "data": {
      "text/plain": [
       "0.8472307575266169"
      ]
     },
     "execution_count": 61,
     "metadata": {},
     "output_type": "execute_result"
    }
   ],
   "source": [
    "max(dcrossvalue)"
   ]
  },
  {
   "cell_type": "markdown",
   "id": "7fa8fbe4",
   "metadata": {},
   "source": [
    "# IMPLEMENTING DecisionTreeClassifier :"
   ]
  },
  {
   "cell_type": "code",
   "execution_count": 62,
   "id": "29adff96",
   "metadata": {},
   "outputs": [
    {
     "data": {
      "text/html": [
       "<style>#sk-container-id-2 {color: black;background-color: white;}#sk-container-id-2 pre{padding: 0;}#sk-container-id-2 div.sk-toggleable {background-color: white;}#sk-container-id-2 label.sk-toggleable__label {cursor: pointer;display: block;width: 100%;margin-bottom: 0;padding: 0.3em;box-sizing: border-box;text-align: center;}#sk-container-id-2 label.sk-toggleable__label-arrow:before {content: \"▸\";float: left;margin-right: 0.25em;color: #696969;}#sk-container-id-2 label.sk-toggleable__label-arrow:hover:before {color: black;}#sk-container-id-2 div.sk-estimator:hover label.sk-toggleable__label-arrow:before {color: black;}#sk-container-id-2 div.sk-toggleable__content {max-height: 0;max-width: 0;overflow: hidden;text-align: left;background-color: #f0f8ff;}#sk-container-id-2 div.sk-toggleable__content pre {margin: 0.2em;color: black;border-radius: 0.25em;background-color: #f0f8ff;}#sk-container-id-2 input.sk-toggleable__control:checked~div.sk-toggleable__content {max-height: 200px;max-width: 100%;overflow: auto;}#sk-container-id-2 input.sk-toggleable__control:checked~label.sk-toggleable__label-arrow:before {content: \"▾\";}#sk-container-id-2 div.sk-estimator input.sk-toggleable__control:checked~label.sk-toggleable__label {background-color: #d4ebff;}#sk-container-id-2 div.sk-label input.sk-toggleable__control:checked~label.sk-toggleable__label {background-color: #d4ebff;}#sk-container-id-2 input.sk-hidden--visually {border: 0;clip: rect(1px 1px 1px 1px);clip: rect(1px, 1px, 1px, 1px);height: 1px;margin: -1px;overflow: hidden;padding: 0;position: absolute;width: 1px;}#sk-container-id-2 div.sk-estimator {font-family: monospace;background-color: #f0f8ff;border: 1px dotted black;border-radius: 0.25em;box-sizing: border-box;margin-bottom: 0.5em;}#sk-container-id-2 div.sk-estimator:hover {background-color: #d4ebff;}#sk-container-id-2 div.sk-parallel-item::after {content: \"\";width: 100%;border-bottom: 1px solid gray;flex-grow: 1;}#sk-container-id-2 div.sk-label:hover label.sk-toggleable__label {background-color: #d4ebff;}#sk-container-id-2 div.sk-serial::before {content: \"\";position: absolute;border-left: 1px solid gray;box-sizing: border-box;top: 0;bottom: 0;left: 50%;z-index: 0;}#sk-container-id-2 div.sk-serial {display: flex;flex-direction: column;align-items: center;background-color: white;padding-right: 0.2em;padding-left: 0.2em;position: relative;}#sk-container-id-2 div.sk-item {position: relative;z-index: 1;}#sk-container-id-2 div.sk-parallel {display: flex;align-items: stretch;justify-content: center;background-color: white;position: relative;}#sk-container-id-2 div.sk-item::before, #sk-container-id-2 div.sk-parallel-item::before {content: \"\";position: absolute;border-left: 1px solid gray;box-sizing: border-box;top: 0;bottom: 0;left: 50%;z-index: -1;}#sk-container-id-2 div.sk-parallel-item {display: flex;flex-direction: column;z-index: 1;position: relative;background-color: white;}#sk-container-id-2 div.sk-parallel-item:first-child::after {align-self: flex-end;width: 50%;}#sk-container-id-2 div.sk-parallel-item:last-child::after {align-self: flex-start;width: 50%;}#sk-container-id-2 div.sk-parallel-item:only-child::after {width: 0;}#sk-container-id-2 div.sk-dashed-wrapped {border: 1px dashed gray;margin: 0 0.4em 0.5em 0.4em;box-sizing: border-box;padding-bottom: 0.4em;background-color: white;}#sk-container-id-2 div.sk-label label {font-family: monospace;font-weight: bold;display: inline-block;line-height: 1.2em;}#sk-container-id-2 div.sk-label-container {text-align: center;}#sk-container-id-2 div.sk-container {/* jupyter's `normalize.less` sets `[hidden] { display: none; }` but bootstrap.min.css set `[hidden] { display: none !important; }` so we also need the `!important` here to be able to override the default hidden behavior on the sphinx rendered scikit-learn.org. See: https://github.com/scikit-learn/scikit-learn/issues/21755 */display: inline-block !important;position: relative;}#sk-container-id-2 div.sk-text-repr-fallback {display: none;}</style><div id=\"sk-container-id-2\" class=\"sk-top-container\"><div class=\"sk-text-repr-fallback\"><pre>DecisionTreeClassifier(max_depth=9, random_state=35)</pre><b>In a Jupyter environment, please rerun this cell to show the HTML representation or trust the notebook. <br />On GitHub, the HTML representation is unable to render, please try loading this page with nbviewer.org.</b></div><div class=\"sk-container\" hidden><div class=\"sk-item\"><div class=\"sk-estimator sk-toggleable\"><input class=\"sk-toggleable__control sk-hidden--visually\" id=\"sk-estimator-id-2\" type=\"checkbox\" checked><label for=\"sk-estimator-id-2\" class=\"sk-toggleable__label sk-toggleable__label-arrow\">DecisionTreeClassifier</label><div class=\"sk-toggleable__content\"><pre>DecisionTreeClassifier(max_depth=9, random_state=35)</pre></div></div></div></div></div>"
      ],
      "text/plain": [
       "DecisionTreeClassifier(max_depth=9, random_state=35)"
      ]
     },
     "execution_count": 62,
     "metadata": {},
     "output_type": "execute_result"
    }
   ],
   "source": [
    "d=DecisionTreeClassifier(max_depth=9,random_state=35)\n",
    "d.fit(xtrain,ytrain)"
   ]
  },
  {
   "cell_type": "code",
   "execution_count": 63,
   "id": "e54d8c3a",
   "metadata": {},
   "outputs": [],
   "source": [
    "d1=d.predict(xtest)"
   ]
  },
  {
   "cell_type": "code",
   "execution_count": 64,
   "id": "2b29e1e4",
   "metadata": {},
   "outputs": [
    {
     "data": {
      "text/plain": [
       "array([0, 0, 0, ..., 1, 0, 0], dtype=int64)"
      ]
     },
     "execution_count": 64,
     "metadata": {},
     "output_type": "execute_result"
    }
   ],
   "source": [
    "d1"
   ]
  },
  {
   "cell_type": "code",
   "execution_count": 65,
   "id": "85ea9a52",
   "metadata": {},
   "outputs": [
    {
     "data": {
      "text/plain": [
       "array([[22077,  1148],\n",
       "       [ 3440,  3425]], dtype=int64)"
      ]
     },
     "execution_count": 65,
     "metadata": {},
     "output_type": "execute_result"
    }
   ],
   "source": [
    "dcm=confusion_matrix(ytest,d1)\n",
    "dcm"
   ]
  },
  {
   "cell_type": "code",
   "execution_count": 66,
   "id": "a1a332f1",
   "metadata": {},
   "outputs": [
    {
     "data": {
      "text/plain": [
       "0.8475240943835162"
      ]
     },
     "execution_count": 66,
     "metadata": {},
     "output_type": "execute_result"
    }
   ],
   "source": [
    "das=accuracy_score(ytest,d1)\n",
    "das"
   ]
  },
  {
   "cell_type": "code",
   "execution_count": 67,
   "id": "810ed071",
   "metadata": {},
   "outputs": [
    {
     "data": {
      "text/plain": [
       "0.8475240943835162"
      ]
     },
     "execution_count": 67,
     "metadata": {},
     "output_type": "execute_result"
    }
   ],
   "source": [
    "d.score(xtest,ytest)"
   ]
  },
  {
   "cell_type": "code",
   "execution_count": 169,
   "id": "bfe15378",
   "metadata": {},
   "outputs": [
    {
     "data": {
      "text/plain": [
       "0.7247390038705873"
      ]
     },
     "execution_count": 169,
     "metadata": {},
     "output_type": "execute_result"
    }
   ],
   "source": [
    "dauc=roc_auc_score(ytest,d1)\n",
    "dauc"
   ]
  },
  {
   "cell_type": "code",
   "execution_count": 68,
   "id": "aa3507c7",
   "metadata": {},
   "outputs": [
    {
     "data": {
      "text/plain": [
       "0.4989075018208303"
      ]
     },
     "execution_count": 68,
     "metadata": {},
     "output_type": "execute_result"
    }
   ],
   "source": [
    "drs=recall_score(ytest,d1)\n",
    "drs"
   ]
  },
  {
   "cell_type": "code",
   "execution_count": 69,
   "id": "ac47a962",
   "metadata": {},
   "outputs": [
    {
     "data": {
      "text/plain": [
       "0.7489612945549967"
      ]
     },
     "execution_count": 69,
     "metadata": {},
     "output_type": "execute_result"
    }
   ],
   "source": [
    "dps=precision_score(ytest,d1)\n",
    "dps"
   ]
  },
  {
   "cell_type": "code",
   "execution_count": 184,
   "id": "683096a9",
   "metadata": {},
   "outputs": [],
   "source": [
    "dcrossvalue= cross_val_score(d,xtrain,ytrain,cv=10).mean()"
   ]
  },
  {
   "cell_type": "code",
   "execution_count": 185,
   "id": "b71c4883",
   "metadata": {
    "scrolled": true
   },
   "outputs": [
    {
     "data": {
      "text/plain": [
       "0.8472307575266169"
      ]
     },
     "execution_count": 185,
     "metadata": {},
     "output_type": "execute_result"
    }
   ],
   "source": [
    "dcrossvalue"
   ]
  },
  {
   "cell_type": "code",
   "execution_count": 72,
   "id": "3fa6dbf1",
   "metadata": {},
   "outputs": [],
   "source": [
    "f1dcrossvalscore= cross_val_score(d,xtrain,ytrain,cv=10,scoring='f1').mean()"
   ]
  },
  {
   "cell_type": "code",
   "execution_count": 73,
   "id": "a2ff188f",
   "metadata": {
    "scrolled": false
   },
   "outputs": [
    {
     "data": {
      "text/plain": [
       "0.5993584798093496"
      ]
     },
     "execution_count": 73,
     "metadata": {},
     "output_type": "execute_result"
    }
   ],
   "source": [
    "f1dcrossvalscore"
   ]
  },
  {
   "cell_type": "markdown",
   "id": "e19d7fe5",
   "metadata": {},
   "source": [
    "# RandomForestClassifier :"
   ]
  },
  {
   "cell_type": "code",
   "execution_count": 74,
   "id": "f6b8b6d8",
   "metadata": {
    "scrolled": true
   },
   "outputs": [
    {
     "name": "stdout",
     "output_type": "stream",
     "text": [
      "mdvalue 1 train score 0.7709084564382924 crossval 0.770908456599458\n",
      "mdvalue 4 train score 0.7905083168547168 crossval 0.7907409677904383\n",
      "mdvalue 7 train score 0.8269911430897822 crossval 0.82648432765683\n",
      "mdvalue 9 train score 0.8450954651955 crossval 0.8423204027303216\n",
      "mdvalue 12 train score 0.8717326642184151 crossval 0.8627760369355858\n",
      "mdvalue 17 train score 0.9092872929094867 crossval 0.8807141682555161\n",
      "mdvalue 19 train score 0.9165905049934362 crossval 0.8813290028819509\n",
      "mdvalue 26 train score 0.9231459479220326 crossval 0.8785705582325175\n",
      "mdvalue 30 train score 0.9231957991990561 crossval 0.8786120975116474\n"
     ]
    }
   ],
   "source": [
    "rscore=np.array([1,4,7,9,12,17,19,26,30])\n",
    "rcrossval=[]\n",
    "for md in rscore:\n",
    "    r=RandomForestClassifier(max_depth=md,random_state=35)\n",
    "    r.fit(xtrain,ytrain)\n",
    "    print('mdvalue',md,'train score',r.score(xtrain,ytrain),'crossval',cross_val_score(r,xtrain,ytrain,cv=10).mean())\n",
    "    rcrossval.append(cross_val_score(r,xtrain,ytrain,cv=10).mean())"
   ]
  },
  {
   "cell_type": "code",
   "execution_count": 75,
   "id": "a75da56c",
   "metadata": {
    "scrolled": true
   },
   "outputs": [
    {
     "data": {
      "text/plain": [
       "0.8813290028819509"
      ]
     },
     "execution_count": 75,
     "metadata": {},
     "output_type": "execute_result"
    }
   ],
   "source": [
    "max(rcrossval)"
   ]
  },
  {
   "cell_type": "markdown",
   "id": "7b307776",
   "metadata": {},
   "source": [
    "# IMPLEMENTING RandomForestClassifier :"
   ]
  },
  {
   "cell_type": "code",
   "execution_count": 76,
   "id": "e7ab4fe7",
   "metadata": {},
   "outputs": [
    {
     "data": {
      "text/html": [
       "<style>#sk-container-id-3 {color: black;background-color: white;}#sk-container-id-3 pre{padding: 0;}#sk-container-id-3 div.sk-toggleable {background-color: white;}#sk-container-id-3 label.sk-toggleable__label {cursor: pointer;display: block;width: 100%;margin-bottom: 0;padding: 0.3em;box-sizing: border-box;text-align: center;}#sk-container-id-3 label.sk-toggleable__label-arrow:before {content: \"▸\";float: left;margin-right: 0.25em;color: #696969;}#sk-container-id-3 label.sk-toggleable__label-arrow:hover:before {color: black;}#sk-container-id-3 div.sk-estimator:hover label.sk-toggleable__label-arrow:before {color: black;}#sk-container-id-3 div.sk-toggleable__content {max-height: 0;max-width: 0;overflow: hidden;text-align: left;background-color: #f0f8ff;}#sk-container-id-3 div.sk-toggleable__content pre {margin: 0.2em;color: black;border-radius: 0.25em;background-color: #f0f8ff;}#sk-container-id-3 input.sk-toggleable__control:checked~div.sk-toggleable__content {max-height: 200px;max-width: 100%;overflow: auto;}#sk-container-id-3 input.sk-toggleable__control:checked~label.sk-toggleable__label-arrow:before {content: \"▾\";}#sk-container-id-3 div.sk-estimator input.sk-toggleable__control:checked~label.sk-toggleable__label {background-color: #d4ebff;}#sk-container-id-3 div.sk-label input.sk-toggleable__control:checked~label.sk-toggleable__label {background-color: #d4ebff;}#sk-container-id-3 input.sk-hidden--visually {border: 0;clip: rect(1px 1px 1px 1px);clip: rect(1px, 1px, 1px, 1px);height: 1px;margin: -1px;overflow: hidden;padding: 0;position: absolute;width: 1px;}#sk-container-id-3 div.sk-estimator {font-family: monospace;background-color: #f0f8ff;border: 1px dotted black;border-radius: 0.25em;box-sizing: border-box;margin-bottom: 0.5em;}#sk-container-id-3 div.sk-estimator:hover {background-color: #d4ebff;}#sk-container-id-3 div.sk-parallel-item::after {content: \"\";width: 100%;border-bottom: 1px solid gray;flex-grow: 1;}#sk-container-id-3 div.sk-label:hover label.sk-toggleable__label {background-color: #d4ebff;}#sk-container-id-3 div.sk-serial::before {content: \"\";position: absolute;border-left: 1px solid gray;box-sizing: border-box;top: 0;bottom: 0;left: 50%;z-index: 0;}#sk-container-id-3 div.sk-serial {display: flex;flex-direction: column;align-items: center;background-color: white;padding-right: 0.2em;padding-left: 0.2em;position: relative;}#sk-container-id-3 div.sk-item {position: relative;z-index: 1;}#sk-container-id-3 div.sk-parallel {display: flex;align-items: stretch;justify-content: center;background-color: white;position: relative;}#sk-container-id-3 div.sk-item::before, #sk-container-id-3 div.sk-parallel-item::before {content: \"\";position: absolute;border-left: 1px solid gray;box-sizing: border-box;top: 0;bottom: 0;left: 50%;z-index: -1;}#sk-container-id-3 div.sk-parallel-item {display: flex;flex-direction: column;z-index: 1;position: relative;background-color: white;}#sk-container-id-3 div.sk-parallel-item:first-child::after {align-self: flex-end;width: 50%;}#sk-container-id-3 div.sk-parallel-item:last-child::after {align-self: flex-start;width: 50%;}#sk-container-id-3 div.sk-parallel-item:only-child::after {width: 0;}#sk-container-id-3 div.sk-dashed-wrapped {border: 1px dashed gray;margin: 0 0.4em 0.5em 0.4em;box-sizing: border-box;padding-bottom: 0.4em;background-color: white;}#sk-container-id-3 div.sk-label label {font-family: monospace;font-weight: bold;display: inline-block;line-height: 1.2em;}#sk-container-id-3 div.sk-label-container {text-align: center;}#sk-container-id-3 div.sk-container {/* jupyter's `normalize.less` sets `[hidden] { display: none; }` but bootstrap.min.css set `[hidden] { display: none !important; }` so we also need the `!important` here to be able to override the default hidden behavior on the sphinx rendered scikit-learn.org. See: https://github.com/scikit-learn/scikit-learn/issues/21755 */display: inline-block !important;position: relative;}#sk-container-id-3 div.sk-text-repr-fallback {display: none;}</style><div id=\"sk-container-id-3\" class=\"sk-top-container\"><div class=\"sk-text-repr-fallback\"><pre>RandomForestClassifier(max_depth=19, random_state=35)</pre><b>In a Jupyter environment, please rerun this cell to show the HTML representation or trust the notebook. <br />On GitHub, the HTML representation is unable to render, please try loading this page with nbviewer.org.</b></div><div class=\"sk-container\" hidden><div class=\"sk-item\"><div class=\"sk-estimator sk-toggleable\"><input class=\"sk-toggleable__control sk-hidden--visually\" id=\"sk-estimator-id-3\" type=\"checkbox\" checked><label for=\"sk-estimator-id-3\" class=\"sk-toggleable__label sk-toggleable__label-arrow\">RandomForestClassifier</label><div class=\"sk-toggleable__content\"><pre>RandomForestClassifier(max_depth=19, random_state=35)</pre></div></div></div></div></div>"
      ],
      "text/plain": [
       "RandomForestClassifier(max_depth=19, random_state=35)"
      ]
     },
     "execution_count": 76,
     "metadata": {},
     "output_type": "execute_result"
    }
   ],
   "source": [
    "r=RandomForestClassifier(max_depth=19,random_state=35)\n",
    "r.fit(xtrain,ytrain)"
   ]
  },
  {
   "cell_type": "code",
   "execution_count": 77,
   "id": "83391c63",
   "metadata": {},
   "outputs": [],
   "source": [
    "r1=r.predict(xtest)"
   ]
  },
  {
   "cell_type": "code",
   "execution_count": 78,
   "id": "e63cdc2e",
   "metadata": {},
   "outputs": [
    {
     "data": {
      "text/plain": [
       "array([0, 0, 1, ..., 0, 0, 0], dtype=int64)"
      ]
     },
     "execution_count": 78,
     "metadata": {},
     "output_type": "execute_result"
    }
   ],
   "source": [
    "r1"
   ]
  },
  {
   "cell_type": "code",
   "execution_count": 79,
   "id": "34a3339d",
   "metadata": {},
   "outputs": [
    {
     "data": {
      "text/plain": [
       "array([[22102,  1123],\n",
       "       [ 2328,  4537]], dtype=int64)"
      ]
     },
     "execution_count": 79,
     "metadata": {},
     "output_type": "execute_result"
    }
   ],
   "source": [
    "rcm=confusion_matrix(ytest,r1)\n",
    "rcm"
   ]
  },
  {
   "cell_type": "code",
   "execution_count": 80,
   "id": "ae7b4cca",
   "metadata": {},
   "outputs": [
    {
     "data": {
      "text/plain": [
       "0.8853107344632768"
      ]
     },
     "execution_count": 80,
     "metadata": {},
     "output_type": "execute_result"
    }
   ],
   "source": [
    "ras=accuracy_score(ytest,r1)\n",
    "ras"
   ]
  },
  {
   "cell_type": "code",
   "execution_count": 81,
   "id": "8c2c8ba4",
   "metadata": {
    "scrolled": true
   },
   "outputs": [
    {
     "data": {
      "text/plain": [
       "0.8853107344632768"
      ]
     },
     "execution_count": 81,
     "metadata": {},
     "output_type": "execute_result"
    }
   ],
   "source": [
    "r.score(xtest,ytest)"
   ]
  },
  {
   "cell_type": "code",
   "execution_count": 170,
   "id": "bf1f2c23",
   "metadata": {},
   "outputs": [
    {
     "data": {
      "text/plain": [
       "0.806267748685435"
      ]
     },
     "execution_count": 170,
     "metadata": {},
     "output_type": "execute_result"
    }
   ],
   "source": [
    "rauc=roc_auc_score(ytest,r1)\n",
    "rauc"
   ]
  },
  {
   "cell_type": "code",
   "execution_count": 82,
   "id": "7db97875",
   "metadata": {},
   "outputs": [
    {
     "data": {
      "text/plain": [
       "0.6608885651857247"
      ]
     },
     "execution_count": 82,
     "metadata": {},
     "output_type": "execute_result"
    }
   ],
   "source": [
    "rrs=recall_score(ytest,r1)\n",
    "rrs"
   ]
  },
  {
   "cell_type": "code",
   "execution_count": 83,
   "id": "625fba0e",
   "metadata": {},
   "outputs": [
    {
     "data": {
      "text/plain": [
       "0.8015901060070671"
      ]
     },
     "execution_count": 83,
     "metadata": {},
     "output_type": "execute_result"
    }
   ],
   "source": [
    "rps=precision_score(ytest,r1)\n",
    "rps"
   ]
  },
  {
   "cell_type": "code",
   "execution_count": 84,
   "id": "663c091a",
   "metadata": {},
   "outputs": [],
   "source": [
    "rcrossvalue=cross_val_score(r,xtrain,ytrain,cv=10).mean()"
   ]
  },
  {
   "cell_type": "code",
   "execution_count": 85,
   "id": "7631e170",
   "metadata": {
    "scrolled": true
   },
   "outputs": [
    {
     "data": {
      "text/plain": [
       "0.8813290028819509"
      ]
     },
     "execution_count": 85,
     "metadata": {},
     "output_type": "execute_result"
    }
   ],
   "source": [
    "rcrossvalue"
   ]
  },
  {
   "cell_type": "code",
   "execution_count": 86,
   "id": "b2ded800",
   "metadata": {},
   "outputs": [],
   "source": [
    "f1rcrossvalue=cross_val_score(r,xtrain,ytrain,cv=10,scoring='f1').mean()"
   ]
  },
  {
   "cell_type": "code",
   "execution_count": 87,
   "id": "420edb3a",
   "metadata": {},
   "outputs": [
    {
     "data": {
      "text/plain": [
       "0.7154542502131604"
      ]
     },
     "execution_count": 87,
     "metadata": {},
     "output_type": "execute_result"
    }
   ],
   "source": [
    "f1rcrossvalue"
   ]
  },
  {
   "cell_type": "markdown",
   "id": "c9982fa8",
   "metadata": {},
   "source": [
    "# XGBClassifier :"
   ]
  },
  {
   "cell_type": "code",
   "execution_count": 88,
   "id": "6838297c",
   "metadata": {},
   "outputs": [
    {
     "name": "stdout",
     "output_type": "stream",
     "text": [
      "lrvalue\"0.1\"train score\"0.8799913591119826crosssval score\"0.872571793377802\"\n",
      "lrvalue\"0.5\"train score\"0.9047342096080028crosssval score\"0.880764022122485\"\n",
      "lrvalue\"0.7\"train score\"0.9088220143239336crosssval score\"0.8800910253253268\"\n",
      "lrvalue\"0.9\"train score\"0.9108825337742402crosssval score\"0.8788031955584041\"\n"
     ]
    }
   ],
   "source": [
    "lrvalue=np.array([0.1,0.5,0.7,0.9])\n",
    "xcrossvalscore=[]\n",
    "for lr in lrvalue:\n",
    "    x=xgb.XGBClassifier(learning_rate=lr,n_estimators=323)\n",
    "    x.fit(xtrain,ytrain)\n",
    "    print(f'lrvalue\"{lr}\"train score\"{x.score(xtrain,ytrain)}crosssval score\"{cross_val_score(x,xtrain,ytrain,cv=12).mean()}\"')\n",
    "    xcrossvalscore.append(cross_val_score(x,xtrain,ytrain,cv=12).mean())"
   ]
  },
  {
   "cell_type": "code",
   "execution_count": 89,
   "id": "331310d8",
   "metadata": {},
   "outputs": [
    {
     "data": {
      "text/plain": [
       "0.880764022122485"
      ]
     },
     "execution_count": 89,
     "metadata": {},
     "output_type": "execute_result"
    }
   ],
   "source": [
    "max(xcrossvalscore)"
   ]
  },
  {
   "cell_type": "markdown",
   "id": "58a7ad6c",
   "metadata": {},
   "source": [
    "# IMPLEMENTING XGBClassifier :"
   ]
  },
  {
   "cell_type": "code",
   "execution_count": 90,
   "id": "ac3a29a8",
   "metadata": {},
   "outputs": [
    {
     "data": {
      "text/html": [
       "<style>#sk-container-id-4 {color: black;background-color: white;}#sk-container-id-4 pre{padding: 0;}#sk-container-id-4 div.sk-toggleable {background-color: white;}#sk-container-id-4 label.sk-toggleable__label {cursor: pointer;display: block;width: 100%;margin-bottom: 0;padding: 0.3em;box-sizing: border-box;text-align: center;}#sk-container-id-4 label.sk-toggleable__label-arrow:before {content: \"▸\";float: left;margin-right: 0.25em;color: #696969;}#sk-container-id-4 label.sk-toggleable__label-arrow:hover:before {color: black;}#sk-container-id-4 div.sk-estimator:hover label.sk-toggleable__label-arrow:before {color: black;}#sk-container-id-4 div.sk-toggleable__content {max-height: 0;max-width: 0;overflow: hidden;text-align: left;background-color: #f0f8ff;}#sk-container-id-4 div.sk-toggleable__content pre {margin: 0.2em;color: black;border-radius: 0.25em;background-color: #f0f8ff;}#sk-container-id-4 input.sk-toggleable__control:checked~div.sk-toggleable__content {max-height: 200px;max-width: 100%;overflow: auto;}#sk-container-id-4 input.sk-toggleable__control:checked~label.sk-toggleable__label-arrow:before {content: \"▾\";}#sk-container-id-4 div.sk-estimator input.sk-toggleable__control:checked~label.sk-toggleable__label {background-color: #d4ebff;}#sk-container-id-4 div.sk-label input.sk-toggleable__control:checked~label.sk-toggleable__label {background-color: #d4ebff;}#sk-container-id-4 input.sk-hidden--visually {border: 0;clip: rect(1px 1px 1px 1px);clip: rect(1px, 1px, 1px, 1px);height: 1px;margin: -1px;overflow: hidden;padding: 0;position: absolute;width: 1px;}#sk-container-id-4 div.sk-estimator {font-family: monospace;background-color: #f0f8ff;border: 1px dotted black;border-radius: 0.25em;box-sizing: border-box;margin-bottom: 0.5em;}#sk-container-id-4 div.sk-estimator:hover {background-color: #d4ebff;}#sk-container-id-4 div.sk-parallel-item::after {content: \"\";width: 100%;border-bottom: 1px solid gray;flex-grow: 1;}#sk-container-id-4 div.sk-label:hover label.sk-toggleable__label {background-color: #d4ebff;}#sk-container-id-4 div.sk-serial::before {content: \"\";position: absolute;border-left: 1px solid gray;box-sizing: border-box;top: 0;bottom: 0;left: 50%;z-index: 0;}#sk-container-id-4 div.sk-serial {display: flex;flex-direction: column;align-items: center;background-color: white;padding-right: 0.2em;padding-left: 0.2em;position: relative;}#sk-container-id-4 div.sk-item {position: relative;z-index: 1;}#sk-container-id-4 div.sk-parallel {display: flex;align-items: stretch;justify-content: center;background-color: white;position: relative;}#sk-container-id-4 div.sk-item::before, #sk-container-id-4 div.sk-parallel-item::before {content: \"\";position: absolute;border-left: 1px solid gray;box-sizing: border-box;top: 0;bottom: 0;left: 50%;z-index: -1;}#sk-container-id-4 div.sk-parallel-item {display: flex;flex-direction: column;z-index: 1;position: relative;background-color: white;}#sk-container-id-4 div.sk-parallel-item:first-child::after {align-self: flex-end;width: 50%;}#sk-container-id-4 div.sk-parallel-item:last-child::after {align-self: flex-start;width: 50%;}#sk-container-id-4 div.sk-parallel-item:only-child::after {width: 0;}#sk-container-id-4 div.sk-dashed-wrapped {border: 1px dashed gray;margin: 0 0.4em 0.5em 0.4em;box-sizing: border-box;padding-bottom: 0.4em;background-color: white;}#sk-container-id-4 div.sk-label label {font-family: monospace;font-weight: bold;display: inline-block;line-height: 1.2em;}#sk-container-id-4 div.sk-label-container {text-align: center;}#sk-container-id-4 div.sk-container {/* jupyter's `normalize.less` sets `[hidden] { display: none; }` but bootstrap.min.css set `[hidden] { display: none !important; }` so we also need the `!important` here to be able to override the default hidden behavior on the sphinx rendered scikit-learn.org. See: https://github.com/scikit-learn/scikit-learn/issues/21755 */display: inline-block !important;position: relative;}#sk-container-id-4 div.sk-text-repr-fallback {display: none;}</style><div id=\"sk-container-id-4\" class=\"sk-top-container\"><div class=\"sk-text-repr-fallback\"><pre>XGBClassifier(base_score=None, booster=None, callbacks=None,\n",
       "              colsample_bylevel=None, colsample_bynode=None,\n",
       "              colsample_bytree=None, device=None, early_stopping_rounds=None,\n",
       "              enable_categorical=False, eval_metric=None, feature_types=None,\n",
       "              gamma=None, grow_policy=None, importance_type=None,\n",
       "              interaction_constraints=None, learning_rate=0.5, max_bin=None,\n",
       "              max_cat_threshold=None, max_cat_to_onehot=None,\n",
       "              max_delta_step=None, max_depth=None, max_leaves=None,\n",
       "              min_child_weight=None, missing=nan, monotone_constraints=None,\n",
       "              multi_strategy=None, n_estimators=323, n_jobs=None,\n",
       "              num_parallel_tree=None, random_state=None, ...)</pre><b>In a Jupyter environment, please rerun this cell to show the HTML representation or trust the notebook. <br />On GitHub, the HTML representation is unable to render, please try loading this page with nbviewer.org.</b></div><div class=\"sk-container\" hidden><div class=\"sk-item\"><div class=\"sk-estimator sk-toggleable\"><input class=\"sk-toggleable__control sk-hidden--visually\" id=\"sk-estimator-id-4\" type=\"checkbox\" checked><label for=\"sk-estimator-id-4\" class=\"sk-toggleable__label sk-toggleable__label-arrow\">XGBClassifier</label><div class=\"sk-toggleable__content\"><pre>XGBClassifier(base_score=None, booster=None, callbacks=None,\n",
       "              colsample_bylevel=None, colsample_bynode=None,\n",
       "              colsample_bytree=None, device=None, early_stopping_rounds=None,\n",
       "              enable_categorical=False, eval_metric=None, feature_types=None,\n",
       "              gamma=None, grow_policy=None, importance_type=None,\n",
       "              interaction_constraints=None, learning_rate=0.5, max_bin=None,\n",
       "              max_cat_threshold=None, max_cat_to_onehot=None,\n",
       "              max_delta_step=None, max_depth=None, max_leaves=None,\n",
       "              min_child_weight=None, missing=nan, monotone_constraints=None,\n",
       "              multi_strategy=None, n_estimators=323, n_jobs=None,\n",
       "              num_parallel_tree=None, random_state=None, ...)</pre></div></div></div></div></div>"
      ],
      "text/plain": [
       "XGBClassifier(base_score=None, booster=None, callbacks=None,\n",
       "              colsample_bylevel=None, colsample_bynode=None,\n",
       "              colsample_bytree=None, device=None, early_stopping_rounds=None,\n",
       "              enable_categorical=False, eval_metric=None, feature_types=None,\n",
       "              gamma=None, grow_policy=None, importance_type=None,\n",
       "              interaction_constraints=None, learning_rate=0.5, max_bin=None,\n",
       "              max_cat_threshold=None, max_cat_to_onehot=None,\n",
       "              max_delta_step=None, max_depth=None, max_leaves=None,\n",
       "              min_child_weight=None, missing=nan, monotone_constraints=None,\n",
       "              multi_strategy=None, n_estimators=323, n_jobs=None,\n",
       "              num_parallel_tree=None, random_state=None, ...)"
      ]
     },
     "execution_count": 90,
     "metadata": {},
     "output_type": "execute_result"
    }
   ],
   "source": [
    "x=xgb.XGBClassifier(learning_rate=0.5,n_estimators=323)\n",
    "x.fit(xtrain,ytrain)"
   ]
  },
  {
   "cell_type": "code",
   "execution_count": 91,
   "id": "1c1be0ee",
   "metadata": {},
   "outputs": [],
   "source": [
    "x1=x.predict(xtest)"
   ]
  },
  {
   "cell_type": "code",
   "execution_count": 92,
   "id": "5d7714e3",
   "metadata": {},
   "outputs": [
    {
     "data": {
      "text/plain": [
       "array([0, 0, 1, ..., 0, 0, 0])"
      ]
     },
     "execution_count": 92,
     "metadata": {},
     "output_type": "execute_result"
    }
   ],
   "source": [
    "x1"
   ]
  },
  {
   "cell_type": "code",
   "execution_count": 93,
   "id": "294fb06c",
   "metadata": {},
   "outputs": [
    {
     "data": {
      "text/plain": [
       "array([[21996,  1229],\n",
       "       [ 2274,  4591]], dtype=int64)"
      ]
     },
     "execution_count": 93,
     "metadata": {},
     "output_type": "execute_result"
    }
   ],
   "source": [
    "xcm=confusion_matrix(ytest,x1)\n",
    "xcm"
   ]
  },
  {
   "cell_type": "code",
   "execution_count": 94,
   "id": "2a095525",
   "metadata": {},
   "outputs": [
    {
     "data": {
      "text/plain": [
       "0.8835825855766035"
      ]
     },
     "execution_count": 94,
     "metadata": {},
     "output_type": "execute_result"
    }
   ],
   "source": [
    "xas=accuracy_score(ytest,x1)\n",
    "xas"
   ]
  },
  {
   "cell_type": "code",
   "execution_count": 95,
   "id": "f3699ec1",
   "metadata": {},
   "outputs": [
    {
     "data": {
      "text/plain": [
       "0.8835825855766035"
      ]
     },
     "execution_count": 95,
     "metadata": {},
     "output_type": "execute_result"
    }
   ],
   "source": [
    "x.score(xtest,ytest)"
   ]
  },
  {
   "cell_type": "code",
   "execution_count": 171,
   "id": "560d5f30",
   "metadata": {},
   "outputs": [
    {
     "data": {
      "text/plain": [
       "0.807918718449068"
      ]
     },
     "execution_count": 171,
     "metadata": {},
     "output_type": "execute_result"
    }
   ],
   "source": [
    "xauc=roc_auc_score(ytest,x1)\n",
    "xauc"
   ]
  },
  {
   "cell_type": "code",
   "execution_count": 96,
   "id": "993a1691",
   "metadata": {},
   "outputs": [
    {
     "data": {
      "text/plain": [
       "0.6687545520757465"
      ]
     },
     "execution_count": 96,
     "metadata": {},
     "output_type": "execute_result"
    }
   ],
   "source": [
    "xrs=recall_score(ytest,x1)\n",
    "xrs"
   ]
  },
  {
   "cell_type": "code",
   "execution_count": 97,
   "id": "982fead9",
   "metadata": {},
   "outputs": [
    {
     "data": {
      "text/plain": [
       "0.7888316151202749"
      ]
     },
     "execution_count": 97,
     "metadata": {},
     "output_type": "execute_result"
    }
   ],
   "source": [
    "xps=precision_score(ytest,x1)\n",
    "xps"
   ]
  },
  {
   "cell_type": "code",
   "execution_count": 98,
   "id": "d0f21c82",
   "metadata": {},
   "outputs": [],
   "source": [
    "xcrossvalscore=cross_val_score(x,xtrain,ytrain,cv=12).mean()"
   ]
  },
  {
   "cell_type": "code",
   "execution_count": 99,
   "id": "b7dd5917",
   "metadata": {
    "scrolled": true
   },
   "outputs": [
    {
     "data": {
      "text/plain": [
       "0.880764022122485"
      ]
     },
     "execution_count": 99,
     "metadata": {},
     "output_type": "execute_result"
    }
   ],
   "source": [
    "xcrossvalscore"
   ]
  },
  {
   "cell_type": "code",
   "execution_count": 100,
   "id": "b3b09be9",
   "metadata": {},
   "outputs": [],
   "source": [
    "f1xcrossvalscore=cross_val_score(x,xtrain,ytrain,cv=12,scoring='f1').mean()"
   ]
  },
  {
   "cell_type": "code",
   "execution_count": 101,
   "id": "5f04b4a0",
   "metadata": {
    "scrolled": true
   },
   "outputs": [
    {
     "data": {
      "text/plain": [
       "0.7169511913262783"
      ]
     },
     "execution_count": 101,
     "metadata": {},
     "output_type": "execute_result"
    }
   ],
   "source": [
    "f1xcrossvalscore"
   ]
  },
  {
   "cell_type": "markdown",
   "id": "e74b8bb3",
   "metadata": {},
   "source": [
    "# SPLITTING For REGRESSION ALGORITHMS:"
   ]
  },
  {
   "cell_type": "code",
   "execution_count": 102,
   "id": "e102dd58",
   "metadata": {},
   "outputs": [],
   "source": [
    "xx=df.drop(columns=['status','selling_price','item_date','delivery date'])\n",
    "yy=df['selling_price']"
   ]
  },
  {
   "cell_type": "code",
   "execution_count": 103,
   "id": "25a0693b",
   "metadata": {},
   "outputs": [
    {
     "data": {
      "text/html": [
       "<div>\n",
       "<style scoped>\n",
       "    .dataframe tbody tr th:only-of-type {\n",
       "        vertical-align: middle;\n",
       "    }\n",
       "\n",
       "    .dataframe tbody tr th {\n",
       "        vertical-align: top;\n",
       "    }\n",
       "\n",
       "    .dataframe thead th {\n",
       "        text-align: right;\n",
       "    }\n",
       "</style>\n",
       "<table border=\"1\" class=\"dataframe\">\n",
       "  <thead>\n",
       "    <tr style=\"text-align: right;\">\n",
       "      <th></th>\n",
       "      <th>customer</th>\n",
       "      <th>country</th>\n",
       "      <th>item type</th>\n",
       "      <th>application</th>\n",
       "      <th>thickness</th>\n",
       "      <th>width</th>\n",
       "      <th>product_ref</th>\n",
       "    </tr>\n",
       "  </thead>\n",
       "  <tbody>\n",
       "    <tr>\n",
       "      <th>0</th>\n",
       "      <td>30156308</td>\n",
       "      <td>28</td>\n",
       "      <td>0</td>\n",
       "      <td>10</td>\n",
       "      <td>2</td>\n",
       "      <td>1500</td>\n",
       "      <td>1670798778</td>\n",
       "    </tr>\n",
       "    <tr>\n",
       "      <th>1</th>\n",
       "      <td>30202938</td>\n",
       "      <td>25</td>\n",
       "      <td>0</td>\n",
       "      <td>41</td>\n",
       "      <td>0</td>\n",
       "      <td>1210</td>\n",
       "      <td>1668701718</td>\n",
       "    </tr>\n",
       "    <tr>\n",
       "      <th>2</th>\n",
       "      <td>30153963</td>\n",
       "      <td>30</td>\n",
       "      <td>3</td>\n",
       "      <td>28</td>\n",
       "      <td>0</td>\n",
       "      <td>952</td>\n",
       "      <td>628377</td>\n",
       "    </tr>\n",
       "    <tr>\n",
       "      <th>3</th>\n",
       "      <td>30349574</td>\n",
       "      <td>32</td>\n",
       "      <td>1</td>\n",
       "      <td>59</td>\n",
       "      <td>2</td>\n",
       "      <td>1317</td>\n",
       "      <td>1668701718</td>\n",
       "    </tr>\n",
       "    <tr>\n",
       "      <th>4</th>\n",
       "      <td>30211560</td>\n",
       "      <td>28</td>\n",
       "      <td>0</td>\n",
       "      <td>10</td>\n",
       "      <td>4</td>\n",
       "      <td>2000</td>\n",
       "      <td>640665</td>\n",
       "    </tr>\n",
       "    <tr>\n",
       "      <th>...</th>\n",
       "      <td>...</td>\n",
       "      <td>...</td>\n",
       "      <td>...</td>\n",
       "      <td>...</td>\n",
       "      <td>...</td>\n",
       "      <td>...</td>\n",
       "      <td>...</td>\n",
       "    </tr>\n",
       "    <tr>\n",
       "      <th>150443</th>\n",
       "      <td>30200854</td>\n",
       "      <td>25</td>\n",
       "      <td>0</td>\n",
       "      <td>41</td>\n",
       "      <td>0</td>\n",
       "      <td>1220</td>\n",
       "      <td>164141591</td>\n",
       "    </tr>\n",
       "    <tr>\n",
       "      <th>150444</th>\n",
       "      <td>30200854</td>\n",
       "      <td>25</td>\n",
       "      <td>0</td>\n",
       "      <td>41</td>\n",
       "      <td>0</td>\n",
       "      <td>1500</td>\n",
       "      <td>164141591</td>\n",
       "    </tr>\n",
       "    <tr>\n",
       "      <th>150445</th>\n",
       "      <td>30200854</td>\n",
       "      <td>25</td>\n",
       "      <td>0</td>\n",
       "      <td>41</td>\n",
       "      <td>0</td>\n",
       "      <td>1250</td>\n",
       "      <td>164141591</td>\n",
       "    </tr>\n",
       "    <tr>\n",
       "      <th>150446</th>\n",
       "      <td>30200854</td>\n",
       "      <td>25</td>\n",
       "      <td>0</td>\n",
       "      <td>41</td>\n",
       "      <td>0</td>\n",
       "      <td>1250</td>\n",
       "      <td>164141591</td>\n",
       "    </tr>\n",
       "    <tr>\n",
       "      <th>150447</th>\n",
       "      <td>30200854</td>\n",
       "      <td>25</td>\n",
       "      <td>0</td>\n",
       "      <td>41</td>\n",
       "      <td>0</td>\n",
       "      <td>1240</td>\n",
       "      <td>164141591</td>\n",
       "    </tr>\n",
       "  </tbody>\n",
       "</table>\n",
       "<p>150448 rows × 7 columns</p>\n",
       "</div>"
      ],
      "text/plain": [
       "        customer  country  item type  application  thickness  width  \\\n",
       "0       30156308       28          0           10          2   1500   \n",
       "1       30202938       25          0           41          0   1210   \n",
       "2       30153963       30          3           28          0    952   \n",
       "3       30349574       32          1           59          2   1317   \n",
       "4       30211560       28          0           10          4   2000   \n",
       "...          ...      ...        ...          ...        ...    ...   \n",
       "150443  30200854       25          0           41          0   1220   \n",
       "150444  30200854       25          0           41          0   1500   \n",
       "150445  30200854       25          0           41          0   1250   \n",
       "150446  30200854       25          0           41          0   1250   \n",
       "150447  30200854       25          0           41          0   1240   \n",
       "\n",
       "        product_ref  \n",
       "0        1670798778  \n",
       "1        1668701718  \n",
       "2            628377  \n",
       "3        1668701718  \n",
       "4            640665  \n",
       "...             ...  \n",
       "150443    164141591  \n",
       "150444    164141591  \n",
       "150445    164141591  \n",
       "150446    164141591  \n",
       "150447    164141591  \n",
       "\n",
       "[150448 rows x 7 columns]"
      ]
     },
     "execution_count": 103,
     "metadata": {},
     "output_type": "execute_result"
    }
   ],
   "source": [
    "xx"
   ]
  },
  {
   "cell_type": "code",
   "execution_count": 104,
   "id": "cc9b53d1",
   "metadata": {},
   "outputs": [
    {
     "data": {
      "text/plain": [
       "0          854\n",
       "1         1047\n",
       "2          644\n",
       "3          768\n",
       "4          577\n",
       "          ... \n",
       "150443     591\n",
       "150444     589\n",
       "150445     619\n",
       "150446     601\n",
       "150447     607\n",
       "Name: selling_price, Length: 150448, dtype: int32"
      ]
     },
     "execution_count": 104,
     "metadata": {},
     "output_type": "execute_result"
    }
   ],
   "source": [
    "yy"
   ]
  },
  {
   "cell_type": "code",
   "execution_count": 105,
   "id": "dc634243",
   "metadata": {},
   "outputs": [],
   "source": [
    "xxtrain,xxtest,yytrain,yytest = train_test_split(xx,yy,test_size=0.2,random_state=70)"
   ]
  },
  {
   "cell_type": "markdown",
   "id": "92d89745",
   "metadata": {},
   "source": [
    "# MACHINE LEARNING MODEL SELECTION -\n",
    "## LINEAR REGRESSION :"
   ]
  },
  {
   "cell_type": "code",
   "execution_count": 106,
   "id": "c19e684e",
   "metadata": {},
   "outputs": [],
   "source": [
    "lr=LinearRegression()"
   ]
  },
  {
   "cell_type": "code",
   "execution_count": 107,
   "id": "1b674d2e",
   "metadata": {},
   "outputs": [
    {
     "data": {
      "text/html": [
       "<style>#sk-container-id-5 {color: black;background-color: white;}#sk-container-id-5 pre{padding: 0;}#sk-container-id-5 div.sk-toggleable {background-color: white;}#sk-container-id-5 label.sk-toggleable__label {cursor: pointer;display: block;width: 100%;margin-bottom: 0;padding: 0.3em;box-sizing: border-box;text-align: center;}#sk-container-id-5 label.sk-toggleable__label-arrow:before {content: \"▸\";float: left;margin-right: 0.25em;color: #696969;}#sk-container-id-5 label.sk-toggleable__label-arrow:hover:before {color: black;}#sk-container-id-5 div.sk-estimator:hover label.sk-toggleable__label-arrow:before {color: black;}#sk-container-id-5 div.sk-toggleable__content {max-height: 0;max-width: 0;overflow: hidden;text-align: left;background-color: #f0f8ff;}#sk-container-id-5 div.sk-toggleable__content pre {margin: 0.2em;color: black;border-radius: 0.25em;background-color: #f0f8ff;}#sk-container-id-5 input.sk-toggleable__control:checked~div.sk-toggleable__content {max-height: 200px;max-width: 100%;overflow: auto;}#sk-container-id-5 input.sk-toggleable__control:checked~label.sk-toggleable__label-arrow:before {content: \"▾\";}#sk-container-id-5 div.sk-estimator input.sk-toggleable__control:checked~label.sk-toggleable__label {background-color: #d4ebff;}#sk-container-id-5 div.sk-label input.sk-toggleable__control:checked~label.sk-toggleable__label {background-color: #d4ebff;}#sk-container-id-5 input.sk-hidden--visually {border: 0;clip: rect(1px 1px 1px 1px);clip: rect(1px, 1px, 1px, 1px);height: 1px;margin: -1px;overflow: hidden;padding: 0;position: absolute;width: 1px;}#sk-container-id-5 div.sk-estimator {font-family: monospace;background-color: #f0f8ff;border: 1px dotted black;border-radius: 0.25em;box-sizing: border-box;margin-bottom: 0.5em;}#sk-container-id-5 div.sk-estimator:hover {background-color: #d4ebff;}#sk-container-id-5 div.sk-parallel-item::after {content: \"\";width: 100%;border-bottom: 1px solid gray;flex-grow: 1;}#sk-container-id-5 div.sk-label:hover label.sk-toggleable__label {background-color: #d4ebff;}#sk-container-id-5 div.sk-serial::before {content: \"\";position: absolute;border-left: 1px solid gray;box-sizing: border-box;top: 0;bottom: 0;left: 50%;z-index: 0;}#sk-container-id-5 div.sk-serial {display: flex;flex-direction: column;align-items: center;background-color: white;padding-right: 0.2em;padding-left: 0.2em;position: relative;}#sk-container-id-5 div.sk-item {position: relative;z-index: 1;}#sk-container-id-5 div.sk-parallel {display: flex;align-items: stretch;justify-content: center;background-color: white;position: relative;}#sk-container-id-5 div.sk-item::before, #sk-container-id-5 div.sk-parallel-item::before {content: \"\";position: absolute;border-left: 1px solid gray;box-sizing: border-box;top: 0;bottom: 0;left: 50%;z-index: -1;}#sk-container-id-5 div.sk-parallel-item {display: flex;flex-direction: column;z-index: 1;position: relative;background-color: white;}#sk-container-id-5 div.sk-parallel-item:first-child::after {align-self: flex-end;width: 50%;}#sk-container-id-5 div.sk-parallel-item:last-child::after {align-self: flex-start;width: 50%;}#sk-container-id-5 div.sk-parallel-item:only-child::after {width: 0;}#sk-container-id-5 div.sk-dashed-wrapped {border: 1px dashed gray;margin: 0 0.4em 0.5em 0.4em;box-sizing: border-box;padding-bottom: 0.4em;background-color: white;}#sk-container-id-5 div.sk-label label {font-family: monospace;font-weight: bold;display: inline-block;line-height: 1.2em;}#sk-container-id-5 div.sk-label-container {text-align: center;}#sk-container-id-5 div.sk-container {/* jupyter's `normalize.less` sets `[hidden] { display: none; }` but bootstrap.min.css set `[hidden] { display: none !important; }` so we also need the `!important` here to be able to override the default hidden behavior on the sphinx rendered scikit-learn.org. See: https://github.com/scikit-learn/scikit-learn/issues/21755 */display: inline-block !important;position: relative;}#sk-container-id-5 div.sk-text-repr-fallback {display: none;}</style><div id=\"sk-container-id-5\" class=\"sk-top-container\"><div class=\"sk-text-repr-fallback\"><pre>LinearRegression()</pre><b>In a Jupyter environment, please rerun this cell to show the HTML representation or trust the notebook. <br />On GitHub, the HTML representation is unable to render, please try loading this page with nbviewer.org.</b></div><div class=\"sk-container\" hidden><div class=\"sk-item\"><div class=\"sk-estimator sk-toggleable\"><input class=\"sk-toggleable__control sk-hidden--visually\" id=\"sk-estimator-id-5\" type=\"checkbox\" checked><label for=\"sk-estimator-id-5\" class=\"sk-toggleable__label sk-toggleable__label-arrow\">LinearRegression</label><div class=\"sk-toggleable__content\"><pre>LinearRegression()</pre></div></div></div></div></div>"
      ],
      "text/plain": [
       "LinearRegression()"
      ]
     },
     "execution_count": 107,
     "metadata": {},
     "output_type": "execute_result"
    }
   ],
   "source": [
    "lr.fit(xxtrain,yytrain)"
   ]
  },
  {
   "cell_type": "code",
   "execution_count": 108,
   "id": "dbc2ce7e",
   "metadata": {},
   "outputs": [],
   "source": [
    "lr1=lr.predict(xxtest)"
   ]
  },
  {
   "cell_type": "code",
   "execution_count": 109,
   "id": "2f5ed786",
   "metadata": {},
   "outputs": [
    {
     "data": {
      "text/plain": [
       "array([876.60694102, 894.79341469, 809.33601479, ..., 849.54786922,\n",
       "       903.31194112, 878.3406284 ])"
      ]
     },
     "execution_count": 109,
     "metadata": {},
     "output_type": "execute_result"
    }
   ],
   "source": [
    "lr1"
   ]
  },
  {
   "cell_type": "code",
   "execution_count": 110,
   "id": "9263eed7",
   "metadata": {},
   "outputs": [],
   "source": [
    "lr2score=r2_score(yytest,lr1)"
   ]
  },
  {
   "cell_type": "code",
   "execution_count": 111,
   "id": "b3bcfa2c",
   "metadata": {},
   "outputs": [
    {
     "data": {
      "text/plain": [
       "0.08286832558286206"
      ]
     },
     "execution_count": 111,
     "metadata": {},
     "output_type": "execute_result"
    }
   ],
   "source": [
    "lr2score"
   ]
  },
  {
   "cell_type": "code",
   "execution_count": 112,
   "id": "b3ccecea",
   "metadata": {},
   "outputs": [],
   "source": [
    "lmse=mean_squared_error(yytest,lr1)"
   ]
  },
  {
   "cell_type": "code",
   "execution_count": 113,
   "id": "9c23366a",
   "metadata": {},
   "outputs": [
    {
     "data": {
      "text/plain": [
       "37567.52097563617"
      ]
     },
     "execution_count": 113,
     "metadata": {},
     "output_type": "execute_result"
    }
   ],
   "source": [
    "lmse"
   ]
  },
  {
   "cell_type": "code",
   "execution_count": 114,
   "id": "44029cd8",
   "metadata": {},
   "outputs": [],
   "source": [
    "lrcrossvalscore=cross_val_score(lr,xxtrain,yytrain,cv=10).mean()"
   ]
  },
  {
   "cell_type": "code",
   "execution_count": 115,
   "id": "208ba36f",
   "metadata": {},
   "outputs": [
    {
     "data": {
      "text/plain": [
       "-0.2639219141445252"
      ]
     },
     "execution_count": 115,
     "metadata": {},
     "output_type": "execute_result"
    }
   ],
   "source": [
    "lrcrossvalscore"
   ]
  },
  {
   "cell_type": "code",
   "execution_count": 116,
   "id": "79e48257",
   "metadata": {},
   "outputs": [
    {
     "data": {
      "text/plain": [
       "0.08286832558286206"
      ]
     },
     "execution_count": 116,
     "metadata": {},
     "output_type": "execute_result"
    }
   ],
   "source": [
    "lr.score(xxtest,yytest)"
   ]
  },
  {
   "cell_type": "markdown",
   "id": "d6ab291b",
   "metadata": {},
   "source": [
    "# SCALING :"
   ]
  },
  {
   "cell_type": "code",
   "execution_count": 117,
   "id": "e7ad3fa6",
   "metadata": {},
   "outputs": [],
   "source": [
    "ss=StandardScaler()\n",
    "xxtrain=ss.fit_transform(xxtrain)\n",
    "xxtest=ss.transform(xxtest)"
   ]
  },
  {
   "cell_type": "markdown",
   "id": "a472612a",
   "metadata": {},
   "source": [
    "# KNeighborsRegressor : "
   ]
  },
  {
   "cell_type": "code",
   "execution_count": 118,
   "id": "8a91ef02",
   "metadata": {},
   "outputs": [
    {
     "name": "stdout",
     "output_type": "stream",
     "text": [
      "kvalue 1 train score 0.1764617768434138 crossscore : 0.18073701209566723\n",
      "kvalue 2 train score 0.23826722501975817 crossscore : 0.3347677303988956\n",
      "kvalue 3 train score 0.2487092203317629 crossscore : 0.37564721554444547\n",
      "kvalue 4 train score 0.24981191225703403 crossscore : 0.39427874292906123\n",
      "kvalue 5 train score 0.24886642698305006 crossscore : 0.40240457229079213\n",
      "kvalue 6 train score 0.24678124162804216 crossscore : 0.4082200540558346\n",
      "kvalue 7 train score 0.24440792208323459 crossscore : 0.4106868939784379\n",
      "kvalue 8 train score 0.24202344243423335 crossscore : 0.4119592259727741\n",
      "kvalue 9 train score 0.23980900961928864 crossscore : 0.4124262556944486\n",
      "kvalue 10 train score 0.23772925091348052 crossscore : 0.4130159334288231\n",
      "kvalue 11 train score 0.2353833429634048 crossscore : 0.41298893902378\n",
      "kvalue 12 train score 0.2328207925455381 crossscore : 0.41225749667966466\n",
      "kvalue 13 train score 0.23054907900404098 crossscore : 0.410263764639739\n",
      "kvalue 14 train score 0.22802454966633523 crossscore : 0.4093408508421342\n",
      "kvalue 15 train score 0.22656336673834843 crossscore : 0.40787122255167435\n",
      "kvalue 16 train score 0.2245005920056965 crossscore : 0.40654808403797543\n",
      "kvalue 17 train score 0.2228528557354993 crossscore : 0.4053445035710649\n",
      "kvalue 18 train score 0.22123510219697518 crossscore : 0.4040669100938912\n",
      "kvalue 19 train score 0.2201303866912846 crossscore : 0.4027379632915548\n"
     ]
    }
   ],
   "source": [
    "kvalue=np.arange(1,20)\n",
    "kcrossvalscore=[]\n",
    "for k in kvalue:\n",
    "    knnr=KNeighborsRegressor(n_neighbors=k)\n",
    "    knnr.fit(xxtrain,yytrain)\n",
    "    print('kvalue',k,'train score',knnr.score(xxtrain,yytrain),'crossscore :',cross_val_score(knnr,xxtrain,yytrain,cv=10).mean())\n",
    "    kcrossvalscore.append(cross_val_score(knnr,xxtrain,yytrain,cv=10).mean())"
   ]
  },
  {
   "cell_type": "code",
   "execution_count": 119,
   "id": "d805844e",
   "metadata": {},
   "outputs": [
    {
     "data": {
      "text/plain": [
       "0.4130159334288231"
      ]
     },
     "execution_count": 119,
     "metadata": {},
     "output_type": "execute_result"
    }
   ],
   "source": [
    "max(kcrossvalscore)"
   ]
  },
  {
   "cell_type": "markdown",
   "id": "46dc06c6",
   "metadata": {},
   "source": [
    "# IMPLEMENTING KNeighborsRegressor :"
   ]
  },
  {
   "cell_type": "code",
   "execution_count": 120,
   "id": "ea0bd11e",
   "metadata": {},
   "outputs": [
    {
     "data": {
      "text/html": [
       "<style>#sk-container-id-6 {color: black;background-color: white;}#sk-container-id-6 pre{padding: 0;}#sk-container-id-6 div.sk-toggleable {background-color: white;}#sk-container-id-6 label.sk-toggleable__label {cursor: pointer;display: block;width: 100%;margin-bottom: 0;padding: 0.3em;box-sizing: border-box;text-align: center;}#sk-container-id-6 label.sk-toggleable__label-arrow:before {content: \"▸\";float: left;margin-right: 0.25em;color: #696969;}#sk-container-id-6 label.sk-toggleable__label-arrow:hover:before {color: black;}#sk-container-id-6 div.sk-estimator:hover label.sk-toggleable__label-arrow:before {color: black;}#sk-container-id-6 div.sk-toggleable__content {max-height: 0;max-width: 0;overflow: hidden;text-align: left;background-color: #f0f8ff;}#sk-container-id-6 div.sk-toggleable__content pre {margin: 0.2em;color: black;border-radius: 0.25em;background-color: #f0f8ff;}#sk-container-id-6 input.sk-toggleable__control:checked~div.sk-toggleable__content {max-height: 200px;max-width: 100%;overflow: auto;}#sk-container-id-6 input.sk-toggleable__control:checked~label.sk-toggleable__label-arrow:before {content: \"▾\";}#sk-container-id-6 div.sk-estimator input.sk-toggleable__control:checked~label.sk-toggleable__label {background-color: #d4ebff;}#sk-container-id-6 div.sk-label input.sk-toggleable__control:checked~label.sk-toggleable__label {background-color: #d4ebff;}#sk-container-id-6 input.sk-hidden--visually {border: 0;clip: rect(1px 1px 1px 1px);clip: rect(1px, 1px, 1px, 1px);height: 1px;margin: -1px;overflow: hidden;padding: 0;position: absolute;width: 1px;}#sk-container-id-6 div.sk-estimator {font-family: monospace;background-color: #f0f8ff;border: 1px dotted black;border-radius: 0.25em;box-sizing: border-box;margin-bottom: 0.5em;}#sk-container-id-6 div.sk-estimator:hover {background-color: #d4ebff;}#sk-container-id-6 div.sk-parallel-item::after {content: \"\";width: 100%;border-bottom: 1px solid gray;flex-grow: 1;}#sk-container-id-6 div.sk-label:hover label.sk-toggleable__label {background-color: #d4ebff;}#sk-container-id-6 div.sk-serial::before {content: \"\";position: absolute;border-left: 1px solid gray;box-sizing: border-box;top: 0;bottom: 0;left: 50%;z-index: 0;}#sk-container-id-6 div.sk-serial {display: flex;flex-direction: column;align-items: center;background-color: white;padding-right: 0.2em;padding-left: 0.2em;position: relative;}#sk-container-id-6 div.sk-item {position: relative;z-index: 1;}#sk-container-id-6 div.sk-parallel {display: flex;align-items: stretch;justify-content: center;background-color: white;position: relative;}#sk-container-id-6 div.sk-item::before, #sk-container-id-6 div.sk-parallel-item::before {content: \"\";position: absolute;border-left: 1px solid gray;box-sizing: border-box;top: 0;bottom: 0;left: 50%;z-index: -1;}#sk-container-id-6 div.sk-parallel-item {display: flex;flex-direction: column;z-index: 1;position: relative;background-color: white;}#sk-container-id-6 div.sk-parallel-item:first-child::after {align-self: flex-end;width: 50%;}#sk-container-id-6 div.sk-parallel-item:last-child::after {align-self: flex-start;width: 50%;}#sk-container-id-6 div.sk-parallel-item:only-child::after {width: 0;}#sk-container-id-6 div.sk-dashed-wrapped {border: 1px dashed gray;margin: 0 0.4em 0.5em 0.4em;box-sizing: border-box;padding-bottom: 0.4em;background-color: white;}#sk-container-id-6 div.sk-label label {font-family: monospace;font-weight: bold;display: inline-block;line-height: 1.2em;}#sk-container-id-6 div.sk-label-container {text-align: center;}#sk-container-id-6 div.sk-container {/* jupyter's `normalize.less` sets `[hidden] { display: none; }` but bootstrap.min.css set `[hidden] { display: none !important; }` so we also need the `!important` here to be able to override the default hidden behavior on the sphinx rendered scikit-learn.org. See: https://github.com/scikit-learn/scikit-learn/issues/21755 */display: inline-block !important;position: relative;}#sk-container-id-6 div.sk-text-repr-fallback {display: none;}</style><div id=\"sk-container-id-6\" class=\"sk-top-container\"><div class=\"sk-text-repr-fallback\"><pre>KNeighborsRegressor(n_neighbors=10)</pre><b>In a Jupyter environment, please rerun this cell to show the HTML representation or trust the notebook. <br />On GitHub, the HTML representation is unable to render, please try loading this page with nbviewer.org.</b></div><div class=\"sk-container\" hidden><div class=\"sk-item\"><div class=\"sk-estimator sk-toggleable\"><input class=\"sk-toggleable__control sk-hidden--visually\" id=\"sk-estimator-id-6\" type=\"checkbox\" checked><label for=\"sk-estimator-id-6\" class=\"sk-toggleable__label sk-toggleable__label-arrow\">KNeighborsRegressor</label><div class=\"sk-toggleable__content\"><pre>KNeighborsRegressor(n_neighbors=10)</pre></div></div></div></div></div>"
      ],
      "text/plain": [
       "KNeighborsRegressor(n_neighbors=10)"
      ]
     },
     "execution_count": 120,
     "metadata": {},
     "output_type": "execute_result"
    }
   ],
   "source": [
    "knnr=KNeighborsRegressor(n_neighbors=10)\n",
    "knnr.fit(xxtrain,yytrain)"
   ]
  },
  {
   "cell_type": "code",
   "execution_count": 121,
   "id": "b36a1241",
   "metadata": {},
   "outputs": [],
   "source": [
    "knnr1=knnr.predict(xxtest)"
   ]
  },
  {
   "cell_type": "code",
   "execution_count": 122,
   "id": "6a2817b0",
   "metadata": {},
   "outputs": [],
   "source": [
    "knnr2score=r2_score(yytest,knnr1)"
   ]
  },
  {
   "cell_type": "code",
   "execution_count": 123,
   "id": "23c5395c",
   "metadata": {},
   "outputs": [
    {
     "data": {
      "text/plain": [
       "0.464971216780835"
      ]
     },
     "execution_count": 123,
     "metadata": {},
     "output_type": "execute_result"
    }
   ],
   "source": [
    "knnr2score"
   ]
  },
  {
   "cell_type": "code",
   "execution_count": 124,
   "id": "68959dcd",
   "metadata": {},
   "outputs": [],
   "source": [
    "knnmse=mean_squared_error(yytest,knnr1)"
   ]
  },
  {
   "cell_type": "code",
   "execution_count": 125,
   "id": "49b2135a",
   "metadata": {
    "scrolled": true
   },
   "outputs": [
    {
     "data": {
      "text/plain": [
       "21915.833458624125"
      ]
     },
     "execution_count": 125,
     "metadata": {},
     "output_type": "execute_result"
    }
   ],
   "source": [
    "knnmse"
   ]
  },
  {
   "cell_type": "code",
   "execution_count": 126,
   "id": "033f73b7",
   "metadata": {},
   "outputs": [
    {
     "data": {
      "text/plain": [
       "0.464971216780835"
      ]
     },
     "execution_count": 126,
     "metadata": {},
     "output_type": "execute_result"
    }
   ],
   "source": [
    "knnr.score(xxtest,yytest)"
   ]
  },
  {
   "cell_type": "code",
   "execution_count": 127,
   "id": "7deeb54c",
   "metadata": {},
   "outputs": [],
   "source": [
    "knnrcrossvalscore=cross_val_score(knnr,xxtrain,yytrain,cv=10).mean()"
   ]
  },
  {
   "cell_type": "code",
   "execution_count": 128,
   "id": "3f24b7ff",
   "metadata": {},
   "outputs": [
    {
     "data": {
      "text/plain": [
       "0.4130159334288231"
      ]
     },
     "execution_count": 128,
     "metadata": {},
     "output_type": "execute_result"
    }
   ],
   "source": [
    "knnrcrossvalscore"
   ]
  },
  {
   "cell_type": "markdown",
   "id": "2ffd8186",
   "metadata": {},
   "source": [
    "# DecisionTreeRegressor :"
   ]
  },
  {
   "cell_type": "code",
   "execution_count": 129,
   "id": "c4ca598a",
   "metadata": {},
   "outputs": [
    {
     "name": "stdout",
     "output_type": "stream",
     "text": [
      "dval:\"1\" for train score :\"0.13199851133691443\"crossvalscore :\"0.2681314024192728\"\n",
      "dval:\"2\" for train score :\"0.14952060974469605\"crossvalscore :\"0.2991502706281698\"\n",
      "dval:\"3\" for train score :\"0.16341460622369786\"crossvalscore :\"0.32606128526351646\"\n",
      "dval:\"4\" for train score :\"0.17246309977724084\"crossvalscore :\"0.3417035411204985\"\n",
      "dval:\"5\" for train score :\"0.1813737236452141\"crossvalscore :\"0.3536637854883572\"\n",
      "dval:\"6\" for train score :\"0.1913019049291762\"crossvalscore :\"0.35655299488809983\"\n",
      "dval:\"7\" for train score :\"0.20222645377322135\"crossvalscore :\"0.3682215540208678\"\n",
      "dval:\"8\" for train score :\"0.21487732070855592\"crossvalscore :\"0.3793913131347392\"\n",
      "dval:\"9\" for train score :\"0.2240351512076455\"crossvalscore :\"0.3966881730097441\"\n"
     ]
    }
   ],
   "source": [
    "dvalue=np.arange(1,10)\n",
    "dcrossvalscore=[]\n",
    "for m in dvalue:\n",
    "    dr=DecisionTreeRegressor(max_depth=m,random_state=54)\n",
    "    dr.fit(xxtrain,yytrain)\n",
    "    print(f'dval:\"{m}\" for train score :\"{dr.score(xxtrain,yytrain)}\"crossvalscore :\"{cross_val_score(dr,xxtrain,yytrain,cv=10).mean()}\"')\n",
    "    dcrossvalscore.append(cross_val_score(dr,xxtrain,yytrain,cv=10).mean())"
   ]
  },
  {
   "cell_type": "code",
   "execution_count": 130,
   "id": "223ca150",
   "metadata": {
    "scrolled": true
   },
   "outputs": [
    {
     "data": {
      "text/plain": [
       "0.3966881730097441"
      ]
     },
     "execution_count": 130,
     "metadata": {},
     "output_type": "execute_result"
    }
   ],
   "source": [
    "max(dcrossvalscore)"
   ]
  },
  {
   "cell_type": "markdown",
   "id": "ce93ae28",
   "metadata": {},
   "source": [
    "# IMPLEMENTING DecisionTreeRegressor :"
   ]
  },
  {
   "cell_type": "code",
   "execution_count": 131,
   "id": "05d93365",
   "metadata": {},
   "outputs": [
    {
     "data": {
      "text/html": [
       "<style>#sk-container-id-7 {color: black;background-color: white;}#sk-container-id-7 pre{padding: 0;}#sk-container-id-7 div.sk-toggleable {background-color: white;}#sk-container-id-7 label.sk-toggleable__label {cursor: pointer;display: block;width: 100%;margin-bottom: 0;padding: 0.3em;box-sizing: border-box;text-align: center;}#sk-container-id-7 label.sk-toggleable__label-arrow:before {content: \"▸\";float: left;margin-right: 0.25em;color: #696969;}#sk-container-id-7 label.sk-toggleable__label-arrow:hover:before {color: black;}#sk-container-id-7 div.sk-estimator:hover label.sk-toggleable__label-arrow:before {color: black;}#sk-container-id-7 div.sk-toggleable__content {max-height: 0;max-width: 0;overflow: hidden;text-align: left;background-color: #f0f8ff;}#sk-container-id-7 div.sk-toggleable__content pre {margin: 0.2em;color: black;border-radius: 0.25em;background-color: #f0f8ff;}#sk-container-id-7 input.sk-toggleable__control:checked~div.sk-toggleable__content {max-height: 200px;max-width: 100%;overflow: auto;}#sk-container-id-7 input.sk-toggleable__control:checked~label.sk-toggleable__label-arrow:before {content: \"▾\";}#sk-container-id-7 div.sk-estimator input.sk-toggleable__control:checked~label.sk-toggleable__label {background-color: #d4ebff;}#sk-container-id-7 div.sk-label input.sk-toggleable__control:checked~label.sk-toggleable__label {background-color: #d4ebff;}#sk-container-id-7 input.sk-hidden--visually {border: 0;clip: rect(1px 1px 1px 1px);clip: rect(1px, 1px, 1px, 1px);height: 1px;margin: -1px;overflow: hidden;padding: 0;position: absolute;width: 1px;}#sk-container-id-7 div.sk-estimator {font-family: monospace;background-color: #f0f8ff;border: 1px dotted black;border-radius: 0.25em;box-sizing: border-box;margin-bottom: 0.5em;}#sk-container-id-7 div.sk-estimator:hover {background-color: #d4ebff;}#sk-container-id-7 div.sk-parallel-item::after {content: \"\";width: 100%;border-bottom: 1px solid gray;flex-grow: 1;}#sk-container-id-7 div.sk-label:hover label.sk-toggleable__label {background-color: #d4ebff;}#sk-container-id-7 div.sk-serial::before {content: \"\";position: absolute;border-left: 1px solid gray;box-sizing: border-box;top: 0;bottom: 0;left: 50%;z-index: 0;}#sk-container-id-7 div.sk-serial {display: flex;flex-direction: column;align-items: center;background-color: white;padding-right: 0.2em;padding-left: 0.2em;position: relative;}#sk-container-id-7 div.sk-item {position: relative;z-index: 1;}#sk-container-id-7 div.sk-parallel {display: flex;align-items: stretch;justify-content: center;background-color: white;position: relative;}#sk-container-id-7 div.sk-item::before, #sk-container-id-7 div.sk-parallel-item::before {content: \"\";position: absolute;border-left: 1px solid gray;box-sizing: border-box;top: 0;bottom: 0;left: 50%;z-index: -1;}#sk-container-id-7 div.sk-parallel-item {display: flex;flex-direction: column;z-index: 1;position: relative;background-color: white;}#sk-container-id-7 div.sk-parallel-item:first-child::after {align-self: flex-end;width: 50%;}#sk-container-id-7 div.sk-parallel-item:last-child::after {align-self: flex-start;width: 50%;}#sk-container-id-7 div.sk-parallel-item:only-child::after {width: 0;}#sk-container-id-7 div.sk-dashed-wrapped {border: 1px dashed gray;margin: 0 0.4em 0.5em 0.4em;box-sizing: border-box;padding-bottom: 0.4em;background-color: white;}#sk-container-id-7 div.sk-label label {font-family: monospace;font-weight: bold;display: inline-block;line-height: 1.2em;}#sk-container-id-7 div.sk-label-container {text-align: center;}#sk-container-id-7 div.sk-container {/* jupyter's `normalize.less` sets `[hidden] { display: none; }` but bootstrap.min.css set `[hidden] { display: none !important; }` so we also need the `!important` here to be able to override the default hidden behavior on the sphinx rendered scikit-learn.org. See: https://github.com/scikit-learn/scikit-learn/issues/21755 */display: inline-block !important;position: relative;}#sk-container-id-7 div.sk-text-repr-fallback {display: none;}</style><div id=\"sk-container-id-7\" class=\"sk-top-container\"><div class=\"sk-text-repr-fallback\"><pre>DecisionTreeRegressor(max_depth=9, random_state=54)</pre><b>In a Jupyter environment, please rerun this cell to show the HTML representation or trust the notebook. <br />On GitHub, the HTML representation is unable to render, please try loading this page with nbviewer.org.</b></div><div class=\"sk-container\" hidden><div class=\"sk-item\"><div class=\"sk-estimator sk-toggleable\"><input class=\"sk-toggleable__control sk-hidden--visually\" id=\"sk-estimator-id-7\" type=\"checkbox\" checked><label for=\"sk-estimator-id-7\" class=\"sk-toggleable__label sk-toggleable__label-arrow\">DecisionTreeRegressor</label><div class=\"sk-toggleable__content\"><pre>DecisionTreeRegressor(max_depth=9, random_state=54)</pre></div></div></div></div></div>"
      ],
      "text/plain": [
       "DecisionTreeRegressor(max_depth=9, random_state=54)"
      ]
     },
     "execution_count": 131,
     "metadata": {},
     "output_type": "execute_result"
    }
   ],
   "source": [
    "dr=DecisionTreeRegressor(max_depth=9,random_state=54)\n",
    "dr.fit(xxtrain,yytrain)"
   ]
  },
  {
   "cell_type": "code",
   "execution_count": 132,
   "id": "b971385f",
   "metadata": {},
   "outputs": [],
   "source": [
    "dr1=dr.predict(xxtest)"
   ]
  },
  {
   "cell_type": "code",
   "execution_count": 133,
   "id": "da1171a2",
   "metadata": {},
   "outputs": [],
   "source": [
    "dr2score=r2_score(yytest,dr1)"
   ]
  },
  {
   "cell_type": "code",
   "execution_count": 134,
   "id": "2d2cfee4",
   "metadata": {},
   "outputs": [
    {
     "data": {
      "text/plain": [
       "0.4507897178796001"
      ]
     },
     "execution_count": 134,
     "metadata": {},
     "output_type": "execute_result"
    }
   ],
   "source": [
    "dr2score"
   ]
  },
  {
   "cell_type": "code",
   "execution_count": 135,
   "id": "27b2cffa",
   "metadata": {},
   "outputs": [],
   "source": [
    "dmse=mean_squared_error(yytest,dr1)"
   ]
  },
  {
   "cell_type": "code",
   "execution_count": 136,
   "id": "bab03851",
   "metadata": {
    "scrolled": true
   },
   "outputs": [
    {
     "data": {
      "text/plain": [
       "22496.735604193018"
      ]
     },
     "execution_count": 136,
     "metadata": {},
     "output_type": "execute_result"
    }
   ],
   "source": [
    "dmse"
   ]
  },
  {
   "cell_type": "code",
   "execution_count": 137,
   "id": "355c4bab",
   "metadata": {},
   "outputs": [
    {
     "data": {
      "text/plain": [
       "0.4507897178796001"
      ]
     },
     "execution_count": 137,
     "metadata": {},
     "output_type": "execute_result"
    }
   ],
   "source": [
    "dr.score(xxtest,yytest)"
   ]
  },
  {
   "cell_type": "code",
   "execution_count": 138,
   "id": "76ca49df",
   "metadata": {},
   "outputs": [],
   "source": [
    "drcrossvalscore=cross_val_score(dr,xxtrain,yytrain,cv=10).mean()"
   ]
  },
  {
   "cell_type": "code",
   "execution_count": 139,
   "id": "746be21b",
   "metadata": {
    "scrolled": true
   },
   "outputs": [
    {
     "data": {
      "text/plain": [
       "0.3966881730097441"
      ]
     },
     "execution_count": 139,
     "metadata": {},
     "output_type": "execute_result"
    }
   ],
   "source": [
    "drcrossvalscore"
   ]
  },
  {
   "cell_type": "markdown",
   "id": "983575cf",
   "metadata": {},
   "source": [
    "# RandomForestRegressor :"
   ]
  },
  {
   "cell_type": "code",
   "execution_count": 140,
   "id": "10a5d5f9",
   "metadata": {},
   "outputs": [
    {
     "name": "stdout",
     "output_type": "stream",
     "text": [
      "rvalue 1 trainvale 0.13199835359657697 crossvalscore 0.26814287876015336\n",
      "rvalue 2 trainvale 0.14960375260138903 crossvalscore 0.2996511334875859\n",
      "rvalue 3 trainvale 0.16486431731747975 crossvalscore 0.3292201287710106\n",
      "rvalue 6 trainvale 0.19890485312771722 crossvalscore 0.36683274443591396\n",
      "rvalue 8 trainvale 0.22102912691360765 crossvalscore 0.4000238685255836\n",
      "rvalue 12 trainvale 0.26102078227209147 crossvalscore 0.46495260324467347\n",
      "rvalue 15 trainvale 0.28368221921123205 crossvalscore 0.487135866553269\n",
      "rvalue 29 trainvale 0.3062967643846538 crossvalscore 0.4685842749942807\n",
      "rvalue 30 trainvale 0.30634179612933665 crossvalscore 0.46817722725525907\n"
     ]
    }
   ],
   "source": [
    "rvalue=np.array([1,2,3,6,8,12,15,29,30])\n",
    "rcrossval=[]\n",
    "for mm in rvalue:\n",
    "    rr=RandomForestRegressor(max_depth=mm,random_state=5325)\n",
    "    rr.fit(xxtrain,yytrain)\n",
    "    print('rvalue',mm,'trainvale',rr.score(xxtrain,yytrain),'crossvalscore',cross_val_score(rr,xxtrain,yytrain,cv=10).mean())\n",
    "    rcrossval.append(cross_val_score(rr,xxtrain,yytrain,cv=10).mean())"
   ]
  },
  {
   "cell_type": "code",
   "execution_count": 141,
   "id": "301c4650",
   "metadata": {
    "scrolled": true
   },
   "outputs": [
    {
     "data": {
      "text/plain": [
       "0.487135866553269"
      ]
     },
     "execution_count": 141,
     "metadata": {},
     "output_type": "execute_result"
    }
   ],
   "source": [
    "max(rcrossval)"
   ]
  },
  {
   "cell_type": "markdown",
   "id": "325393b7",
   "metadata": {},
   "source": [
    "# IMPLEMENTING RandomForestRegressor :"
   ]
  },
  {
   "cell_type": "code",
   "execution_count": 142,
   "id": "19fbcc56",
   "metadata": {},
   "outputs": [
    {
     "data": {
      "text/html": [
       "<style>#sk-container-id-8 {color: black;background-color: white;}#sk-container-id-8 pre{padding: 0;}#sk-container-id-8 div.sk-toggleable {background-color: white;}#sk-container-id-8 label.sk-toggleable__label {cursor: pointer;display: block;width: 100%;margin-bottom: 0;padding: 0.3em;box-sizing: border-box;text-align: center;}#sk-container-id-8 label.sk-toggleable__label-arrow:before {content: \"▸\";float: left;margin-right: 0.25em;color: #696969;}#sk-container-id-8 label.sk-toggleable__label-arrow:hover:before {color: black;}#sk-container-id-8 div.sk-estimator:hover label.sk-toggleable__label-arrow:before {color: black;}#sk-container-id-8 div.sk-toggleable__content {max-height: 0;max-width: 0;overflow: hidden;text-align: left;background-color: #f0f8ff;}#sk-container-id-8 div.sk-toggleable__content pre {margin: 0.2em;color: black;border-radius: 0.25em;background-color: #f0f8ff;}#sk-container-id-8 input.sk-toggleable__control:checked~div.sk-toggleable__content {max-height: 200px;max-width: 100%;overflow: auto;}#sk-container-id-8 input.sk-toggleable__control:checked~label.sk-toggleable__label-arrow:before {content: \"▾\";}#sk-container-id-8 div.sk-estimator input.sk-toggleable__control:checked~label.sk-toggleable__label {background-color: #d4ebff;}#sk-container-id-8 div.sk-label input.sk-toggleable__control:checked~label.sk-toggleable__label {background-color: #d4ebff;}#sk-container-id-8 input.sk-hidden--visually {border: 0;clip: rect(1px 1px 1px 1px);clip: rect(1px, 1px, 1px, 1px);height: 1px;margin: -1px;overflow: hidden;padding: 0;position: absolute;width: 1px;}#sk-container-id-8 div.sk-estimator {font-family: monospace;background-color: #f0f8ff;border: 1px dotted black;border-radius: 0.25em;box-sizing: border-box;margin-bottom: 0.5em;}#sk-container-id-8 div.sk-estimator:hover {background-color: #d4ebff;}#sk-container-id-8 div.sk-parallel-item::after {content: \"\";width: 100%;border-bottom: 1px solid gray;flex-grow: 1;}#sk-container-id-8 div.sk-label:hover label.sk-toggleable__label {background-color: #d4ebff;}#sk-container-id-8 div.sk-serial::before {content: \"\";position: absolute;border-left: 1px solid gray;box-sizing: border-box;top: 0;bottom: 0;left: 50%;z-index: 0;}#sk-container-id-8 div.sk-serial {display: flex;flex-direction: column;align-items: center;background-color: white;padding-right: 0.2em;padding-left: 0.2em;position: relative;}#sk-container-id-8 div.sk-item {position: relative;z-index: 1;}#sk-container-id-8 div.sk-parallel {display: flex;align-items: stretch;justify-content: center;background-color: white;position: relative;}#sk-container-id-8 div.sk-item::before, #sk-container-id-8 div.sk-parallel-item::before {content: \"\";position: absolute;border-left: 1px solid gray;box-sizing: border-box;top: 0;bottom: 0;left: 50%;z-index: -1;}#sk-container-id-8 div.sk-parallel-item {display: flex;flex-direction: column;z-index: 1;position: relative;background-color: white;}#sk-container-id-8 div.sk-parallel-item:first-child::after {align-self: flex-end;width: 50%;}#sk-container-id-8 div.sk-parallel-item:last-child::after {align-self: flex-start;width: 50%;}#sk-container-id-8 div.sk-parallel-item:only-child::after {width: 0;}#sk-container-id-8 div.sk-dashed-wrapped {border: 1px dashed gray;margin: 0 0.4em 0.5em 0.4em;box-sizing: border-box;padding-bottom: 0.4em;background-color: white;}#sk-container-id-8 div.sk-label label {font-family: monospace;font-weight: bold;display: inline-block;line-height: 1.2em;}#sk-container-id-8 div.sk-label-container {text-align: center;}#sk-container-id-8 div.sk-container {/* jupyter's `normalize.less` sets `[hidden] { display: none; }` but bootstrap.min.css set `[hidden] { display: none !important; }` so we also need the `!important` here to be able to override the default hidden behavior on the sphinx rendered scikit-learn.org. See: https://github.com/scikit-learn/scikit-learn/issues/21755 */display: inline-block !important;position: relative;}#sk-container-id-8 div.sk-text-repr-fallback {display: none;}</style><div id=\"sk-container-id-8\" class=\"sk-top-container\"><div class=\"sk-text-repr-fallback\"><pre>RandomForestRegressor(max_depth=15, random_state=5325)</pre><b>In a Jupyter environment, please rerun this cell to show the HTML representation or trust the notebook. <br />On GitHub, the HTML representation is unable to render, please try loading this page with nbviewer.org.</b></div><div class=\"sk-container\" hidden><div class=\"sk-item\"><div class=\"sk-estimator sk-toggleable\"><input class=\"sk-toggleable__control sk-hidden--visually\" id=\"sk-estimator-id-8\" type=\"checkbox\" checked><label for=\"sk-estimator-id-8\" class=\"sk-toggleable__label sk-toggleable__label-arrow\">RandomForestRegressor</label><div class=\"sk-toggleable__content\"><pre>RandomForestRegressor(max_depth=15, random_state=5325)</pre></div></div></div></div></div>"
      ],
      "text/plain": [
       "RandomForestRegressor(max_depth=15, random_state=5325)"
      ]
     },
     "execution_count": 142,
     "metadata": {},
     "output_type": "execute_result"
    }
   ],
   "source": [
    "rr=RandomForestRegressor(max_depth=15,random_state=5325)\n",
    "rr.fit(xxtrain,yytrain)"
   ]
  },
  {
   "cell_type": "code",
   "execution_count": 143,
   "id": "07f5b52d",
   "metadata": {},
   "outputs": [],
   "source": [
    "rr1=rr.predict(xxtest)"
   ]
  },
  {
   "cell_type": "code",
   "execution_count": 144,
   "id": "154a4000",
   "metadata": {},
   "outputs": [],
   "source": [
    "rr2score=r2_score(yytest,rr1)"
   ]
  },
  {
   "cell_type": "code",
   "execution_count": 145,
   "id": "758ec697",
   "metadata": {},
   "outputs": [
    {
     "data": {
      "text/plain": [
       "0.5491046684784044"
      ]
     },
     "execution_count": 145,
     "metadata": {},
     "output_type": "execute_result"
    }
   ],
   "source": [
    "rr2score"
   ]
  },
  {
   "cell_type": "code",
   "execution_count": 146,
   "id": "cedd90de",
   "metadata": {},
   "outputs": [],
   "source": [
    "rmse=mean_squared_error(yytest,rr1)"
   ]
  },
  {
   "cell_type": "code",
   "execution_count": 147,
   "id": "3f5f7069",
   "metadata": {
    "scrolled": true
   },
   "outputs": [
    {
     "data": {
      "text/plain": [
       "18469.561456940384"
      ]
     },
     "execution_count": 147,
     "metadata": {},
     "output_type": "execute_result"
    }
   ],
   "source": [
    "rmse"
   ]
  },
  {
   "cell_type": "code",
   "execution_count": 148,
   "id": "98d1f561",
   "metadata": {},
   "outputs": [
    {
     "data": {
      "text/plain": [
       "0.5491046684784044"
      ]
     },
     "execution_count": 148,
     "metadata": {},
     "output_type": "execute_result"
    }
   ],
   "source": [
    "rr.score(xxtest,yytest)"
   ]
  },
  {
   "cell_type": "code",
   "execution_count": 149,
   "id": "de722110",
   "metadata": {},
   "outputs": [],
   "source": [
    "rrcrossvalscore=cross_val_score(rr,xxtrain,yytrain,cv=10).mean()"
   ]
  },
  {
   "cell_type": "code",
   "execution_count": 150,
   "id": "f3d27bb2",
   "metadata": {
    "scrolled": true
   },
   "outputs": [
    {
     "data": {
      "text/plain": [
       "0.487135866553269"
      ]
     },
     "execution_count": 150,
     "metadata": {},
     "output_type": "execute_result"
    }
   ],
   "source": [
    "rrcrossvalscore"
   ]
  },
  {
   "cell_type": "markdown",
   "id": "b2557d95",
   "metadata": {},
   "source": [
    "# xgboost - XGBRegressor :"
   ]
  },
  {
   "cell_type": "code",
   "execution_count": 152,
   "id": "59aa3c3a",
   "metadata": {},
   "outputs": [
    {
     "name": "stdout",
     "output_type": "stream",
     "text": [
      "Requirement already satisfied: xgboost in c:\\users\\windows 11\\anaconda3\\lib\\site-packages (2.0.0)\n",
      "Requirement already satisfied: scipy in c:\\users\\windows 11\\anaconda3\\lib\\site-packages (from xgboost) (1.10.0)\n",
      "Requirement already satisfied: numpy in c:\\users\\windows 11\\anaconda3\\lib\\site-packages (from xgboost) (1.23.5)\n",
      "Note: you may need to restart the kernel to use updated packages.\n"
     ]
    }
   ],
   "source": [
    "pip install xgboost"
   ]
  },
  {
   "cell_type": "code",
   "execution_count": 153,
   "id": "e8bf001c",
   "metadata": {},
   "outputs": [],
   "source": [
    "import xgboost as xgb"
   ]
  },
  {
   "cell_type": "code",
   "execution_count": 155,
   "id": "d3302568",
   "metadata": {},
   "outputs": [
    {
     "name": "stdout",
     "output_type": "stream",
     "text": [
      "lrvalue: 0.1 train score: 0.24163284725201872 crossvalscore: 0.45014836739329456\n",
      "lrvalue: 0.5 train score: 0.268408960078131 crossvalscore: 0.4752644631803585\n",
      "lrvalue: 0.7 train score: 0.27270808891746057 crossvalscore: 0.4728660978331991\n",
      "lrvalue: 0.9 train score: 0.27491325371658737 crossvalscore: 0.46939286114222745\n"
     ]
    }
   ],
   "source": [
    "lrvalue=np.array([0.1,0.5,0.7,0.9])\n",
    "crossval=[]\n",
    "for lr in lrvalue:\n",
    "                 xr=xgb.XGBRegressor(learning_rate=lr,n_estimators=100)\n",
    "                 xr.fit(xxtrain,yytrain)\n",
    "                 print('lrvalue:',lr,'train score:',xr.score(xxtrain,yytrain),'crossvalscore:',cross_val_score(xr,xxtrain,yytrain,cv=10).mean())\n",
    "                 crossval.append(cross_val_score(xr,xxtrain,yytrain,cv=10).mean())"
   ]
  },
  {
   "cell_type": "code",
   "execution_count": 156,
   "id": "bc413470",
   "metadata": {
    "scrolled": true
   },
   "outputs": [
    {
     "data": {
      "text/plain": [
       "0.4752644631803585"
      ]
     },
     "execution_count": 156,
     "metadata": {},
     "output_type": "execute_result"
    }
   ],
   "source": [
    "max(crossval)"
   ]
  },
  {
   "cell_type": "markdown",
   "id": "68eb6891",
   "metadata": {},
   "source": [
    "# IMPLEMENTING xgboost - XGBRegressor :"
   ]
  },
  {
   "cell_type": "code",
   "execution_count": 157,
   "id": "8b49d7e1",
   "metadata": {},
   "outputs": [
    {
     "data": {
      "text/html": [
       "<style>#sk-container-id-9 {color: black;background-color: white;}#sk-container-id-9 pre{padding: 0;}#sk-container-id-9 div.sk-toggleable {background-color: white;}#sk-container-id-9 label.sk-toggleable__label {cursor: pointer;display: block;width: 100%;margin-bottom: 0;padding: 0.3em;box-sizing: border-box;text-align: center;}#sk-container-id-9 label.sk-toggleable__label-arrow:before {content: \"▸\";float: left;margin-right: 0.25em;color: #696969;}#sk-container-id-9 label.sk-toggleable__label-arrow:hover:before {color: black;}#sk-container-id-9 div.sk-estimator:hover label.sk-toggleable__label-arrow:before {color: black;}#sk-container-id-9 div.sk-toggleable__content {max-height: 0;max-width: 0;overflow: hidden;text-align: left;background-color: #f0f8ff;}#sk-container-id-9 div.sk-toggleable__content pre {margin: 0.2em;color: black;border-radius: 0.25em;background-color: #f0f8ff;}#sk-container-id-9 input.sk-toggleable__control:checked~div.sk-toggleable__content {max-height: 200px;max-width: 100%;overflow: auto;}#sk-container-id-9 input.sk-toggleable__control:checked~label.sk-toggleable__label-arrow:before {content: \"▾\";}#sk-container-id-9 div.sk-estimator input.sk-toggleable__control:checked~label.sk-toggleable__label {background-color: #d4ebff;}#sk-container-id-9 div.sk-label input.sk-toggleable__control:checked~label.sk-toggleable__label {background-color: #d4ebff;}#sk-container-id-9 input.sk-hidden--visually {border: 0;clip: rect(1px 1px 1px 1px);clip: rect(1px, 1px, 1px, 1px);height: 1px;margin: -1px;overflow: hidden;padding: 0;position: absolute;width: 1px;}#sk-container-id-9 div.sk-estimator {font-family: monospace;background-color: #f0f8ff;border: 1px dotted black;border-radius: 0.25em;box-sizing: border-box;margin-bottom: 0.5em;}#sk-container-id-9 div.sk-estimator:hover {background-color: #d4ebff;}#sk-container-id-9 div.sk-parallel-item::after {content: \"\";width: 100%;border-bottom: 1px solid gray;flex-grow: 1;}#sk-container-id-9 div.sk-label:hover label.sk-toggleable__label {background-color: #d4ebff;}#sk-container-id-9 div.sk-serial::before {content: \"\";position: absolute;border-left: 1px solid gray;box-sizing: border-box;top: 0;bottom: 0;left: 50%;z-index: 0;}#sk-container-id-9 div.sk-serial {display: flex;flex-direction: column;align-items: center;background-color: white;padding-right: 0.2em;padding-left: 0.2em;position: relative;}#sk-container-id-9 div.sk-item {position: relative;z-index: 1;}#sk-container-id-9 div.sk-parallel {display: flex;align-items: stretch;justify-content: center;background-color: white;position: relative;}#sk-container-id-9 div.sk-item::before, #sk-container-id-9 div.sk-parallel-item::before {content: \"\";position: absolute;border-left: 1px solid gray;box-sizing: border-box;top: 0;bottom: 0;left: 50%;z-index: -1;}#sk-container-id-9 div.sk-parallel-item {display: flex;flex-direction: column;z-index: 1;position: relative;background-color: white;}#sk-container-id-9 div.sk-parallel-item:first-child::after {align-self: flex-end;width: 50%;}#sk-container-id-9 div.sk-parallel-item:last-child::after {align-self: flex-start;width: 50%;}#sk-container-id-9 div.sk-parallel-item:only-child::after {width: 0;}#sk-container-id-9 div.sk-dashed-wrapped {border: 1px dashed gray;margin: 0 0.4em 0.5em 0.4em;box-sizing: border-box;padding-bottom: 0.4em;background-color: white;}#sk-container-id-9 div.sk-label label {font-family: monospace;font-weight: bold;display: inline-block;line-height: 1.2em;}#sk-container-id-9 div.sk-label-container {text-align: center;}#sk-container-id-9 div.sk-container {/* jupyter's `normalize.less` sets `[hidden] { display: none; }` but bootstrap.min.css set `[hidden] { display: none !important; }` so we also need the `!important` here to be able to override the default hidden behavior on the sphinx rendered scikit-learn.org. See: https://github.com/scikit-learn/scikit-learn/issues/21755 */display: inline-block !important;position: relative;}#sk-container-id-9 div.sk-text-repr-fallback {display: none;}</style><div id=\"sk-container-id-9\" class=\"sk-top-container\"><div class=\"sk-text-repr-fallback\"><pre>XGBRegressor(base_score=None, booster=None, callbacks=None,\n",
       "             colsample_bylevel=None, colsample_bynode=None,\n",
       "             colsample_bytree=None, device=None, early_stopping_rounds=None,\n",
       "             enable_categorical=False, eval_metric=None, feature_types=None,\n",
       "             gamma=None, grow_policy=None, importance_type=None,\n",
       "             interaction_constraints=None, learning_rate=0.5, max_bin=None,\n",
       "             max_cat_threshold=None, max_cat_to_onehot=None,\n",
       "             max_delta_step=None, max_depth=None, max_leaves=None,\n",
       "             min_child_weight=None, missing=nan, monotone_constraints=None,\n",
       "             multi_strategy=None, n_estimators=100, n_jobs=None,\n",
       "             num_parallel_tree=None, random_state=None, ...)</pre><b>In a Jupyter environment, please rerun this cell to show the HTML representation or trust the notebook. <br />On GitHub, the HTML representation is unable to render, please try loading this page with nbviewer.org.</b></div><div class=\"sk-container\" hidden><div class=\"sk-item\"><div class=\"sk-estimator sk-toggleable\"><input class=\"sk-toggleable__control sk-hidden--visually\" id=\"sk-estimator-id-9\" type=\"checkbox\" checked><label for=\"sk-estimator-id-9\" class=\"sk-toggleable__label sk-toggleable__label-arrow\">XGBRegressor</label><div class=\"sk-toggleable__content\"><pre>XGBRegressor(base_score=None, booster=None, callbacks=None,\n",
       "             colsample_bylevel=None, colsample_bynode=None,\n",
       "             colsample_bytree=None, device=None, early_stopping_rounds=None,\n",
       "             enable_categorical=False, eval_metric=None, feature_types=None,\n",
       "             gamma=None, grow_policy=None, importance_type=None,\n",
       "             interaction_constraints=None, learning_rate=0.5, max_bin=None,\n",
       "             max_cat_threshold=None, max_cat_to_onehot=None,\n",
       "             max_delta_step=None, max_depth=None, max_leaves=None,\n",
       "             min_child_weight=None, missing=nan, monotone_constraints=None,\n",
       "             multi_strategy=None, n_estimators=100, n_jobs=None,\n",
       "             num_parallel_tree=None, random_state=None, ...)</pre></div></div></div></div></div>"
      ],
      "text/plain": [
       "XGBRegressor(base_score=None, booster=None, callbacks=None,\n",
       "             colsample_bylevel=None, colsample_bynode=None,\n",
       "             colsample_bytree=None, device=None, early_stopping_rounds=None,\n",
       "             enable_categorical=False, eval_metric=None, feature_types=None,\n",
       "             gamma=None, grow_policy=None, importance_type=None,\n",
       "             interaction_constraints=None, learning_rate=0.5, max_bin=None,\n",
       "             max_cat_threshold=None, max_cat_to_onehot=None,\n",
       "             max_delta_step=None, max_depth=None, max_leaves=None,\n",
       "             min_child_weight=None, missing=nan, monotone_constraints=None,\n",
       "             multi_strategy=None, n_estimators=100, n_jobs=None,\n",
       "             num_parallel_tree=None, random_state=None, ...)"
      ]
     },
     "execution_count": 157,
     "metadata": {},
     "output_type": "execute_result"
    }
   ],
   "source": [
    "xr=xgb.XGBRegressor(learning_rate=0.5,n_estimators=100)\n",
    "xr.fit(xxtrain,yytrain)"
   ]
  },
  {
   "cell_type": "code",
   "execution_count": 158,
   "id": "8a3da945",
   "metadata": {},
   "outputs": [],
   "source": [
    "xr1=xr.predict(xxtest)"
   ]
  },
  {
   "cell_type": "code",
   "execution_count": 159,
   "id": "a4d02f51",
   "metadata": {},
   "outputs": [],
   "source": [
    "xr2score=r2_score(yytest,xr1)"
   ]
  },
  {
   "cell_type": "code",
   "execution_count": 160,
   "id": "714232ed",
   "metadata": {},
   "outputs": [
    {
     "data": {
      "text/plain": [
       "0.5369168742201827"
      ]
     },
     "execution_count": 160,
     "metadata": {},
     "output_type": "execute_result"
    }
   ],
   "source": [
    "xr2score"
   ]
  },
  {
   "cell_type": "code",
   "execution_count": 161,
   "id": "6ad3d624",
   "metadata": {},
   "outputs": [],
   "source": [
    "xmse=mean_squared_error(yytest,xr1)"
   ]
  },
  {
   "cell_type": "code",
   "execution_count": 162,
   "id": "ca3784f8",
   "metadata": {
    "scrolled": true
   },
   "outputs": [
    {
     "data": {
      "text/plain": [
       "18968.797530902684"
      ]
     },
     "execution_count": 162,
     "metadata": {},
     "output_type": "execute_result"
    }
   ],
   "source": [
    "xmse"
   ]
  },
  {
   "cell_type": "code",
   "execution_count": 163,
   "id": "f42d2688",
   "metadata": {},
   "outputs": [
    {
     "data": {
      "text/plain": [
       "0.5369168742201827"
      ]
     },
     "execution_count": 163,
     "metadata": {},
     "output_type": "execute_result"
    }
   ],
   "source": [
    "xr.score(xxtest,yytest)"
   ]
  },
  {
   "cell_type": "code",
   "execution_count": 166,
   "id": "933de0e3",
   "metadata": {},
   "outputs": [],
   "source": [
    "xrcrossvalscore=cross_val_score(xr,xxtrain,yytrain,cv=10).mean()"
   ]
  },
  {
   "cell_type": "code",
   "execution_count": 167,
   "id": "16c54010",
   "metadata": {},
   "outputs": [
    {
     "data": {
      "text/plain": [
       "0.4752644631803585"
      ]
     },
     "execution_count": 167,
     "metadata": {},
     "output_type": "execute_result"
    }
   ],
   "source": [
    "xrcrossvalscore"
   ]
  },
  {
   "cell_type": "markdown",
   "id": "d34a7c39",
   "metadata": {},
   "source": [
    "# EVALUATION METRIC FOR CLASSIFIER ALGORITHM :"
   ]
  },
  {
   "cell_type": "markdown",
   "id": "8f9e56ee",
   "metadata": {},
   "source": [
    "# RE-CALL VALUE  OF MACHINE LEARNING MODELS :"
   ]
  },
  {
   "cell_type": "code",
   "execution_count": 172,
   "id": "0dafae0d",
   "metadata": {},
   "outputs": [
    {
     "name": "stdout",
     "output_type": "stream",
     "text": [
      "Re-Call Value for K-Nearest Neighbors Classifier Model: 0.5089584850691915\n",
      "Re-Call Value for Decision Tree Classifier Model:  0.4989075018208303\n",
      "Re-Calln Value for Random Forest Classifier Model:  0.6608885651857247\n",
      "Re-Call Value for Extreme-Gradient Boosting Classifier Model:  0.6687545520757465\n"
     ]
    }
   ],
   "source": [
    "print(\"Re-Call Value for K-Nearest Neighbors Classifier Model:\",knnrs)\n",
    "print(\"Re-Call Value for Decision Tree Classifier Model: \",drs)\n",
    "print(\"Re-Calln Value for Random Forest Classifier Model: \",rrs)\n",
    "print(\"Re-Call Value for Extreme-Gradient Boosting Classifier Model: \",xrs)"
   ]
  },
  {
   "cell_type": "markdown",
   "id": "f8b461e1",
   "metadata": {},
   "source": [
    "# AUC VALUE  OF MACHINE LEARNING MODELS :"
   ]
  },
  {
   "cell_type": "code",
   "execution_count": 173,
   "id": "becce793",
   "metadata": {},
   "outputs": [
    {
     "name": "stdout",
     "output_type": "stream",
     "text": [
      "AUC Score for K-Nearest Neighbors Classifier Model: 0.7321541618026259\n",
      "AUC Score for Decision Tree Classifier Model:  0.7247390038705873\n",
      "AUC Score for Random Forest Classifier Model:  0.806267748685435\n",
      "AUC Score for Extreme-Gradient Boosting Classifier Model:  0.807918718449068\n"
     ]
    }
   ],
   "source": [
    "print(\"AUC Score for K-Nearest Neighbors Classifier Model:\",knnauc)\n",
    "print(\"AUC Score for Decision Tree Classifier Model: \",dauc)\n",
    "print(\"AUC Score for Random Forest Classifier Model: \",rauc)\n",
    "print(\"AUC Score for Extreme-Gradient Boosting Classifier Model: \",xauc)"
   ]
  },
  {
   "cell_type": "markdown",
   "id": "d4732513",
   "metadata": {},
   "source": [
    "# PRECISION VALUE  OF MACHINE LEARNING MODELS :"
   ]
  },
  {
   "cell_type": "code",
   "execution_count": 174,
   "id": "664615c0",
   "metadata": {},
   "outputs": [
    {
     "name": "stdout",
     "output_type": "stream",
     "text": [
      "Precision Value Score for K-Nearest Neighbors Classifier Model: 0.7711322003972633\n",
      "Precision Value Score for Decision Tree Classifier Model:  0.7489612945549967\n",
      "Precision Value Score for Random Forest Classifier Model:  0.8015901060070671\n",
      "Precision Value Score for Extreme-Gradient Boosting Classifier Model:  0.7888316151202749\n"
     ]
    }
   ],
   "source": [
    "print(\"Precision Value Score for K-Nearest Neighbors Classifier Model:\",knnps)\n",
    "print(\"Precision Value Score for Decision Tree Classifier Model: \",dps)\n",
    "print(\"Precision Value Score for Random Forest Classifier Model: \",rps)\n",
    "print(\"Precision Value Score for Extreme-Gradient Boosting Classifier Model: \",xps)"
   ]
  },
  {
   "cell_type": "markdown",
   "id": "25676210",
   "metadata": {},
   "source": [
    "# CROSS VALUE SCORE OF MACHINE LEARNING MODELS :"
   ]
  },
  {
   "cell_type": "code",
   "execution_count": 186,
   "id": "1d9f972b",
   "metadata": {},
   "outputs": [
    {
     "name": "stdout",
     "output_type": "stream",
     "text": [
      "Cross Validation Score for K-Nearest Neighbors Classifier Model: 0.8497066983511452\n",
      "Cross Validation Score for Decision Tree Classifier Model:  0.8472307575266169\n",
      "Cross Validation Score for Random Forest Classifier Model:  0.8813290028819509\n",
      "Cross Validation Score for Extreme-Gradient Boosting Classifier Model:  0.880764022122485\n"
     ]
    }
   ],
   "source": [
    "print(\"Cross Validation Score for K-Nearest Neighbors Classifier Model:\",kcrossvalue)\n",
    "print(\"Cross Validation Score for Decision Tree Classifier Model: \",dcrossvalue)\n",
    "print(\"Cross Validation Score for Random Forest Classifier Model: \",rcrossvalue)\n",
    "print(\"Cross Validation Score for Extreme-Gradient Boosting Classifier Model: \",xcrossvalscore)"
   ]
  },
  {
   "cell_type": "markdown",
   "id": "d4bb3cfd",
   "metadata": {},
   "source": [
    "# ACCURACY SCORE OF MACHINE LEARNING MODELS :"
   ]
  },
  {
   "cell_type": "code",
   "execution_count": 176,
   "id": "411ced1a",
   "metadata": {
    "scrolled": true
   },
   "outputs": [
    {
     "name": "stdout",
     "output_type": "stream",
     "text": [
      "Accuracy Score for K-Nearest Neighbors Classifier Model: 0.8535061482220007\n",
      "Accuracy Score for Decision Tree Classifier Model:  0.8475240943835162\n",
      "Accuracy Score for Random Forest Classifier Model:  0.8853107344632768\n",
      "Accuracy Score for Extreme-Gradient Boosting Classifier Model:  0.8835825855766035\n"
     ]
    }
   ],
   "source": [
    "print(\"Accuracy Score for K-Nearest Neighbors Classifier Model:\",knnas)\n",
    "print(\"Accuracy Score for Decision Tree Classifier Model: \",das)\n",
    "print(\"Accuracy Score for Random Forest Classifier Model: \",ras)\n",
    "print(\"Accuracy Score for Extreme-Gradient Boosting Classifier Model: \",xas)"
   ]
  },
  {
   "cell_type": "markdown",
   "id": "c7b320c4",
   "metadata": {},
   "source": [
    "# EVALUATION METRIC FOR REGRESSION ALGORITHM :"
   ]
  },
  {
   "cell_type": "markdown",
   "id": "5e10aaab",
   "metadata": {},
   "source": [
    "# R2 SCORE FOR MACHINE LEARNING MODELS :"
   ]
  },
  {
   "cell_type": "code",
   "execution_count": 177,
   "id": "622d2ef6",
   "metadata": {},
   "outputs": [
    {
     "name": "stdout",
     "output_type": "stream",
     "text": [
      "r2_score score for linear regressor : 0.08286832558286206\n",
      "r2_score score for knn regressor : 0.464971216780835\n",
      "r2_score score for Decision Tree regressor : 0.4507897178796001\n",
      "r2_score score for Random forest regressor : 0.5491046684784044\n",
      "r2_score score for ExtremeGradientBoosting regressor : 0.5369168742201827\n"
     ]
    }
   ],
   "source": [
    "print('r2_score score for linear regressor :',lr2score)\n",
    "print('r2_score score for knn regressor :',knnr2score)\n",
    "print('r2_score score for Decision Tree regressor :',dr2score)\n",
    "print('r2_score score for Random forest regressor :',rr2score)\n",
    "print('r2_score score for ExtremeGradientBoosting regressor :',xr2score)"
   ]
  },
  {
   "cell_type": "markdown",
   "id": "380dd428",
   "metadata": {},
   "source": [
    "# MSE  FOR MACHINE LEARNING MODELS : "
   ]
  },
  {
   "cell_type": "code",
   "execution_count": 178,
   "id": "69f99da1",
   "metadata": {},
   "outputs": [
    {
     "name": "stdout",
     "output_type": "stream",
     "text": [
      "MSE_score score for linear regressor : 37567.52097563617\n",
      "MSE_score score for knn regressor : 21915.833458624125\n",
      "MSE_score score for Decision Tree regressor : 22496.735604193018\n",
      "MSE_score score for Random forest regressor : 18469.561456940384\n",
      "MSE_score score for ExtremeGradientBoosting regressor : 18968.797530902684\n"
     ]
    }
   ],
   "source": [
    "print('MSE_score score for linear regressor :',lmse)\n",
    "print('MSE_score score for knn regressor :',knnmse)\n",
    "print('MSE_score score for Decision Tree regressor :',dmse)\n",
    "print('MSE_score score for Random forest regressor :',rmse)\n",
    "print('MSE_score score for ExtremeGradientBoosting regressor :',xmse)"
   ]
  },
  {
   "cell_type": "markdown",
   "id": "9c6a6213",
   "metadata": {},
   "source": [
    "# CROSS VALUE SCORE OF MACHINE LEARNING MODELS :"
   ]
  },
  {
   "cell_type": "code",
   "execution_count": 179,
   "id": "377d78f5",
   "metadata": {},
   "outputs": [
    {
     "name": "stdout",
     "output_type": "stream",
     "text": [
      "Cross Validation Score for linear regressor : -0.2639219141445252\n",
      "Cross Validation Score for knn regressor : 0.4130159334288231\n",
      "Cross Validation Score for Decision Tree regressor : 0.3966881730097441\n",
      "Cross Validation Scorer2_score score for Random forest regressor : 0.487135866553269\n",
      "Cross Validation Score for ExtremeGradientBoosting regressor : 0.4752644631803585\n"
     ]
    }
   ],
   "source": [
    "print('Cross Validation Score for linear regressor :',lrcrossvalscore)\n",
    "print('Cross Validation Score for knn regressor :',knnrcrossvalscore)\n",
    "print('Cross Validation Score for Decision Tree regressor :',drcrossvalscore)\n",
    "print('Cross Validation Scorer2_score score for Random forest regressor :',rrcrossvalscore)\n",
    "print('Cross Validation Score for ExtremeGradientBoosting regressor :',xrcrossvalscore)"
   ]
  },
  {
   "cell_type": "markdown",
   "id": "f6ec2d37",
   "metadata": {},
   "source": [
    "# The best model depending on the evaluation metric scores is found out to be the Extreme-Gradient Boosting Classifier in Classifier division.\n",
    "## IMPORTANT FEATURES :"
   ]
  },
  {
   "cell_type": "code",
   "execution_count": 187,
   "id": "8278283d",
   "metadata": {},
   "outputs": [
    {
     "data": {
      "text/plain": [
       "array([0.08847454, 0.19742666, 0.4021373 , 0.1816068 , 0.03607508,\n",
       "       0.02749687, 0.06678277], dtype=float32)"
      ]
     },
     "execution_count": 187,
     "metadata": {},
     "output_type": "execute_result"
    }
   ],
   "source": [
    "x.feature_importances_"
   ]
  },
  {
   "cell_type": "code",
   "execution_count": 188,
   "id": "9becb044",
   "metadata": {
    "scrolled": false
   },
   "outputs": [
    {
     "data": {
      "image/png": "[encoded data removed]",
      "text/plain": [
       "<Figure size 1000x800 with 1 Axes>"
      ]
     },
     "metadata": {},
     "output_type": "display_data"
    }
   ],
   "source": [
    "sorted_idx = x.feature_importances_.argsort()\n",
    "plt.figure(figsize=(10,8))\n",
    "plt.barh(df.columns[sorted_idx], x.feature_importances_[sorted_idx])\n",
    "# plt.xlabel(\"Random Forest Feature Importance\")\n",
    "# plt.title(\"Feature Importance\")\n",
    "plt.show()"
   ]
  },
  {
   "cell_type": "markdown",
   "id": "2d3de0fa",
   "metadata": {},
   "source": [
    "# Suggestions to Companies looking for People to undertake Insurance:"
   ]
  },
  {
   "cell_type": "markdown",
   "id": "72ced49e",
   "metadata": {},
   "source": [
    "# Based on the feature importance given by Best Machine Learning Algorithm(Extreme-Gradient Boosting Classifier)-Companies who's looking for people for insurance undertaking should Focus on the features of order given below :\n",
    "\n",
    "#### Previous Outcome \n",
    "##### Call type\n",
    "##### Duration\n",
    "##### Month\n",
    "##### Day\n",
    "###### Age\n",
    "###### Marital\n",
    "###### Jobs \n",
    "###### All other amenities equally affects accordingly"
   ]
  },
  {
   "cell_type": "markdown",
   "id": "de442304",
   "metadata": {},
   "source": [
    "# The best model depending on the evaluation metric scores is found out to be the Random forest regressor in regressor division."
   ]
  },
  {
   "cell_type": "markdown",
   "id": "3d6d456f",
   "metadata": {},
   "source": [
    "# IMPORTANT FEATURES :"
   ]
  },
  {
   "cell_type": "code",
   "execution_count": 191,
   "id": "479a590e",
   "metadata": {},
   "outputs": [
    {
     "data": {
      "text/plain": [
       "array([0.15394279, 0.07726494, 0.02865527, 0.03285772, 0.03217868,\n",
       "       0.11159803, 0.56350256])"
      ]
     },
     "execution_count": 191,
     "metadata": {},
     "output_type": "execute_result"
    }
   ],
   "source": [
    "rr.feature_importances_"
   ]
  },
  {
   "cell_type": "code",
   "execution_count": 192,
   "id": "298abe21",
   "metadata": {},
   "outputs": [
    {
     "data": {
      "image/png": "[encoded data removed]",
      "text/plain": [
       "<Figure size 2500x2000 with 1 Axes>"
      ]
     },
     "metadata": {},
     "output_type": "display_data"
    }
   ],
   "source": [
    "sorted_idx = rr.feature_importances_.argsort()\n",
    "plt.figure(figsize=(25,20))\n",
    "plt.barh(df.columns[sorted_idx], rr.feature_importances_[sorted_idx])\n",
    "# plt.xlabel(\"Random Forest Feature Importance\")\n",
    "# plt.title(\"Feature Importance\")\n",
    "plt.show()"
   ]
  },
  {
   "cell_type": "markdown",
   "id": "f811912d",
   "metadata": {},
   "source": [
    "# Suggestions to Predict Chennai House Price:\n",
    "## Based on the feature importance given by Best Machine Learning Algorithm(Extreme Gradient Boosting)-Person who's looking for Chennai house price value should Focus on the features of order given below to predict the Price value of the house :\n",
    "### 1.Utility Availability\n",
    "#### 2.Area\n",
    "##### 3.No. of Bedrooms\n",
    "###### 4.Date Sold\n",
    "###### 5.Parking Facility\n",
    "###### 6.Sq.ft Area\n",
    "###### 7.No. of Bathrooms\n",
    "###### All other amenities also equally affects the house prices. "
   ]
  },
  {
   "cell_type": "code",
   "execution_count": null,
   "id": "d1cd8848",
   "metadata": {},
   "outputs": [],
   "source": []
  }
 ],
 "metadata": {
  "kernelspec": {
   "display_name": "Python 3 (ipykernel)",
   "language": "python",
   "name": "python3"
  },
  "language_info": {
   "codemirror_mode": {
    "name": "ipython",
    "version": 3
   },
   "file_extension": ".py",
   "mimetype": "text/x-python",
   "name": "python",
   "nbconvert_exporter": "python",
   "pygments_lexer": "ipython3",
   "version": "3.10.9"
  }
 },
 "nbformat": 4,
 "nbformat_minor": 5
}
